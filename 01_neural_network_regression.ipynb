{
  "cells": [
    {
      "cell_type": "markdown",
      "metadata": {
        "id": "view-in-github",
        "colab_type": "text"
      },
      "source": [
        "<a href=\"https://colab.research.google.com/github/jescalada/Tensorflow-colabs/blob/main/01_neural_network_regression.ipynb\" target=\"_parent\"><img src=\"https://colab.research.google.com/assets/colab-badge.svg\" alt=\"Open In Colab\"/></a>"
      ]
    },
    {
      "cell_type": "markdown",
      "metadata": {
        "id": "BfGeWJvWopuE"
      },
      "source": [
        "# Introduction to regression with neural networks in TensorFlow\n",
        "There are many definitions for a regression problem. We will simplify to: Predicting a numerical variable based on a combination of other variables."
      ]
    },
    {
      "cell_type": "code",
      "execution_count": 8,
      "metadata": {
        "colab": {
          "base_uri": "https://localhost:8080/"
        },
        "id": "o1uyTOnVofm9",
        "outputId": "7a0924ac-7de9-4009-bd6f-c3ce5bca5aa8"
      },
      "outputs": [
        {
          "output_type": "stream",
          "name": "stdout",
          "text": [
            "2.12.0\n"
          ]
        }
      ],
      "source": [
        "# Import TensorFlow\n",
        "import tensorflow as tf\n",
        "print(tf.__version__)"
      ]
    },
    {
      "cell_type": "code",
      "execution_count": 9,
      "metadata": {
        "colab": {
          "base_uri": "https://localhost:8080/",
          "height": 452
        },
        "id": "azUrZERFpMBk",
        "outputId": "6a9f6d95-78e8-4bfb-e141-1f6b6c695ed9"
      },
      "outputs": [
        {
          "output_type": "execute_result",
          "data": {
            "text/plain": [
              "<matplotlib.collections.PathCollection at 0x7f79709a5210>"
            ]
          },
          "metadata": {},
          "execution_count": 9
        },
        {
          "output_type": "display_data",
          "data": {
            "text/plain": [
              "<Figure size 640x480 with 1 Axes>"
            ],
            "image/png": "[encoded data removed]"
          },
          "metadata": {}
        }
      ],
      "source": [
        "# Create some data to view and fit\n",
        "import numpy as np\n",
        "import matplotlib.pyplot as plt\n",
        "\n",
        "# Create features\n",
        "X = np.array([-13., -8., -4., -1., 1., 3., 6., 9., 13., 18., 24, 33])\n",
        "\n",
        "# Create labels\n",
        "y = np.array([2., 4., 6., 8., 10., 12., 14., 16., 18., 20., 22., 24.])\n",
        "\n",
        "plt.scatter(X, y)"
      ]
    },
    {
      "cell_type": "markdown",
      "metadata": {
        "id": "1ktyelHCqk1i"
      },
      "source": [
        "# Input and output shapes\n"
      ]
    },
    {
      "cell_type": "code",
      "execution_count": 10,
      "metadata": {
        "colab": {
          "base_uri": "https://localhost:8080/"
        },
        "id": "uBiddG9FqoWy",
        "outputId": "8a04eb63-14af-41c1-9daa-fd1d8bcccbb9"
      },
      "outputs": [
        {
          "output_type": "execute_result",
          "data": {
            "text/plain": [
              "(<tf.Tensor: shape=(3,), dtype=string, numpy=array([b'beds', b'baths', b'garages'], dtype=object)>,\n",
              " <tf.Tensor: shape=(1,), dtype=int32, numpy=array([939700], dtype=int32)>)"
            ]
          },
          "metadata": {},
          "execution_count": 10
        }
      ],
      "source": [
        "# Create a demo tensor to predict the price of a house\n",
        "house_info = tf.constant([\"beds\", \"baths\", \"garages\"])\n",
        "house_price = tf.constant([939700])\n",
        "house_info, house_price"
      ]
    },
    {
      "cell_type": "markdown",
      "metadata": {
        "id": "ENu75gN81lJk"
      },
      "source": [
        "# Steps in modelling with TensorFlow\n",
        "1. **Creating a model**: Define the input and output layers, as well as the hidden layers of the deep learning model\n",
        "2. **Compiling the model**: Define the **loss function**, which tells the model how wrong it is, define the **optimizer** which tells the model how to improve the patterns, and define **evaluation metrics** in order to interpret the performance of the model itself\n",
        "3. **Fitting the model**: Letting the model try to find patterns between X and Y (Features and labels)"
      ]
    },
    {
      "cell_type": "code",
      "execution_count": 11,
      "metadata": {
        "colab": {
          "base_uri": "https://localhost:8080/"
        },
        "id": "GIo__aM62tlm",
        "outputId": "7773ec7d-10ed-4ca0-b6c9-8a17434bd6f1"
      },
      "outputs": [
        {
          "output_type": "stream",
          "name": "stdout",
          "text": [
            "Epoch 1/100\n",
            "1/1 [==============================] - 1s 753ms/step - loss: 11.7649 - mae: 11.7649\n",
            "Epoch 2/100\n",
            "1/1 [==============================] - 0s 14ms/step - loss: 11.2993 - mae: 11.2993\n",
            "Epoch 3/100\n",
            "1/1 [==============================] - 0s 12ms/step - loss: 10.8337 - mae: 10.8337\n",
            "Epoch 4/100\n",
            "1/1 [==============================] - 0s 12ms/step - loss: 10.3681 - mae: 10.3681\n",
            "Epoch 5/100\n",
            "1/1 [==============================] - 0s 14ms/step - loss: 9.9024 - mae: 9.9024\n",
            "Epoch 6/100\n",
            "1/1 [==============================] - 0s 10ms/step - loss: 9.4368 - mae: 9.4368\n",
            "Epoch 7/100\n",
            "1/1 [==============================] - 0s 9ms/step - loss: 8.9712 - mae: 8.9712\n",
            "Epoch 8/100\n",
            "1/1 [==============================] - 0s 12ms/step - loss: 8.5056 - mae: 8.5056\n",
            "Epoch 9/100\n",
            "1/1 [==============================] - 0s 11ms/step - loss: 8.0399 - mae: 8.0399\n",
            "Epoch 10/100\n",
            "1/1 [==============================] - 0s 9ms/step - loss: 7.9369 - mae: 7.9369\n",
            "Epoch 11/100\n",
            "1/1 [==============================] - 0s 8ms/step - loss: 7.9143 - mae: 7.9143\n",
            "Epoch 12/100\n",
            "1/1 [==============================] - 0s 8ms/step - loss: 7.8918 - mae: 7.8918\n",
            "Epoch 13/100\n",
            "1/1 [==============================] - 0s 9ms/step - loss: 7.8692 - mae: 7.8692\n",
            "Epoch 14/100\n",
            "1/1 [==============================] - 0s 11ms/step - loss: 7.8466 - mae: 7.8466\n",
            "Epoch 15/100\n",
            "1/1 [==============================] - 0s 12ms/step - loss: 7.8241 - mae: 7.8241\n",
            "Epoch 16/100\n",
            "1/1 [==============================] - 0s 13ms/step - loss: 7.8015 - mae: 7.8015\n",
            "Epoch 17/100\n",
            "1/1 [==============================] - 0s 10ms/step - loss: 7.7789 - mae: 7.7789\n",
            "Epoch 18/100\n",
            "1/1 [==============================] - 0s 10ms/step - loss: 7.7564 - mae: 7.7564\n",
            "Epoch 19/100\n",
            "1/1 [==============================] - 0s 10ms/step - loss: 7.7338 - mae: 7.7338\n",
            "Epoch 20/100\n",
            "1/1 [==============================] - 0s 9ms/step - loss: 7.7353 - mae: 7.7353\n",
            "Epoch 21/100\n",
            "1/1 [==============================] - 0s 11ms/step - loss: 7.7400 - mae: 7.7400\n",
            "Epoch 22/100\n",
            "1/1 [==============================] - 0s 9ms/step - loss: 7.7175 - mae: 7.7175\n",
            "Epoch 23/100\n",
            "1/1 [==============================] - 0s 9ms/step - loss: 7.7129 - mae: 7.7129\n",
            "Epoch 24/100\n",
            "1/1 [==============================] - 0s 16ms/step - loss: 7.7237 - mae: 7.7237\n",
            "Epoch 25/100\n",
            "1/1 [==============================] - 0s 15ms/step - loss: 7.7011 - mae: 7.7011\n",
            "Epoch 26/100\n",
            "1/1 [==============================] - 0s 17ms/step - loss: 7.6905 - mae: 7.6905\n",
            "Epoch 27/100\n",
            "1/1 [==============================] - 0s 10ms/step - loss: 7.7074 - mae: 7.7074\n",
            "Epoch 28/100\n",
            "1/1 [==============================] - 0s 11ms/step - loss: 7.6848 - mae: 7.6848\n",
            "Epoch 29/100\n",
            "1/1 [==============================] - 0s 10ms/step - loss: 7.6680 - mae: 7.6680\n",
            "Epoch 30/100\n",
            "1/1 [==============================] - 0s 10ms/step - loss: 7.6911 - mae: 7.6911\n",
            "Epoch 31/100\n",
            "1/1 [==============================] - 0s 10ms/step - loss: 7.6685 - mae: 7.6685\n",
            "Epoch 32/100\n",
            "1/1 [==============================] - 0s 12ms/step - loss: 7.6459 - mae: 7.6459\n",
            "Epoch 33/100\n",
            "1/1 [==============================] - 0s 11ms/step - loss: 7.6744 - mae: 7.6744\n",
            "Epoch 34/100\n",
            "1/1 [==============================] - 0s 9ms/step - loss: 7.6522 - mae: 7.6522\n",
            "Epoch 35/100\n",
            "1/1 [==============================] - 0s 10ms/step - loss: 7.6296 - mae: 7.6296\n",
            "Epoch 36/100\n",
            "1/1 [==============================] - 0s 10ms/step - loss: 7.6520 - mae: 7.6520\n",
            "Epoch 37/100\n",
            "1/1 [==============================] - 0s 9ms/step - loss: 7.6359 - mae: 7.6359\n",
            "Epoch 38/100\n",
            "1/1 [==============================] - 0s 8ms/step - loss: 7.6133 - mae: 7.6133\n",
            "Epoch 39/100\n",
            "1/1 [==============================] - 0s 10ms/step - loss: 7.6296 - mae: 7.6296\n",
            "Epoch 40/100\n",
            "1/1 [==============================] - 0s 9ms/step - loss: 7.6195 - mae: 7.6195\n",
            "Epoch 41/100\n",
            "1/1 [==============================] - 0s 9ms/step - loss: 7.5970 - mae: 7.5970\n",
            "Epoch 42/100\n",
            "1/1 [==============================] - 0s 10ms/step - loss: 7.6071 - mae: 7.6071\n",
            "Epoch 43/100\n",
            "1/1 [==============================] - 0s 8ms/step - loss: 7.6032 - mae: 7.6032\n",
            "Epoch 44/100\n",
            "1/1 [==============================] - 0s 9ms/step - loss: 7.5807 - mae: 7.5807\n",
            "Epoch 45/100\n",
            "1/1 [==============================] - 0s 8ms/step - loss: 7.5847 - mae: 7.5847\n",
            "Epoch 46/100\n",
            "1/1 [==============================] - 0s 8ms/step - loss: 7.5869 - mae: 7.5869\n",
            "Epoch 47/100\n",
            "1/1 [==============================] - 0s 10ms/step - loss: 7.5643 - mae: 7.5643\n",
            "Epoch 48/100\n",
            "1/1 [==============================] - 0s 16ms/step - loss: 7.5623 - mae: 7.5623\n",
            "Epoch 49/100\n",
            "1/1 [==============================] - 0s 12ms/step - loss: 7.5706 - mae: 7.5706\n",
            "Epoch 50/100\n",
            "1/1 [==============================] - 0s 13ms/step - loss: 7.5480 - mae: 7.5480\n",
            "Epoch 51/100\n",
            "1/1 [==============================] - 0s 10ms/step - loss: 7.5398 - mae: 7.5398\n",
            "Epoch 52/100\n",
            "1/1 [==============================] - 0s 12ms/step - loss: 7.5543 - mae: 7.5543\n",
            "Epoch 53/100\n",
            "1/1 [==============================] - 0s 13ms/step - loss: 7.5317 - mae: 7.5317\n",
            "Epoch 54/100\n",
            "1/1 [==============================] - 0s 17ms/step - loss: 7.5174 - mae: 7.5174\n",
            "Epoch 55/100\n",
            "1/1 [==============================] - 0s 17ms/step - loss: 7.5380 - mae: 7.5380\n",
            "Epoch 56/100\n",
            "1/1 [==============================] - 0s 16ms/step - loss: 7.5154 - mae: 7.5154\n",
            "Epoch 57/100\n",
            "1/1 [==============================] - 0s 12ms/step - loss: 7.4950 - mae: 7.4950\n",
            "Epoch 58/100\n",
            "1/1 [==============================] - 0s 10ms/step - loss: 7.5216 - mae: 7.5216\n",
            "Epoch 59/100\n",
            "1/1 [==============================] - 0s 10ms/step - loss: 7.4991 - mae: 7.4991\n",
            "Epoch 60/100\n",
            "1/1 [==============================] - 0s 11ms/step - loss: 7.4765 - mae: 7.4765\n",
            "Epoch 61/100\n",
            "1/1 [==============================] - 0s 12ms/step - loss: 7.5014 - mae: 7.5014\n",
            "Epoch 62/100\n",
            "1/1 [==============================] - 0s 10ms/step - loss: 7.4827 - mae: 7.4827\n",
            "Epoch 63/100\n",
            "1/1 [==============================] - 0s 9ms/step - loss: 7.4602 - mae: 7.4602\n",
            "Epoch 64/100\n",
            "1/1 [==============================] - 0s 10ms/step - loss: 7.4789 - mae: 7.4789\n",
            "Epoch 65/100\n",
            "1/1 [==============================] - 0s 10ms/step - loss: 7.4664 - mae: 7.4664\n",
            "Epoch 66/100\n",
            "1/1 [==============================] - 0s 10ms/step - loss: 7.4439 - mae: 7.4439\n",
            "Epoch 67/100\n",
            "1/1 [==============================] - 0s 10ms/step - loss: 7.4565 - mae: 7.4565\n",
            "Epoch 68/100\n",
            "1/1 [==============================] - 0s 9ms/step - loss: 7.4501 - mae: 7.4501\n",
            "Epoch 69/100\n",
            "1/1 [==============================] - 0s 11ms/step - loss: 7.4275 - mae: 7.4275\n",
            "Epoch 70/100\n",
            "1/1 [==============================] - 0s 10ms/step - loss: 7.4341 - mae: 7.4341\n",
            "Epoch 71/100\n",
            "1/1 [==============================] - 0s 9ms/step - loss: 7.4338 - mae: 7.4338\n",
            "Epoch 72/100\n",
            "1/1 [==============================] - 0s 10ms/step - loss: 7.4112 - mae: 7.4112\n",
            "Epoch 73/100\n",
            "1/1 [==============================] - 0s 10ms/step - loss: 7.4116 - mae: 7.4116\n",
            "Epoch 74/100\n",
            "1/1 [==============================] - 0s 10ms/step - loss: 7.4175 - mae: 7.4175\n",
            "Epoch 75/100\n",
            "1/1 [==============================] - 0s 9ms/step - loss: 7.3949 - mae: 7.3949\n",
            "Epoch 76/100\n",
            "1/1 [==============================] - 0s 10ms/step - loss: 7.3892 - mae: 7.3892\n",
            "Epoch 77/100\n",
            "1/1 [==============================] - 0s 9ms/step - loss: 7.4011 - mae: 7.4011\n",
            "Epoch 78/100\n",
            "1/1 [==============================] - 0s 10ms/step - loss: 7.3786 - mae: 7.3786\n",
            "Epoch 79/100\n",
            "1/1 [==============================] - 0s 10ms/step - loss: 7.3668 - mae: 7.3668\n",
            "Epoch 80/100\n",
            "1/1 [==============================] - 0s 12ms/step - loss: 7.3848 - mae: 7.3848\n",
            "Epoch 81/100\n",
            "1/1 [==============================] - 0s 11ms/step - loss: 7.3623 - mae: 7.3623\n",
            "Epoch 82/100\n",
            "1/1 [==============================] - 0s 11ms/step - loss: 7.3444 - mae: 7.3444\n",
            "Epoch 83/100\n",
            "1/1 [==============================] - 0s 11ms/step - loss: 7.3685 - mae: 7.3685\n",
            "Epoch 84/100\n",
            "1/1 [==============================] - 0s 9ms/step - loss: 7.3459 - mae: 7.3459\n",
            "Epoch 85/100\n",
            "1/1 [==============================] - 0s 9ms/step - loss: 7.3234 - mae: 7.3234\n",
            "Epoch 86/100\n",
            "1/1 [==============================] - 0s 9ms/step - loss: 7.3507 - mae: 7.3507\n",
            "Epoch 87/100\n",
            "1/1 [==============================] - 0s 13ms/step - loss: 7.3296 - mae: 7.3296\n",
            "Epoch 88/100\n",
            "1/1 [==============================] - 0s 10ms/step - loss: 7.3070 - mae: 7.3070\n",
            "Epoch 89/100\n",
            "1/1 [==============================] - 0s 9ms/step - loss: 7.3283 - mae: 7.3283\n",
            "Epoch 90/100\n",
            "1/1 [==============================] - 0s 15ms/step - loss: 7.3133 - mae: 7.3133\n",
            "Epoch 91/100\n",
            "1/1 [==============================] - 0s 11ms/step - loss: 7.2907 - mae: 7.2907\n",
            "Epoch 92/100\n",
            "1/1 [==============================] - 0s 15ms/step - loss: 7.3059 - mae: 7.3059\n",
            "Epoch 93/100\n",
            "1/1 [==============================] - 0s 12ms/step - loss: 7.2970 - mae: 7.2970\n",
            "Epoch 94/100\n",
            "1/1 [==============================] - 0s 13ms/step - loss: 7.2744 - mae: 7.2744\n",
            "Epoch 95/100\n",
            "1/1 [==============================] - 0s 12ms/step - loss: 7.2835 - mae: 7.2835\n",
            "Epoch 96/100\n",
            "1/1 [==============================] - 0s 11ms/step - loss: 7.2807 - mae: 7.2807\n",
            "Epoch 97/100\n",
            "1/1 [==============================] - 0s 10ms/step - loss: 7.2581 - mae: 7.2581\n",
            "Epoch 98/100\n",
            "1/1 [==============================] - 0s 12ms/step - loss: 7.2610 - mae: 7.2610\n",
            "Epoch 99/100\n",
            "1/1 [==============================] - 0s 9ms/step - loss: 7.2643 - mae: 7.2643\n",
            "Epoch 100/100\n",
            "1/1 [==============================] - 0s 9ms/step - loss: 7.2418 - mae: 7.2418\n"
          ]
        },
        {
          "output_type": "execute_result",
          "data": {
            "text/plain": [
              "<keras.callbacks.History at 0x7f796e976f20>"
            ]
          },
          "metadata": {},
          "execution_count": 11
        }
      ],
      "source": [
        "# Set the random seed for reproducibility\n",
        "tf.random.set_seed(42)\n",
        "\n",
        "# 1. Create the model using the Sequential API\n",
        "model = tf.keras.Sequential([\n",
        "    tf.keras.layers.Dense(1)\n",
        "])\n",
        "\n",
        "# 2. Compile the model\n",
        "model.compile(loss=tf.keras.losses.mae,  # Mean Absolute Error\n",
        "              optimizer=tf.keras.optimizers.SGD(),\n",
        "              metrics=[\"mae\"])\n",
        "\n",
        "# 3. Fit the model\n",
        "model.fit(tf.expand_dims(X, axis=-1), y, epochs=100)\n",
        "\n"
      ]
    },
    {
      "cell_type": "code",
      "execution_count": 12,
      "metadata": {
        "colab": {
          "base_uri": "https://localhost:8080/",
          "height": 452
        },
        "id": "oBSmeshm9wcO",
        "outputId": "61bd3e31-40a5-4239-b266-873b80795147"
      },
      "outputs": [
        {
          "output_type": "execute_result",
          "data": {
            "text/plain": [
              "<matplotlib.collections.PathCollection at 0x7f7966d8c670>"
            ]
          },
          "metadata": {},
          "execution_count": 12
        },
        {
          "output_type": "display_data",
          "data": {
            "text/plain": [
              "<Figure size 640x480 with 1 Axes>"
            ],
            "image/png": "[encoded data removed]"
          },
          "metadata": {}
        }
      ],
      "source": [
        "plt.scatter(X, y)"
      ]
    },
    {
      "cell_type": "code",
      "execution_count": 13,
      "metadata": {
        "colab": {
          "base_uri": "https://localhost:8080/"
        },
        "id": "EnSrWmW4-WB7",
        "outputId": "7a4fd98a-b2ce-4879-cdc6-4512f51c1449"
      },
      "outputs": [
        {
          "output_type": "stream",
          "name": "stdout",
          "text": [
            "1/1 [==============================] - 0s 114ms/step\n"
          ]
        },
        {
          "output_type": "execute_result",
          "data": {
            "text/plain": [
              "array([[20.340408]], dtype=float32)"
            ]
          },
          "metadata": {},
          "execution_count": 13
        }
      ],
      "source": [
        "model.predict([22.])"
      ]
    },
    {
      "cell_type": "code",
      "execution_count": 14,
      "metadata": {
        "colab": {
          "base_uri": "https://localhost:8080/"
        },
        "id": "wz-w-pVA-cG6",
        "outputId": "facb90e6-71a4-49e4-fb23-d3a6161c4c43"
      },
      "outputs": [
        {
          "output_type": "stream",
          "name": "stdout",
          "text": [
            "1/1 [==============================] - 0s 65ms/step\n"
          ]
        },
        {
          "output_type": "execute_result",
          "data": {
            "text/plain": [
              "array([[22.116356]], dtype=float32)"
            ]
          },
          "metadata": {},
          "execution_count": 14
        }
      ],
      "source": [
        "model.predict([24])"
      ]
    },
    {
      "cell_type": "code",
      "execution_count": 15,
      "metadata": {
        "colab": {
          "base_uri": "https://localhost:8080/",
          "height": 823
        },
        "id": "3jPCP_Od-zCH",
        "outputId": "b520eb52-2ba9-4091-9212-8a75bb8fa274"
      },
      "outputs": [
        {
          "output_type": "stream",
          "name": "stdout",
          "text": [
            "1/1 [==============================] - 0s 46ms/step\n",
            "1/1 [==============================] - 0s 39ms/step\n",
            "1/1 [==============================] - 0s 38ms/step\n",
            "1/1 [==============================] - 0s 44ms/step\n",
            "1/1 [==============================] - 0s 38ms/step\n",
            "1/1 [==============================] - 0s 49ms/step\n",
            "1/1 [==============================] - 0s 38ms/step\n",
            "1/1 [==============================] - 0s 40ms/step\n",
            "1/1 [==============================] - 0s 43ms/step\n",
            "1/1 [==============================] - 0s 38ms/step\n",
            "1/1 [==============================] - 0s 38ms/step\n",
            "1/1 [==============================] - 0s 40ms/step\n",
            "1/1 [==============================] - 0s 37ms/step\n",
            "1/1 [==============================] - 0s 36ms/step\n",
            "1/1 [==============================] - 0s 37ms/step\n",
            "1/1 [==============================] - 0s 47ms/step\n",
            "1/1 [==============================] - 0s 45ms/step\n",
            "1/1 [==============================] - 0s 45ms/step\n",
            "1/1 [==============================] - 0s 46ms/step\n",
            "1/1 [==============================] - 0s 41ms/step\n",
            "1/1 [==============================] - 0s 44ms/step\n"
          ]
        },
        {
          "output_type": "execute_result",
          "data": {
            "text/plain": [
              "<matplotlib.collections.PathCollection at 0x7f7967fdfca0>"
            ]
          },
          "metadata": {},
          "execution_count": 15
        },
        {
          "output_type": "display_data",
          "data": {
            "text/plain": [
              "<Figure size 640x480 with 1 Axes>"
            ],
            "image/png": "[encoded data removed]"
          },
          "metadata": {}
        }
      ],
      "source": [
        "predictions1 = [(x, model.predict([x])) for x in range(-10, 32, 2)]\n",
        "pairs = list(zip(*predictions1))\n",
        "plt.scatter(pairs[0], pairs[1])"
      ]
    },
    {
      "cell_type": "markdown",
      "metadata": {
        "id": "FsNOJmgjB3MD"
      },
      "source": [
        "# Improving the model\n",
        "Depends on the step: We can change various parameters.\n",
        "1. Creation: Add more layers, increase the number of neurons, change the activation function of each layer\n",
        "2. Compilation: Change the optimization function or learning rate of the optimization function\n",
        "3. Fitting: Fit a model for more epochs, or more data (examples to learn from)"
      ]
    },
    {
      "cell_type": "code",
      "execution_count": 16,
      "metadata": {
        "id": "Q_ZnQrsVB7KC",
        "colab": {
          "base_uri": "https://localhost:8080/"
        },
        "outputId": "0791db31-1c5f-41e7-db0c-260fdc20014c"
      },
      "outputs": [
        {
          "output_type": "stream",
          "name": "stdout",
          "text": [
            "Epoch 1/100\n",
            "1/1 [==============================] - 1s 918ms/step - loss: 174.8589 - mse: 174.8589\n",
            "Epoch 2/100\n",
            "1/1 [==============================] - 0s 13ms/step - loss: 51.5676 - mse: 51.5676\n",
            "Epoch 3/100\n",
            "1/1 [==============================] - 0s 12ms/step - loss: 75.7369 - mse: 75.7369\n",
            "Epoch 4/100\n",
            "1/1 [==============================] - 0s 18ms/step - loss: 62.4350 - mse: 62.4350\n",
            "Epoch 5/100\n",
            "1/1 [==============================] - 0s 15ms/step - loss: 37.5971 - mse: 37.5971\n",
            "Epoch 6/100\n",
            "1/1 [==============================] - 0s 13ms/step - loss: 40.7036 - mse: 40.7036\n",
            "Epoch 7/100\n",
            "1/1 [==============================] - 0s 18ms/step - loss: 49.0821 - mse: 49.0821\n",
            "Epoch 8/100\n",
            "1/1 [==============================] - 0s 14ms/step - loss: 50.1119 - mse: 50.1119\n",
            "Epoch 9/100\n",
            "1/1 [==============================] - 0s 11ms/step - loss: 44.0248 - mse: 44.0248\n",
            "Epoch 10/100\n",
            "1/1 [==============================] - 0s 11ms/step - loss: 35.8775 - mse: 35.8775\n",
            "Epoch 11/100\n",
            "1/1 [==============================] - 0s 10ms/step - loss: 32.1559 - mse: 32.1559\n",
            "Epoch 12/100\n",
            "1/1 [==============================] - 0s 10ms/step - loss: 35.4022 - mse: 35.4022\n",
            "Epoch 13/100\n",
            "1/1 [==============================] - 0s 14ms/step - loss: 37.9563 - mse: 37.9563\n",
            "Epoch 14/100\n",
            "1/1 [==============================] - 0s 10ms/step - loss: 35.5472 - mse: 35.5472\n",
            "Epoch 15/100\n",
            "1/1 [==============================] - 0s 13ms/step - loss: 29.5335 - mse: 29.5335\n",
            "Epoch 16/100\n",
            "1/1 [==============================] - 0s 11ms/step - loss: 27.1833 - mse: 27.1833\n",
            "Epoch 17/100\n",
            "1/1 [==============================] - 0s 11ms/step - loss: 27.1909 - mse: 27.1909\n",
            "Epoch 18/100\n",
            "1/1 [==============================] - 0s 17ms/step - loss: 26.8301 - mse: 26.8301\n",
            "Epoch 19/100\n",
            "1/1 [==============================] - 0s 10ms/step - loss: 24.4678 - mse: 24.4678\n",
            "Epoch 20/100\n",
            "1/1 [==============================] - 0s 9ms/step - loss: 20.8756 - mse: 20.8756\n",
            "Epoch 21/100\n",
            "1/1 [==============================] - 0s 13ms/step - loss: 19.6975 - mse: 19.6975\n",
            "Epoch 22/100\n",
            "1/1 [==============================] - 0s 14ms/step - loss: 18.8078 - mse: 18.8078\n",
            "Epoch 23/100\n",
            "1/1 [==============================] - 0s 10ms/step - loss: 14.6522 - mse: 14.6522\n",
            "Epoch 24/100\n",
            "1/1 [==============================] - 0s 19ms/step - loss: 11.6004 - mse: 11.6004\n",
            "Epoch 25/100\n",
            "1/1 [==============================] - 0s 12ms/step - loss: 9.6758 - mse: 9.6758\n",
            "Epoch 26/100\n",
            "1/1 [==============================] - 0s 10ms/step - loss: 6.9807 - mse: 6.9807\n",
            "Epoch 27/100\n",
            "1/1 [==============================] - 0s 13ms/step - loss: 5.0002 - mse: 5.0002\n",
            "Epoch 28/100\n",
            "1/1 [==============================] - 0s 11ms/step - loss: 3.5887 - mse: 3.5887\n",
            "Epoch 29/100\n",
            "1/1 [==============================] - 0s 11ms/step - loss: 3.1827 - mse: 3.1827\n",
            "Epoch 30/100\n",
            "1/1 [==============================] - 0s 10ms/step - loss: 2.8957 - mse: 2.8957\n",
            "Epoch 31/100\n",
            "1/1 [==============================] - 0s 11ms/step - loss: 3.9073 - mse: 3.9073\n",
            "Epoch 32/100\n",
            "1/1 [==============================] - 0s 11ms/step - loss: 2.8099 - mse: 2.8099\n",
            "Epoch 33/100\n",
            "1/1 [==============================] - 0s 11ms/step - loss: 3.0136 - mse: 3.0136\n",
            "Epoch 34/100\n",
            "1/1 [==============================] - 0s 10ms/step - loss: 2.0381 - mse: 2.0381\n",
            "Epoch 35/100\n",
            "1/1 [==============================] - 0s 11ms/step - loss: 1.7126 - mse: 1.7126\n",
            "Epoch 36/100\n",
            "1/1 [==============================] - 0s 10ms/step - loss: 1.5310 - mse: 1.5310\n",
            "Epoch 37/100\n",
            "1/1 [==============================] - 0s 11ms/step - loss: 1.2010 - mse: 1.2010\n",
            "Epoch 38/100\n",
            "1/1 [==============================] - 0s 11ms/step - loss: 1.4112 - mse: 1.4112\n",
            "Epoch 39/100\n",
            "1/1 [==============================] - 0s 11ms/step - loss: 1.2009 - mse: 1.2009\n",
            "Epoch 40/100\n",
            "1/1 [==============================] - 0s 11ms/step - loss: 1.4850 - mse: 1.4850\n",
            "Epoch 41/100\n",
            "1/1 [==============================] - 0s 11ms/step - loss: 1.1705 - mse: 1.1705\n",
            "Epoch 42/100\n",
            "1/1 [==============================] - 0s 11ms/step - loss: 1.2616 - mse: 1.2616\n",
            "Epoch 43/100\n",
            "1/1 [==============================] - 0s 10ms/step - loss: 0.8599 - mse: 0.8599\n",
            "Epoch 44/100\n",
            "1/1 [==============================] - 0s 11ms/step - loss: 0.9115 - mse: 0.9115\n",
            "Epoch 45/100\n",
            "1/1 [==============================] - 0s 11ms/step - loss: 0.5737 - mse: 0.5737\n",
            "Epoch 46/100\n",
            "1/1 [==============================] - 0s 11ms/step - loss: 0.7199 - mse: 0.7199\n",
            "Epoch 47/100\n",
            "1/1 [==============================] - 0s 15ms/step - loss: 0.5166 - mse: 0.5166\n",
            "Epoch 48/100\n",
            "1/1 [==============================] - 0s 15ms/step - loss: 0.6888 - mse: 0.6888\n",
            "Epoch 49/100\n",
            "1/1 [==============================] - 0s 14ms/step - loss: 0.5742 - mse: 0.5742\n",
            "Epoch 50/100\n",
            "1/1 [==============================] - 0s 11ms/step - loss: 0.5932 - mse: 0.5932\n",
            "Epoch 51/100\n",
            "1/1 [==============================] - 0s 11ms/step - loss: 0.5490 - mse: 0.5490\n",
            "Epoch 52/100\n",
            "1/1 [==============================] - 0s 11ms/step - loss: 0.4045 - mse: 0.4045\n",
            "Epoch 53/100\n",
            "1/1 [==============================] - 0s 11ms/step - loss: 0.4399 - mse: 0.4399\n",
            "Epoch 54/100\n",
            "1/1 [==============================] - 0s 12ms/step - loss: 0.3420 - mse: 0.3420\n",
            "Epoch 55/100\n",
            "1/1 [==============================] - 0s 11ms/step - loss: 0.4115 - mse: 0.4115\n",
            "Epoch 56/100\n",
            "1/1 [==============================] - 0s 14ms/step - loss: 0.3831 - mse: 0.3831\n",
            "Epoch 57/100\n",
            "1/1 [==============================] - 0s 11ms/step - loss: 0.3392 - mse: 0.3392\n",
            "Epoch 58/100\n",
            "1/1 [==============================] - 0s 11ms/step - loss: 0.3744 - mse: 0.3744\n",
            "Epoch 59/100\n",
            "1/1 [==============================] - 0s 12ms/step - loss: 0.2854 - mse: 0.2854\n",
            "Epoch 60/100\n",
            "1/1 [==============================] - 0s 11ms/step - loss: 0.2910 - mse: 0.2910\n",
            "Epoch 61/100\n",
            "1/1 [==============================] - 0s 13ms/step - loss: 0.2676 - mse: 0.2676\n",
            "Epoch 62/100\n",
            "1/1 [==============================] - 0s 12ms/step - loss: 0.2205 - mse: 0.2205\n",
            "Epoch 63/100\n",
            "1/1 [==============================] - 0s 10ms/step - loss: 0.2542 - mse: 0.2542\n",
            "Epoch 64/100\n",
            "1/1 [==============================] - 0s 14ms/step - loss: 0.2387 - mse: 0.2387\n",
            "Epoch 65/100\n",
            "1/1 [==============================] - 0s 11ms/step - loss: 0.2050 - mse: 0.2050\n",
            "Epoch 66/100\n",
            "1/1 [==============================] - 0s 12ms/step - loss: 0.1775 - mse: 0.1775\n",
            "Epoch 67/100\n",
            "1/1 [==============================] - 0s 10ms/step - loss: 0.1743 - mse: 0.1743\n",
            "Epoch 68/100\n",
            "1/1 [==============================] - 0s 10ms/step - loss: 0.1445 - mse: 0.1445\n",
            "Epoch 69/100\n",
            "1/1 [==============================] - 0s 11ms/step - loss: 0.1352 - mse: 0.1352\n",
            "Epoch 70/100\n",
            "1/1 [==============================] - 0s 12ms/step - loss: 0.1288 - mse: 0.1288\n",
            "Epoch 71/100\n",
            "1/1 [==============================] - 0s 12ms/step - loss: 0.1126 - mse: 0.1126\n",
            "Epoch 72/100\n",
            "1/1 [==============================] - 0s 12ms/step - loss: 0.1032 - mse: 0.1032\n",
            "Epoch 73/100\n",
            "1/1 [==============================] - 0s 12ms/step - loss: 0.0957 - mse: 0.0957\n",
            "Epoch 74/100\n",
            "1/1 [==============================] - 0s 13ms/step - loss: 0.0910 - mse: 0.0910\n",
            "Epoch 75/100\n",
            "1/1 [==============================] - 0s 11ms/step - loss: 0.0809 - mse: 0.0809\n",
            "Epoch 76/100\n",
            "1/1 [==============================] - 0s 12ms/step - loss: 0.0688 - mse: 0.0688\n",
            "Epoch 77/100\n",
            "1/1 [==============================] - 0s 11ms/step - loss: 0.0649 - mse: 0.0649\n",
            "Epoch 78/100\n",
            "1/1 [==============================] - 0s 12ms/step - loss: 0.0640 - mse: 0.0640\n",
            "Epoch 79/100\n",
            "1/1 [==============================] - 0s 12ms/step - loss: 0.0597 - mse: 0.0597\n",
            "Epoch 80/100\n",
            "1/1 [==============================] - 0s 15ms/step - loss: 0.0509 - mse: 0.0509\n",
            "Epoch 81/100\n",
            "1/1 [==============================] - 0s 13ms/step - loss: 0.0423 - mse: 0.0423\n",
            "Epoch 82/100\n",
            "1/1 [==============================] - 0s 11ms/step - loss: 0.0390 - mse: 0.0390\n",
            "Epoch 83/100\n",
            "1/1 [==============================] - 0s 11ms/step - loss: 0.0364 - mse: 0.0364\n",
            "Epoch 84/100\n",
            "1/1 [==============================] - 0s 13ms/step - loss: 0.0332 - mse: 0.0332\n",
            "Epoch 85/100\n",
            "1/1 [==============================] - 0s 11ms/step - loss: 0.0317 - mse: 0.0317\n",
            "Epoch 86/100\n",
            "1/1 [==============================] - 0s 13ms/step - loss: 0.0324 - mse: 0.0324\n",
            "Epoch 87/100\n",
            "1/1 [==============================] - 0s 13ms/step - loss: 0.0314 - mse: 0.0314\n",
            "Epoch 88/100\n",
            "1/1 [==============================] - 0s 12ms/step - loss: 0.0334 - mse: 0.0334\n",
            "Epoch 89/100\n",
            "1/1 [==============================] - 0s 10ms/step - loss: 0.0453 - mse: 0.0453\n",
            "Epoch 90/100\n",
            "1/1 [==============================] - 0s 10ms/step - loss: 0.0748 - mse: 0.0748\n",
            "Epoch 91/100\n",
            "1/1 [==============================] - 0s 12ms/step - loss: 0.1506 - mse: 0.1506\n",
            "Epoch 92/100\n",
            "1/1 [==============================] - 0s 11ms/step - loss: 0.3240 - mse: 0.3240\n",
            "Epoch 93/100\n",
            "1/1 [==============================] - 0s 12ms/step - loss: 0.6758 - mse: 0.6758\n",
            "Epoch 94/100\n",
            "1/1 [==============================] - 0s 12ms/step - loss: 0.5796 - mse: 0.5796\n",
            "Epoch 95/100\n",
            "1/1 [==============================] - 0s 11ms/step - loss: 0.3338 - mse: 0.3338\n",
            "Epoch 96/100\n",
            "1/1 [==============================] - 0s 12ms/step - loss: 0.0365 - mse: 0.0365\n",
            "Epoch 97/100\n",
            "1/1 [==============================] - 0s 11ms/step - loss: 0.3171 - mse: 0.3171\n",
            "Epoch 98/100\n",
            "1/1 [==============================] - 0s 11ms/step - loss: 0.4232 - mse: 0.4232\n",
            "Epoch 99/100\n",
            "1/1 [==============================] - 0s 10ms/step - loss: 0.0640 - mse: 0.0640\n",
            "Epoch 100/100\n",
            "1/1 [==============================] - 0s 10ms/step - loss: 0.2365 - mse: 0.2365\n"
          ]
        },
        {
          "output_type": "execute_result",
          "data": {
            "text/plain": [
              "<keras.callbacks.History at 0x7f7967f09d80>"
            ]
          },
          "metadata": {},
          "execution_count": 16
        }
      ],
      "source": [
        "# 1. Create the new model\n",
        "new_model = tf.keras.Sequential([\n",
        "    tf.keras.layers.Dense(100, activation=\"relu\"),\n",
        "    tf.keras.layers.Dense(100, activation=\"relu\"),\n",
        "    tf.keras.layers.Dense(100, activation=\"relu\"),\n",
        "    tf.keras.layers.Dense(1),\n",
        "])\n",
        "\n",
        "# 2. Compile the new model\n",
        "new_model.compile(loss=tf.keras.losses.mean_squared_error,\n",
        "                  optimizer=tf.keras.optimizers.Adam(learning_rate=0.01),\n",
        "                  metrics=[\"mse\"])\n",
        "\n",
        "# 3. Fit the new model\n",
        "new_model.fit(tf.expand_dims(X, axis=-1), y, epochs=100)"
      ]
    },
    {
      "cell_type": "code",
      "execution_count": 17,
      "metadata": {
        "id": "1Mp-s-oiDe0v",
        "colab": {
          "base_uri": "https://localhost:8080/",
          "height": 1000
        },
        "outputId": "61cee780-7b89-40e5-9996-ee898005db80"
      },
      "outputs": [
        {
          "output_type": "stream",
          "name": "stdout",
          "text": [
            "1/1 [==============================] - 0s 88ms/step\n",
            "1/1 [==============================] - 0s 39ms/step\n",
            "1/1 [==============================] - 0s 45ms/step\n",
            "1/1 [==============================] - 0s 37ms/step\n",
            "1/1 [==============================] - 0s 44ms/step\n",
            "1/1 [==============================] - 0s 43ms/step\n",
            "1/1 [==============================] - 0s 41ms/step\n",
            "1/1 [==============================] - 0s 38ms/step\n",
            "1/1 [==============================] - 0s 45ms/step\n",
            "1/1 [==============================] - 0s 44ms/step\n",
            "1/1 [==============================] - 0s 39ms/step\n",
            "1/1 [==============================] - 0s 42ms/step\n",
            "1/1 [==============================] - 0s 38ms/step\n",
            "1/1 [==============================] - 0s 42ms/step\n",
            "1/1 [==============================] - 0s 41ms/step\n",
            "1/1 [==============================] - 0s 44ms/step\n",
            "1/1 [==============================] - 0s 38ms/step\n",
            "1/1 [==============================] - 0s 41ms/step\n",
            "1/1 [==============================] - 0s 42ms/step\n",
            "1/1 [==============================] - 0s 44ms/step\n",
            "1/1 [==============================] - 0s 46ms/step\n",
            "1/1 [==============================] - 0s 37ms/step\n",
            "1/1 [==============================] - 0s 42ms/step\n",
            "1/1 [==============================] - 0s 38ms/step\n",
            "1/1 [==============================] - 0s 37ms/step\n",
            "1/1 [==============================] - 0s 40ms/step\n",
            "1/1 [==============================] - 0s 39ms/step\n",
            "1/1 [==============================] - 0s 37ms/step\n",
            "1/1 [==============================] - 0s 38ms/step\n",
            "1/1 [==============================] - 0s 45ms/step\n",
            "1/1 [==============================] - 0s 39ms/step\n",
            "1/1 [==============================] - 0s 42ms/step\n",
            "1/1 [==============================] - 0s 41ms/step\n",
            "1/1 [==============================] - 0s 38ms/step\n",
            "1/1 [==============================] - 0s 42ms/step\n",
            "1/1 [==============================] - 0s 55ms/step\n",
            "1/1 [==============================] - 0s 58ms/step\n",
            "1/1 [==============================] - 0s 58ms/step\n",
            "1/1 [==============================] - 0s 60ms/step\n",
            "1/1 [==============================] - 0s 61ms/step\n",
            "1/1 [==============================] - 0s 55ms/step\n",
            "1/1 [==============================] - 0s 61ms/step\n",
            "1/1 [==============================] - 0s 55ms/step\n",
            "1/1 [==============================] - 0s 57ms/step\n",
            "1/1 [==============================] - 0s 63ms/step\n",
            "1/1 [==============================] - 0s 68ms/step\n",
            "1/1 [==============================] - 0s 59ms/step\n",
            "1/1 [==============================] - 0s 72ms/step\n",
            "1/1 [==============================] - 0s 56ms/step\n",
            "1/1 [==============================] - 0s 68ms/step\n",
            "1/1 [==============================] - 0s 58ms/step\n",
            "1/1 [==============================] - 0s 55ms/step\n",
            "1/1 [==============================] - 0s 64ms/step\n",
            "1/1 [==============================] - 0s 73ms/step\n",
            "1/1 [==============================] - 0s 61ms/step\n",
            "1/1 [==============================] - 0s 62ms/step\n",
            "1/1 [==============================] - 0s 56ms/step\n",
            "1/1 [==============================] - 0s 38ms/step\n",
            "1/1 [==============================] - 0s 44ms/step\n",
            "1/1 [==============================] - 0s 36ms/step\n",
            "1/1 [==============================] - 0s 43ms/step\n",
            "1/1 [==============================] - 0s 40ms/step\n",
            "1/1 [==============================] - 0s 38ms/step\n",
            "1/1 [==============================] - 0s 37ms/step\n",
            "1/1 [==============================] - 0s 45ms/step\n",
            "1/1 [==============================] - 0s 38ms/step\n",
            "1/1 [==============================] - 0s 42ms/step\n",
            "1/1 [==============================] - 0s 38ms/step\n",
            "1/1 [==============================] - 0s 40ms/step\n",
            "1/1 [==============================] - 0s 39ms/step\n",
            "1/1 [==============================] - 0s 39ms/step\n",
            "1/1 [==============================] - 0s 39ms/step\n",
            "1/1 [==============================] - 0s 42ms/step\n",
            "1/1 [==============================] - 0s 38ms/step\n",
            "1/1 [==============================] - 0s 36ms/step\n",
            "1/1 [==============================] - 0s 42ms/step\n",
            "1/1 [==============================] - 0s 38ms/step\n",
            "1/1 [==============================] - 0s 40ms/step\n",
            "1/1 [==============================] - 0s 43ms/step\n",
            "1/1 [==============================] - 0s 41ms/step\n",
            "1/1 [==============================] - 0s 38ms/step\n",
            "1/1 [==============================] - 0s 39ms/step\n",
            "1/1 [==============================] - 0s 45ms/step\n",
            "1/1 [==============================] - 0s 37ms/step\n",
            "1/1 [==============================] - 0s 41ms/step\n",
            "1/1 [==============================] - 0s 37ms/step\n",
            "1/1 [==============================] - 0s 38ms/step\n",
            "1/1 [==============================] - 0s 54ms/step\n",
            "1/1 [==============================] - 0s 40ms/step\n",
            "1/1 [==============================] - 0s 39ms/step\n",
            "1/1 [==============================] - 0s 37ms/step\n",
            "1/1 [==============================] - 0s 38ms/step\n",
            "1/1 [==============================] - 0s 41ms/step\n",
            "1/1 [==============================] - 0s 42ms/step\n",
            "1/1 [==============================] - 0s 39ms/step\n",
            "1/1 [==============================] - 0s 39ms/step\n",
            "1/1 [==============================] - 0s 39ms/step\n",
            "1/1 [==============================] - 0s 39ms/step\n",
            "1/1 [==============================] - 0s 41ms/step\n",
            "1/1 [==============================] - 0s 40ms/step\n",
            "1/1 [==============================] - 0s 39ms/step\n",
            "1/1 [==============================] - 0s 39ms/step\n",
            "1/1 [==============================] - 0s 37ms/step\n",
            "1/1 [==============================] - 0s 37ms/step\n",
            "1/1 [==============================] - 0s 43ms/step\n",
            "1/1 [==============================] - 0s 47ms/step\n",
            "1/1 [==============================] - 0s 39ms/step\n",
            "1/1 [==============================] - 0s 43ms/step\n",
            "1/1 [==============================] - 0s 37ms/step\n",
            "1/1 [==============================] - 0s 39ms/step\n",
            "1/1 [==============================] - 0s 45ms/step\n",
            "1/1 [==============================] - 0s 41ms/step\n",
            "1/1 [==============================] - 0s 38ms/step\n",
            "1/1 [==============================] - 0s 48ms/step\n",
            "1/1 [==============================] - 0s 40ms/step\n",
            "1/1 [==============================] - 0s 38ms/step\n",
            "1/1 [==============================] - 0s 44ms/step\n",
            "1/1 [==============================] - 0s 36ms/step\n",
            "1/1 [==============================] - 0s 38ms/step\n",
            "1/1 [==============================] - 0s 37ms/step\n",
            "1/1 [==============================] - 0s 38ms/step\n",
            "1/1 [==============================] - 0s 40ms/step\n",
            "1/1 [==============================] - 0s 45ms/step\n",
            "1/1 [==============================] - 0s 43ms/step\n",
            "1/1 [==============================] - 0s 39ms/step\n",
            "1/1 [==============================] - 0s 38ms/step\n",
            "1/1 [==============================] - 0s 42ms/step\n",
            "1/1 [==============================] - 0s 36ms/step\n",
            "1/1 [==============================] - 0s 40ms/step\n",
            "1/1 [==============================] - 0s 37ms/step\n",
            "1/1 [==============================] - 0s 43ms/step\n",
            "1/1 [==============================] - 0s 40ms/step\n",
            "1/1 [==============================] - 0s 38ms/step\n",
            "1/1 [==============================] - 0s 39ms/step\n",
            "1/1 [==============================] - 0s 51ms/step\n",
            "1/1 [==============================] - 0s 38ms/step\n",
            "1/1 [==============================] - 0s 40ms/step\n",
            "1/1 [==============================] - 0s 39ms/step\n",
            "1/1 [==============================] - 0s 38ms/step\n",
            "1/1 [==============================] - 0s 37ms/step\n",
            "1/1 [==============================] - 0s 45ms/step\n",
            "1/1 [==============================] - 0s 41ms/step\n",
            "1/1 [==============================] - 0s 40ms/step\n",
            "1/1 [==============================] - 0s 40ms/step\n",
            "1/1 [==============================] - 0s 42ms/step\n",
            "1/1 [==============================] - 0s 43ms/step\n",
            "1/1 [==============================] - 0s 39ms/step\n",
            "1/1 [==============================] - 0s 45ms/step\n",
            "1/1 [==============================] - 0s 38ms/step\n",
            "1/1 [==============================] - 0s 43ms/step\n",
            "1/1 [==============================] - 0s 39ms/step\n",
            "1/1 [==============================] - 0s 38ms/step\n",
            "1/1 [==============================] - 0s 38ms/step\n",
            "1/1 [==============================] - 0s 39ms/step\n",
            "1/1 [==============================] - 0s 38ms/step\n",
            "1/1 [==============================] - 0s 38ms/step\n",
            "1/1 [==============================] - 0s 38ms/step\n",
            "1/1 [==============================] - 0s 49ms/step\n",
            "1/1 [==============================] - 0s 39ms/step\n",
            "1/1 [==============================] - 0s 39ms/step\n",
            "1/1 [==============================] - 0s 44ms/step\n",
            "1/1 [==============================] - 0s 40ms/step\n",
            "1/1 [==============================] - 0s 38ms/step\n",
            "1/1 [==============================] - 0s 38ms/step\n",
            "1/1 [==============================] - 0s 37ms/step\n",
            "1/1 [==============================] - 0s 37ms/step\n",
            "1/1 [==============================] - 0s 38ms/step\n",
            "1/1 [==============================] - 0s 50ms/step\n",
            "1/1 [==============================] - 0s 39ms/step\n",
            "1/1 [==============================] - 0s 37ms/step\n",
            "1/1 [==============================] - 0s 62ms/step\n",
            "1/1 [==============================] - 0s 58ms/step\n",
            "1/1 [==============================] - 0s 57ms/step\n",
            "1/1 [==============================] - 0s 62ms/step\n",
            "1/1 [==============================] - 0s 60ms/step\n",
            "1/1 [==============================] - 0s 57ms/step\n",
            "1/1 [==============================] - 0s 62ms/step\n",
            "1/1 [==============================] - 0s 77ms/step\n",
            "1/1 [==============================] - 0s 62ms/step\n",
            "1/1 [==============================] - 0s 59ms/step\n",
            "1/1 [==============================] - 0s 62ms/step\n",
            "1/1 [==============================] - 0s 60ms/step\n",
            "1/1 [==============================] - 0s 55ms/step\n",
            "1/1 [==============================] - 0s 55ms/step\n",
            "1/1 [==============================] - 0s 55ms/step\n",
            "1/1 [==============================] - 0s 58ms/step\n",
            "1/1 [==============================] - 0s 61ms/step\n",
            "1/1 [==============================] - 0s 58ms/step\n",
            "1/1 [==============================] - 0s 62ms/step\n",
            "1/1 [==============================] - 0s 60ms/step\n",
            "1/1 [==============================] - 0s 68ms/step\n",
            "1/1 [==============================] - 0s 57ms/step\n",
            "1/1 [==============================] - 0s 40ms/step\n",
            "1/1 [==============================] - 0s 43ms/step\n",
            "1/1 [==============================] - 0s 40ms/step\n",
            "1/1 [==============================] - 0s 40ms/step\n",
            "1/1 [==============================] - 0s 39ms/step\n",
            "1/1 [==============================] - 0s 46ms/step\n",
            "1/1 [==============================] - 0s 36ms/step\n",
            "1/1 [==============================] - 0s 43ms/step\n"
          ]
        },
        {
          "output_type": "execute_result",
          "data": {
            "text/plain": [
              "<matplotlib.collections.PathCollection at 0x7f7967df1ea0>"
            ]
          },
          "metadata": {},
          "execution_count": 17
        },
        {
          "output_type": "display_data",
          "data": {
            "text/plain": [
              "<Figure size 640x480 with 1 Axes>"
            ],
            "image/png": "[encoded data removed]"
          },
          "metadata": {}
        }
      ],
      "source": [
        "predictions2 = [(x, new_model.predict([x])) for x in np.arange(-50, 50, 0.5)]\n",
        "pairs = list(zip(*predictions2))\n",
        "plt.scatter(pairs[0], pairs[1], s=1)"
      ]
    },
    {
      "cell_type": "code",
      "source": [
        "new_model.summary()"
      ],
      "metadata": {
        "colab": {
          "base_uri": "https://localhost:8080/"
        },
        "id": "lwxYCGFO6v_K",
        "outputId": "877a48ff-d7eb-428a-ae34-57cbb0a7d03d"
      },
      "execution_count": 18,
      "outputs": [
        {
          "output_type": "stream",
          "name": "stdout",
          "text": [
            "Model: \"sequential_1\"\n",
            "_________________________________________________________________\n",
            " Layer (type)                Output Shape              Param #   \n",
            "=================================================================\n",
            " dense_1 (Dense)             (None, 100)               200       \n",
            "                                                                 \n",
            " dense_2 (Dense)             (None, 100)               10100     \n",
            "                                                                 \n",
            " dense_3 (Dense)             (None, 100)               10100     \n",
            "                                                                 \n",
            " dense_4 (Dense)             (None, 1)                 101       \n",
            "                                                                 \n",
            "=================================================================\n",
            "Total params: 20,501\n",
            "Trainable params: 20,501\n",
            "Non-trainable params: 0\n",
            "_________________________________________________________________\n"
          ]
        }
      ]
    },
    {
      "cell_type": "code",
      "source": [
        "def plot_predictions(train_data,\n",
        "                     train_labels,\n",
        "                     test_data,\n",
        "                     test_labels,\n",
        "                     predictions):\n",
        "  plt.figure(figsize=(16, 9))\n",
        "  plt.scatter(train_data, train_labels, c=\"b\", label=\"Training data\", s=1)\n",
        "  plt.scatter(test_data, test_labels, c=\"g\", label=\"Testing data\", s=1)\n",
        "  plt.scatter(test_data, predictions, c=\"r\", label=\"Predictions\", s=1)\n",
        "  plt.legend()"
      ],
      "metadata": {
        "id": "S3LTJjy1Ux40"
      },
      "execution_count": 70,
      "outputs": []
    },
    {
      "cell_type": "code",
      "source": [
        "import math\n",
        "\n",
        "# Generate pairs of x, y values in a sigmoid function (for predicting)\n",
        "train_set = [(float(x), 1 / (1 + math.exp(-x))) for x in np.arange(-5, 5, 0.01)]\n",
        "test_set = [(float(x), 1 / (1 + math.exp(-x))) for x in np.arange(5, 7.5, 0.01)]\n",
        "\n",
        "x_train, y_train = zip(*train_set)\n",
        "x_test, y_test = list(zip(*test_set))\n",
        "print(list(x_train), list(y_train))\n",
        "\n",
        "\n",
        "# 1. Create the new model\n",
        "new_model = tf.keras.Sequential([\n",
        "    tf.keras.layers.Dense(50, activation=\"relu\"),\n",
        "    tf.keras.layers.Dropout(0.1),\n",
        "    tf.keras.layers.Dense(50, activation=\"relu\"),\n",
        "    tf.keras.layers.Dense(1),\n",
        "])\n",
        "\n",
        "# 2. Compile the new model\n",
        "new_model.compile(loss=tf.keras.losses.mean_squared_error,\n",
        "                  optimizer=tf.keras.optimizers.Adam(learning_rate=0.01),\n",
        "                  metrics=[\"mae\"])\n",
        "\n",
        "# 3. Fit the new model\n",
        "new_model.fit(tf.expand_dims(np.asarray(x_train), axis=-1), np.asarray(y_train), epochs=400, verbose=0)\n",
        "\n",
        "# 4. Evaluate the model\n",
        "new_model.evaluate(x_test, y_test)"
      ],
      "metadata": {
        "id": "fw4ESia8WVSk",
        "colab": {
          "base_uri": "https://localhost:8080/"
        },
        "outputId": "9b51958a-6a12-4a14-b514-f0727df83fc1"
      },
      "execution_count": 101,
      "outputs": [
        {
          "output_type": "stream",
          "name": "stdout",
          "text": [
            "[-5.0, -4.99, -4.98, -4.970000000000001, -4.960000000000001, -4.950000000000001, -4.940000000000001, -4.9300000000000015, -4.920000000000002, -4.910000000000002, -4.900000000000002, -4.890000000000002, -4.880000000000003, -4.870000000000003, -4.860000000000003, -4.850000000000003, -4.840000000000003, -4.830000000000004, -4.820000000000004, -4.810000000000004, -4.800000000000004, -4.7900000000000045, -4.780000000000005, -4.770000000000005, -4.760000000000005, -4.750000000000005, -4.7400000000000055, -4.730000000000006, -4.720000000000006, -4.710000000000006, -4.700000000000006, -4.690000000000007, -4.680000000000007, -4.670000000000007, -4.660000000000007, -4.6500000000000075, -4.640000000000008, -4.630000000000008, -4.620000000000008, -4.610000000000008, -4.6000000000000085, -4.590000000000009, -4.580000000000009, -4.570000000000009, -4.560000000000009, -4.55000000000001, -4.54000000000001, -4.53000000000001, -4.52000000000001, -4.5100000000000104, -4.500000000000011, -4.490000000000011, -4.480000000000011, -4.470000000000011, -4.4600000000000115, -4.450000000000012, -4.440000000000012, -4.430000000000012, -4.420000000000012, -4.410000000000013, -4.400000000000013, -4.390000000000013, -4.380000000000013, -4.370000000000013, -4.360000000000014, -4.350000000000014, -4.340000000000014, -4.330000000000014, -4.3200000000000145, -4.310000000000015, -4.300000000000015, -4.290000000000015, -4.280000000000015, -4.270000000000016, -4.260000000000016, -4.250000000000016, -4.240000000000016, -4.230000000000016, -4.220000000000017, -4.210000000000017, -4.200000000000017, -4.190000000000017, -4.1800000000000175, -4.170000000000018, -4.160000000000018, -4.150000000000018, -4.140000000000018, -4.1300000000000185, -4.120000000000019, -4.110000000000019, -4.100000000000019, -4.090000000000019, -4.08000000000002, -4.07000000000002, -4.06000000000002, -4.05000000000002, -4.0400000000000205, -4.030000000000021, -4.020000000000021, -4.010000000000021, -4.000000000000021, -3.9900000000000215, -3.9800000000000217, -3.970000000000022, -3.960000000000022, -3.9500000000000224, -3.9400000000000226, -3.930000000000023, -3.920000000000023, -3.9100000000000232, -3.9000000000000234, -3.8900000000000237, -3.880000000000024, -3.870000000000024, -3.8600000000000243, -3.8500000000000245, -3.8400000000000247, -3.830000000000025, -3.820000000000025, -3.8100000000000254, -3.8000000000000256, -3.790000000000026, -3.780000000000026, -3.770000000000026, -3.7600000000000264, -3.7500000000000266, -3.740000000000027, -3.730000000000027, -3.7200000000000273, -3.7100000000000275, -3.7000000000000277, -3.690000000000028, -3.680000000000028, -3.6700000000000284, -3.6600000000000286, -3.6500000000000288, -3.640000000000029, -3.630000000000029, -3.6200000000000294, -3.6100000000000296, -3.60000000000003, -3.59000000000003, -3.5800000000000303, -3.5700000000000305, -3.5600000000000307, -3.550000000000031, -3.540000000000031, -3.5300000000000313, -3.5200000000000315, -3.5100000000000318, -3.500000000000032, -3.490000000000032, -3.4800000000000324, -3.4700000000000326, -3.460000000000033, -3.450000000000033, -3.4400000000000333, -3.4300000000000335, -3.4200000000000337, -3.410000000000034, -3.400000000000034, -3.3900000000000343, -3.3800000000000345, -3.3700000000000347, -3.360000000000035, -3.350000000000035, -3.3400000000000354, -3.3300000000000356, -3.320000000000036, -3.310000000000036, -3.3000000000000362, -3.2900000000000365, -3.2800000000000367, -3.270000000000037, -3.260000000000037, -3.2500000000000373, -3.2400000000000375, -3.2300000000000377, -3.220000000000038, -3.210000000000038, -3.2000000000000384, -3.1900000000000386, -3.180000000000039, -3.170000000000039, -3.160000000000039, -3.1500000000000394, -3.1400000000000396, -3.13000000000004, -3.12000000000004, -3.1100000000000403, -3.1000000000000405, -3.0900000000000407, -3.080000000000041, -3.070000000000041, -3.0600000000000414, -3.0500000000000416, -3.040000000000042, -3.030000000000042, -3.020000000000042, -3.0100000000000424, -3.0000000000000426, -2.990000000000043, -2.980000000000043, -2.9700000000000433, -2.9600000000000435, -2.9500000000000437, -2.940000000000044, -2.930000000000044, -2.9200000000000443, -2.9100000000000446, -2.9000000000000448, -2.890000000000045, -2.880000000000045, -2.8700000000000454, -2.8600000000000456, -2.850000000000046, -2.840000000000046, -2.8300000000000463, -2.8200000000000465, -2.8100000000000467, -2.800000000000047, -2.790000000000047, -2.7800000000000473, -2.7700000000000475, -2.7600000000000477, -2.750000000000048, -2.740000000000048, -2.7300000000000484, -2.7200000000000486, -2.710000000000049, -2.700000000000049, -2.6900000000000492, -2.6800000000000495, -2.6700000000000497, -2.66000000000005, -2.65000000000005, -2.6400000000000503, -2.6300000000000505, -2.6200000000000507, -2.610000000000051, -2.600000000000051, -2.5900000000000514, -2.5800000000000516, -2.570000000000052, -2.560000000000052, -2.5500000000000522, -2.5400000000000524, -2.5300000000000527, -2.520000000000053, -2.510000000000053, -2.5000000000000533, -2.4900000000000535, -2.4800000000000537, -2.470000000000054, -2.460000000000054, -2.4500000000000544, -2.4400000000000546, -2.430000000000055, -2.420000000000055, -2.410000000000055, -2.4000000000000554, -2.3900000000000556, -2.380000000000056, -2.370000000000056, -2.3600000000000563, -2.3500000000000565, -2.3400000000000567, -2.330000000000057, -2.320000000000057, -2.3100000000000573, -2.3000000000000576, -2.2900000000000578, -2.280000000000058, -2.270000000000058, -2.2600000000000584, -2.2500000000000586, -2.240000000000059, -2.230000000000059, -2.2200000000000593, -2.2100000000000595, -2.2000000000000597, -2.19000000000006, -2.18000000000006, -2.1700000000000603, -2.1600000000000605, -2.1500000000000608, -2.140000000000061, -2.130000000000061, -2.1200000000000614, -2.1100000000000616, -2.100000000000062, -2.090000000000062, -2.0800000000000622, -2.0700000000000625, -2.0600000000000627, -2.050000000000063, -2.040000000000063, -2.0300000000000633, -2.0200000000000635, -2.0100000000000637, -2.000000000000064, -1.9900000000000642, -1.9800000000000644, -1.9700000000000646, -1.9600000000000648, -1.950000000000065, -1.9400000000000652, -1.9300000000000654, -1.9200000000000657, -1.9100000000000659, -1.900000000000066, -1.8900000000000663, -1.8800000000000665, -1.8700000000000667, -1.860000000000067, -1.8500000000000671, -1.8400000000000674, -1.8300000000000676, -1.8200000000000678, -1.810000000000068, -1.8000000000000682, -1.7900000000000684, -1.7800000000000686, -1.7700000000000689, -1.760000000000069, -1.7500000000000693, -1.7400000000000695, -1.7300000000000697, -1.72000000000007, -1.7100000000000701, -1.7000000000000703, -1.6900000000000706, -1.6800000000000708, -1.670000000000071, -1.6600000000000712, -1.6500000000000714, -1.6400000000000716, -1.6300000000000718, -1.620000000000072, -1.6100000000000723, -1.6000000000000725, -1.5900000000000727, -1.580000000000073, -1.5700000000000731, -1.5600000000000733, -1.5500000000000735, -1.5400000000000738, -1.530000000000074, -1.5200000000000742, -1.5100000000000744, -1.5000000000000746, -1.4900000000000748, -1.480000000000075, -1.4700000000000752, -1.4600000000000755, -1.4500000000000757, -1.4400000000000759, -1.430000000000076, -1.4200000000000763, -1.4100000000000765, -1.4000000000000767, -1.390000000000077, -1.3800000000000772, -1.3700000000000774, -1.3600000000000776, -1.3500000000000778, -1.340000000000078, -1.3300000000000782, -1.3200000000000784, -1.3100000000000787, -1.3000000000000789, -1.290000000000079, -1.2800000000000793, -1.2700000000000795, -1.2600000000000797, -1.25000000000008, -1.2400000000000801, -1.2300000000000804, -1.2200000000000806, -1.2100000000000808, -1.200000000000081, -1.1900000000000812, -1.1800000000000814, -1.1700000000000816, -1.1600000000000819, -1.150000000000082, -1.1400000000000823, -1.1300000000000825, -1.1200000000000827, -1.110000000000083, -1.1000000000000831, -1.0900000000000833, -1.0800000000000836, -1.0700000000000838, -1.060000000000084, -1.0500000000000842, -1.0400000000000844, -1.0300000000000846, -1.0200000000000848, -1.010000000000085, -1.0000000000000853, -0.9900000000000855, -0.9800000000000857, -0.9700000000000859, -0.9600000000000861, -0.9500000000000863, -0.9400000000000865, -0.9300000000000868, -0.920000000000087, -0.9100000000000872, -0.9000000000000874, -0.8900000000000876, -0.8800000000000878, -0.870000000000088, -0.8600000000000882, -0.8500000000000885, -0.8400000000000887, -0.8300000000000889, -0.8200000000000891, -0.8100000000000893, -0.8000000000000895, -0.7900000000000897, -0.78000000000009, -0.7700000000000902, -0.7600000000000904, -0.7500000000000906, -0.7400000000000908, -0.730000000000091, -0.7200000000000912, -0.7100000000000914, -0.7000000000000917, -0.6900000000000919, -0.6800000000000921, -0.6700000000000923, -0.6600000000000925, -0.6500000000000927, -0.6400000000000929, -0.6300000000000932, -0.6200000000000934, -0.6100000000000936, -0.6000000000000938, -0.590000000000094, -0.5800000000000942, -0.5700000000000944, -0.5600000000000946, -0.5500000000000949, -0.5400000000000951, -0.5300000000000953, -0.5200000000000955, -0.5100000000000957, -0.5000000000000959, -0.49000000000009614, -0.48000000000009635, -0.47000000000009656, -0.4600000000000968, -0.450000000000097, -0.4400000000000972, -0.4300000000000974, -0.42000000000009763, -0.41000000000009784, -0.40000000000009805, -0.39000000000009827, -0.3800000000000985, -0.3700000000000987, -0.3600000000000989, -0.3500000000000991, -0.34000000000009933, -0.33000000000009955, -0.32000000000009976, -0.3100000000001, -0.3000000000001002, -0.2900000000001004, -0.2800000000001006, -0.2700000000001008, -0.26000000000010104, -0.25000000000010125, -0.24000000000010147, -0.23000000000010168, -0.2200000000001019, -0.2100000000001021, -0.20000000000010232, -0.19000000000010253, -0.18000000000010274, -0.17000000000010296, -0.16000000000010317, -0.15000000000010338, -0.1400000000001036, -0.1300000000001038, -0.12000000000010402, -0.11000000000010424, -0.10000000000010445, -0.09000000000010466, -0.08000000000010488, -0.07000000000010509, -0.0600000000001053, -0.050000000000105516, -0.04000000000010573, -0.030000000000105942, -0.020000000000106155, -0.010000000000106368, -1.0658141036401503e-13, 0.009999999999893205, 0.019999999999892992, 0.02999999999989278, 0.039999999999892566, 0.04999999999989235, 0.05999999999989214, 0.06999999999989193, 0.07999999999989171, 0.0899999999998915, 0.09999999999989129, 0.10999999999989107, 0.11999999999989086, 0.12999999999989065, 0.13999999999989043, 0.14999999999989022, 0.15999999999989, 0.1699999999998898, 0.17999999999988958, 0.18999999999988937, 0.19999999999988916, 0.20999999999988894, 0.21999999999988873, 0.22999999999988852, 0.2399999999998883, 0.2499999999998881, 0.2599999999998879, 0.26999999999988766, 0.27999999999988745, 0.28999999999988724, 0.299999999999887, 0.3099999999998868, 0.3199999999998866, 0.3299999999998864, 0.33999999999988617, 0.34999999999988596, 0.35999999999988574, 0.36999999999988553, 0.3799999999998853, 0.3899999999998851, 0.3999999999998849, 0.4099999999998847, 0.41999999999988447, 0.42999999999988425, 0.43999999999988404, 0.4499999999998838, 0.4599999999998836, 0.4699999999998834, 0.4799999999998832, 0.489999999999883, 0.49999999999988276, 0.5099999999998825, 0.5199999999998823, 0.5299999999998821, 0.5399999999998819, 0.5499999999998817, 0.5599999999998815, 0.5699999999998813, 0.579999999999881, 0.5899999999998808, 0.5999999999998806, 0.6099999999998804, 0.6199999999998802, 0.62999999999988, 0.6399999999998798, 0.6499999999998796, 0.6599999999998793, 0.6699999999998791, 0.6799999999998789, 0.6899999999998787, 0.6999999999998785, 0.7099999999998783, 0.7199999999998781, 0.7299999999998779, 0.7399999999998776, 0.7499999999998774, 0.7599999999998772, 0.769999999999877, 0.7799999999998768, 0.7899999999998766, 0.7999999999998764, 0.8099999999998762, 0.8199999999998759, 0.8299999999998757, 0.8399999999998755, 0.8499999999998753, 0.8599999999998751, 0.8699999999998749, 0.8799999999998747, 0.8899999999998744, 0.8999999999998742, 0.909999999999874, 0.9199999999998738, 0.9299999999998736, 0.9399999999998734, 0.9499999999998732, 0.959999999999873, 0.9699999999998727, 0.9799999999998725, 0.9899999999998723, 0.9999999999998721, 1.009999999999872, 1.0199999999998717, 1.0299999999998715, 1.0399999999998712, 1.049999999999871, 1.0599999999998708, 1.0699999999998706, 1.0799999999998704, 1.0899999999998702, 1.09999999999987, 1.1099999999998698, 1.1199999999998695, 1.1299999999998693, 1.1399999999998691, 1.149999999999869, 1.1599999999998687, 1.1699999999998685, 1.1799999999998683, 1.189999999999868, 1.1999999999998678, 1.2099999999998676, 1.2199999999998674, 1.2299999999998672, 1.239999999999867, 1.2499999999998668, 1.2599999999998666, 1.2699999999998663, 1.2799999999998661, 1.289999999999866, 1.2999999999998657, 1.3099999999998655, 1.3199999999998653, 1.329999999999865, 1.3399999999998649, 1.3499999999998646, 1.3599999999998644, 1.3699999999998642, 1.379999999999864, 1.3899999999998638, 1.3999999999998636, 1.4099999999998634, 1.4199999999998631, 1.429999999999863, 1.4399999999998627, 1.4499999999998625, 1.4599999999998623, 1.469999999999862, 1.4799999999998619, 1.4899999999998617, 1.4999999999998614, 1.5099999999998612, 1.519999999999861, 1.5299999999998608, 1.5399999999998606, 1.5499999999998604, 1.5599999999998602, 1.56999999999986, 1.5799999999998597, 1.5899999999998595, 1.5999999999998593, 1.609999999999859, 1.6199999999998589, 1.6299999999998587, 1.6399999999998585, 1.6499999999998582, 1.659999999999858, 1.6699999999998578, 1.6799999999998576, 1.6899999999998574, 1.6999999999998572, 1.709999999999857, 1.7199999999998568, 1.7299999999998565, 1.7399999999998563, 1.7499999999998561, 1.759999999999856, 1.7699999999998557, 1.7799999999998555, 1.7899999999998553, 1.799999999999855, 1.8099999999998548, 1.8199999999998546, 1.8299999999998544, 1.8399999999998542, 1.849999999999854, 1.8599999999998538, 1.8699999999998536, 1.8799999999998533, 1.8899999999998531, 1.899999999999853, 1.9099999999998527, 1.9199999999998525, 1.9299999999998523, 1.939999999999852, 1.9499999999998519, 1.9599999999998516, 1.9699999999998514, 1.9799999999998512, 1.989999999999851, 1.9999999999998508, 2.0099999999998506, 2.0199999999998504, 2.02999999999985, 2.03999999999985, 2.0499999999998497, 2.0599999999998495, 2.0699999999998493, 2.079999999999849, 2.089999999999849, 2.0999999999998487, 2.1099999999998484, 2.1199999999998482, 2.129999999999848, 2.139999999999848, 2.1499999999998476, 2.1599999999998474, 2.169999999999847, 2.179999999999847, 2.1899999999998467, 2.1999999999998465, 2.2099999999998463, 2.219999999999846, 2.229999999999846, 2.2399999999998457, 2.2499999999998455, 2.2599999999998452, 2.269999999999845, 2.279999999999845, 2.2899999999998446, 2.2999999999998444, 2.309999999999844, 2.319999999999844, 2.3299999999998438, 2.3399999999998435, 2.3499999999998433, 2.359999999999843, 2.369999999999843, 2.3799999999998427, 2.3899999999998425, 2.3999999999998423, 2.409999999999842, 2.419999999999842, 2.4299999999998416, 2.4399999999998414, 2.449999999999841, 2.459999999999841, 2.4699999999998408, 2.4799999999998406, 2.4899999999998403, 2.49999999999984, 2.50999999999984, 2.5199999999998397, 2.5299999999998395, 2.5399999999998393, 2.549999999999839, 2.559999999999839, 2.5699999999998386, 2.5799999999998384, 2.589999999999838, 2.599999999999838, 2.609999999999838, 2.6199999999998376, 2.6299999999998374, 2.639999999999837, 2.649999999999837, 2.6599999999998367, 2.6699999999998365, 2.6799999999998363, 2.689999999999836, 2.699999999999836, 2.7099999999998357, 2.7199999999998354, 2.7299999999998352, 2.739999999999835, 2.749999999999835, 2.7599999999998346, 2.7699999999998344, 2.779999999999834, 2.789999999999834, 2.7999999999998337, 2.8099999999998335, 2.8199999999998333, 2.829999999999833, 2.839999999999833, 2.8499999999998327, 2.8599999999998325, 2.8699999999998322, 2.879999999999832, 2.889999999999832, 2.8999999999998316, 2.9099999999998314, 2.919999999999831, 2.929999999999831, 2.9399999999998307, 2.9499999999998305, 2.9599999999998303, 2.96999999999983, 2.97999999999983, 2.9899999999998297, 2.9999999999998295, 3.0099999999998293, 3.019999999999829, 3.029999999999829, 3.0399999999998286, 3.0499999999998284, 3.059999999999828, 3.069999999999828, 3.0799999999998278, 3.0899999999998276, 3.0999999999998273, 3.109999999999827, 3.119999999999827, 3.1299999999998267, 3.1399999999998265, 3.1499999999998263, 3.159999999999826, 3.169999999999826, 3.1799999999998256, 3.1899999999998254, 3.199999999999825, 3.209999999999825, 3.219999999999825, 3.2299999999998246, 3.2399999999998244, 3.249999999999824, 3.259999999999824, 3.2699999999998237, 3.2799999999998235, 3.2899999999998233, 3.299999999999823, 3.309999999999823, 3.3199999999998226, 3.3299999999998224, 3.3399999999998222, 3.349999999999822, 3.359999999999822, 3.3699999999998216, 3.3799999999998214, 3.389999999999821, 3.399999999999821, 3.4099999999998207, 3.4199999999998205, 3.4299999999998203, 3.43999999999982, 3.44999999999982, 3.4599999999998197, 3.4699999999998195, 3.4799999999998192, 3.489999999999819, 3.499999999999819, 3.5099999999998186, 3.5199999999998184, 3.529999999999818, 3.539999999999818, 3.5499999999998177, 3.5599999999998175, 3.5699999999998173, 3.579999999999817, 3.589999999999817, 3.5999999999998167, 3.6099999999998165, 3.6199999999998163, 3.629999999999816, 3.639999999999816, 3.6499999999998156, 3.6599999999998154, 3.669999999999815, 3.679999999999815, 3.6899999999998148, 3.6999999999998145, 3.7099999999998143, 3.719999999999814, 3.729999999999814, 3.7399999999998137, 3.7499999999998135, 3.7599999999998133, 3.769999999999813, 3.779999999999813, 3.7899999999998126, 3.7999999999998124, 3.809999999999812, 3.819999999999812, 3.8299999999998118, 3.8399999999998116, 3.8499999999998114, 3.859999999999811, 3.869999999999811, 3.8799999999998107, 3.8899999999998105, 3.8999999999998103, 3.90999999999981, 3.91999999999981, 3.9299999999998096, 3.9399999999998094, 3.949999999999809, 3.959999999999809, 3.969999999999809, 3.9799999999998086, 3.9899999999998084, 3.999999999999808, 4.009999999999808, 4.019999999999808, 4.0299999999998075, 4.039999999999807, 4.049999999999807, 4.059999999999807, 4.069999999999807, 4.0799999999998064, 4.089999999999806, 4.099999999999806, 4.109999999999806, 4.119999999999806, 4.129999999999805, 4.139999999999805, 4.149999999999805, 4.159999999999805, 4.1699999999998045, 4.179999999999804, 4.189999999999804, 4.199999999999804, 4.209999999999804, 4.2199999999998035, 4.229999999999803, 4.239999999999803, 4.249999999999803, 4.259999999999803, 4.269999999999802, 4.279999999999802, 4.289999999999802, 4.299999999999802, 4.3099999999998015, 4.319999999999801, 4.329999999999801, 4.339999999999801, 4.349999999999801, 4.3599999999998005, 4.3699999999998, 4.3799999999998, 4.3899999999998, 4.3999999999998, 4.409999999999799, 4.419999999999799, 4.429999999999799, 4.439999999999799, 4.449999999999799, 4.459999999999798, 4.469999999999798, 4.479999999999798, 4.489999999999798, 4.4999999999997975, 4.509999999999797, 4.519999999999797, 4.529999999999797, 4.539999999999797, 4.549999999999796, 4.559999999999796, 4.569999999999796, 4.579999999999796, 4.589999999999796, 4.599999999999795, 4.609999999999795, 4.619999999999795, 4.629999999999795, 4.6399999999997945, 4.649999999999794, 4.659999999999794, 4.669999999999794, 4.679999999999794, 4.6899999999997934, 4.699999999999793, 4.709999999999793, 4.719999999999793, 4.729999999999793, 4.739999999999792, 4.749999999999792, 4.759999999999792, 4.769999999999792, 4.7799999999997915, 4.789999999999791, 4.799999999999791, 4.809999999999791, 4.819999999999791, 4.8299999999997905, 4.83999999999979, 4.84999999999979, 4.85999999999979, 4.86999999999979, 4.879999999999789, 4.889999999999789, 4.899999999999789, 4.909999999999789, 4.9199999999997885, 4.929999999999788, 4.939999999999788, 4.949999999999788, 4.959999999999788, 4.9699999999997875, 4.979999999999787, 4.989999999999787] [0.0066928509242848554, 0.00675966051071325, 0.00682713242213816, 0.006895273132646139, 0.006964089177762083, 0.007033587154995153, 0.00710377372438877, 0.007174655609074725, 0.007246239595831415, 0.0073185325356462105, 0.007391541344281957, 0.0074652730028476715, 0.007539734558373374, 0.007614933124389136, 0.007690875881508311, 0.007767570078014978, 0.007845023030455606, 0.007923242124234956, 0.008002234814216212, 0.008082008625325363, 0.00816257115315986, 0.008243930064601527, 0.008326093098433745, 0.008409068065962935, 0.00849286285164431, 0.008577485413711939, 0.008662943784813117, 0.008749246072647014, 0.008836400460607666, 0.008924415208431265, 0.009013298652847767, 0.009103059208236824, 0.00919370536728803, 0.009285245701665508, 0.009377688862676788, 0.00947104358194604, 0.009565318672091599, 0.009660523027407827, 0.009756665624551278, 0.009853755523231185, 0.009951801866904237, 0.010050813883473666, 0.010150800885992631, 0.01025177227337187, 0.010353737531091652, 0.01045670623191797, 0.01056068803662302, 0.01066569269470989, 0.01077173004514151, 0.01087881001707381, 0.010986942630593063, 0.011096137997457447, 0.011206406321842747, 0.011317757901092221, 0.011430203126470593, 0.011543752483922155, 0.011658416554832962, 0.011774206016797075, 0.011891131644386845, 0.01200920430992724, 0.012128434984274086, 0.012248834737596349, 0.012370414740162265, 0.01249318626312939, 0.012617160679338525, 0.012742349464111428, 0.012868764196052325, 0.012996416557853177, 0.013125318337102615, 0.013255481427098589, 0.013386917827664581, 0.013519639645969436, 0.013653659097350683, 0.013788988506141346, 0.013925640306500175, 0.014063627043245253, 0.0142029613726909, 0.01434365606348786, 0.014485723997466653, 0.01462917817048408, 0.01477403169327281, 0.01492029779229395, 0.015067989810592559, 0.015217121208656032, 0.01536770556527528, 0.015519756578408615, 0.015673288066048282, 0.015828313967089554, 0.01598484834220229, 0.01614290537470491, 0.016302499371440633, 0.01646364476365597, 0.016626356107881303, 0.016790648086813496, 0.016956535510200436, 0.017124033315727392, 0.01729315656990508, 0.017463920468959334, 0.017636340339722317, 0.017810431640525027, 0.01798620996209118, 0.018163691028432134, 0.018342890697742895, 0.018523824963299008, 0.018706509954354196, 0.018890961937038635, 0.019077197315257737, 0.019265232631591248, 0.01945508456819259, 0.019646769947688252, 0.01984030573407705, 0.0200357090336292, 0.020232997095784928, 0.020432187314052535, 0.020633297226905704, 0.020836344518679925, 0.02104134702046777, 0.021248322711012967, 0.021457289717602992, 0.02166826631695999, 0.02188127093612993, 0.02209632215336963, 0.022313438699031667, 0.02253263945644673, 0.022753943462803402, 0.022977369910025018, 0.023202938145643472, 0.023430667673669695, 0.023660578155460577, 0.02389268941058212, 0.024127021417668548, 0.024363594315277185, 0.02460242840273876, 0.024843544141003003, 0.025086962153479116, 0.02533270322687102, 0.025580788312006966, 0.02583123852466332, 0.026084075146382193, 0.026339319625282628, 0.02659699357686508, 0.026857118784808866, 0.027119717201762244, 0.02738481095012487, 0.027652422322822313, 0.027922573784072178, 0.028195287970141716, 0.028470587690096378, 0.028748495926539094, 0.029029035836339874, 0.02931223075135541, 0.029598104179138263, 0.029886679803635297, 0.030177981485874986, 0.030472033264643185, 0.030768859357147026, 0.03106848415966641, 0.03137093224819289, 0.031676228379055364, 0.031984397489532204, 0.03229546469844945, 0.03260945530676451, 0.032926394798135146, 0.03324630883947299, 0.03356922328148138, 0.033895164159176996, 0.03422415769239471, 0.03455623028627532, 0.03489140853173563, 0.03522971920592027, 0.03557118927263493, 0.03591584588276044, 0.036263716374647065, 0.03661482827448859, 0.03696920929667572, 0.03732688734412812, 0.03768789050860456, 0.038052247070990725, 0.03841998550156398, 0.03879113446023462, 0.03916572279676291, 0.03954377955095149, 0.0399253339528123, 0.04031041542270771, 0.04069905357146496, 0.04109127820046345, 0.04148711930169428, 0.041886607057791105, 0.04228977184203217, 0.04269664421831227, 0.04310725494108445, 0.04352163495527049, 0.04393981539613961, 0.04436182758915463, 0.044787703049784966, 0.0452174734832857, 0.045651170784441905, 0.046088827037277805, 0.0465304745147296, 0.04697614567828164, 0.04742587317756485, 0.047879689849916925, 0.04833762871990323, 0.04879972299879798, 0.04926600608402461, 0.04973651155855466, 0.05021127319026444, 0.05069032493124854, 0.0511737009170895, 0.051661435466082664, 0.052153563078415524, 0.052650118435300666, 0.053151136398061447, 0.05365665200716958, 0.05416670048123374, 0.054681317215938385, 0.055200537782931894, 0.055724397928662996, 0.0562529335731649, 0.05678618080878599, 0.05732417589886621, 0.05786695527635844, 0.05841455554239365, 0.05896701346478913, 0.059524365976498836, 0.06008665017400491, 0.06065390331564938, 0.06122616281990523, 0.06180346626358577, 0.06238585137999154, 0.0629733560569936, 0.06356601833505235, 0.06416387640517097, 0.06476696860678252, 0.06537533342556957, 0.0659890094912157, 0.06660803557508753, 0.06723245058784687, 0.06786229357699129, 0.06849760372432284, 0.06913842034334353, 0.06978478287657675, 0.0704367308928137, 0.07109430408428374, 0.07175754226374786, 0.0724264853615142, 0.07310117342237465, 0.07378164660246168, 0.07446794516602442, 0.07516010948212293, 0.07585818002123981, 0.07656219735180837, 0.07727220213665606, 0.0779882351293625, 0.0787103371705313, 0.0794385491839744, 0.0801729121728083, 0.08091346721546126, 0.08166025546159053, 0.08241331812790863, 0.08317269649391815, 0.08393843189755384, 0.08471056573073146, 0.08548913943480216, 0.08627419449591225, 0.08706577244026677, 0.0878639148292967, 0.08866866325472869, 0.08948005933355678, 0.09029814470291513, 0.09112296101485136, 0.09195454993099952, 0.09279295311715212, 0.09363821223773076, 0.09449036895015431, 0.09534946489910444, 0.09621554171068773, 0.09708864098649375, 0.09796880429754869, 0.09885607317816407, 0.09975048911967978, 0.10065209356410144, 0.10156092789763116, 0.10247703344409181, 0.10340045145824396, 0.10433122311899562, 0.10526938952250404, 0.10621499167516975, 0.10716807048652231, 0.10812866676199762, 0.10909682119560693, 0.11007257436249694, 0.11105596671140143, 0.1120470385569841, 0.11304583007207268, 0.11405238127978451, 0.11506673204554341, 0.11608892206898835, 0.11711899087577395, 0.1181569778092629, 0.11920292202211084, 0.12025686246774403, 0.12131883789173001, 0.12238888682304193, 0.12346704756521698, 0.12455335818740934, 0.1256478565153385, 0.12675058012213355, 0.127861566319074, 0.1289808521462283, 0.1301084743629904, 0.13124446943851578, 0.13238887354205775, 0.13354172253320476, 0.13470305195202031, 0.13587289700908636, 0.1370512925754517, 0.138238273172486, 0.13943387296164195, 0.14063812573412596, 0.1418510649004795, 0.14307272348007244, 0.14430313409051027, 0.1455423289369567, 0.14679033980137374, 0.14804719803168073, 0.1493129345308349, 0.15058757974583503, 0.15187116365665027, 0.1531637157650771, 0.15446526508352554, 0.15577584012373813, 0.15709546888544335, 0.15842417884494633, 0.1597619969436595, 0.16110894957657557, 0.16246506258068633, 0.16383036122334907, 0.16520487019060467, 0.1665886135754496, 0.1679816148660654, 0.16938389693400846, 0.17079548202236414, 0.17221639173386735, 0.17364664701899452, 0.1750862681640292, 0.17653527477910597, 0.17799368578623567, 0.1794615194073159, 0.180938793152131, 0.18242552380634522, 0.18392172741949303, 0.1854274192929709, 0.18694261396803494, 0.18846732521380788, 0.19000156601530133, 0.19154534856145575, 0.1930986842332046, 0.19466158359156596, 0.19623405636576705, 0.1978161114414061, 0.19940775684865616, 0.20100899975051698, 0.20261984643111794, 0.20424030228407916, 0.2058703718009346, 0.2075100585596228, 0.2091593652130504, 0.21081829347773406, 0.212486844122526, 0.2141650169574281, 0.2158528108225012, 0.217550223576874, 0.21925725208785812, 0.2209738922201741, 0.22270013882529502, 0.22443598573091256, 0.22618142573053215, 0.2279364505732021, 0.22970105095338383, 0.23147521650096795, 0.23325893577144266, 0.23505219623622062, 0.23685498427312984, 0.23866728515707475, 0.24048908305087394, 0.24232036099628004, 0.2441611009051877, 0.24601128355103657, 0.24787088856041442, 0.24973989440486685, 0.2516182783929201, 0.25350601666232203, 0.2554030841725081, 0.2573094546972982, 0.25922510081782985, 0.26114999391573473, 0.26308410416656336, 0.2650274005334647, 0.2669798507611258, 0.26894142136997834, 0.2709120776506766, 0.27289178365885347, 0.2748805022101598, 0.27687819487559295, 0.27888482197711956, 0.28090034258359864, 0.2829247145070099, 0.28495789429899254, 0.2869998372477005, 0.28905049737497807, 0.291109827433862, 0.2931777789064142, 0.2952543020018906, 0.29733934565525005, 0.2994328575260085, 0.30153478399744255, 0.30364507017614706, 0.3057636598919506, 0.3078904956981928, 0.3100255188723684, 0.31216866941714033, 0.3143198860617268, 0.3164791062636649, 0.3186462662109548, 0.32082130082458726, 0.32300414376145714, 0.3251947274176665, 0.32739298293221947, 0.3295988401911112, 0.3318122278318136, 0.3340330732481593, 0.33626130259562675, 0.3384968407970269, 0.3407396115485938, 0.34298953732648035, 0.34524653939365973, 0.3475105378072344, 0.34978145142615175, 0.3520591979193284, 0.3543436937741831, 0.3566348543055767, 0.3589325936651612, 0.3612368248511363, 0.36354745971841174, 0.3658644089891773, 0.36818758226387627, 0.3705168880325829, 0.37285223368678205, 0.3751935255315483, 0.37754066879812287, 0.3798935676568872, 0.3822521252307283, 0.384616243608795, 0.38698582386064156, 0.3893607660507549, 0.3917409692534624, 0.39412633156821614, 0.3965167501352504, 0.39891212115160674, 0.4013123398875244, 0.4037173007031885, 0.4061268970658336, 0.40854102156719607, 0.41095956594131094, 0.4133824210826459, 0.4158094770645685, 0.41824062315813954, 0.4206757478512262, 0.4231147388679293, 0.4255574831883165, 0.4280038670684568, 0.43045377606074625, 0.4329070950345209, 0.43536370819694603, 0.43782349911417695, 0.440286350732782, 0.44275214540141933, 0.4452207648927601, 0.4476920904256495, 0.45016600268749674, 0.4526423818568853, 0.45512110762639446, 0.45760205922562347, 0.46008511544440867, 0.4625701546562247, 0.46505705484175974, 0.4675456936126554, 0.47003594823540235, 0.4725276956553804, 0.47502081252103395, 0.47751517520817377, 0.48001065984439206, 0.4825071423335841, 0.4850044983805636, 0.4875026035157633, 0.49000133312000815, 0.49250056244935314, 0.4950001666599737, 0.4975000208330984, 0.49999999999997335, 0.5024999791668483, 0.504999833339973, 0.5074994375505936, 0.5099986668799386, 0.5124973964841835, 0.5149955016193831, 0.5174928576663627, 0.5199893401555548, 0.522484824791773, 0.5249791874789129, 0.5274723043445666, 0.5299640517645445, 0.5324543063872915, 0.5349429451581872, 0.5374298453437222, 0.5399148845555384, 0.5423979407743237, 0.5448788923735526, 0.5473576181430619, 0.5498339973124504, 0.5523079095742979, 0.5547792351071873, 0.5572478545985281, 0.5597136492671654, 0.5621765008857705, 0.5646362918030017, 0.5670929049654267, 0.5695462239392014, 0.5719961329314911, 0.5744425168116313, 0.5768852611320187, 0.5793242521487219, 0.5817593768418087, 0.5841905229353797, 0.5866175789173025, 0.5890404340586375, 0.5914589784327524, 0.593873102934115, 0.5962826992967601, 0.5986876601124244, 0.6010878788483421, 0.6034832498646987, 0.605873668431733, 0.6082590307464868, 0.6106392339491944, 0.6130141761393079, 0.6153837563911546, 0.6177478747692214, 0.6201064323430625, 0.6224593312018271, 0.6248064744684018, 0.627147766313168, 0.6294831119673674, 0.6318124177360741, 0.6341355910107732, 0.6364525402815389, 0.6387631751488145, 0.6410674063347896, 0.6433651456943744, 0.6456563062257682, 0.647940802080623, 0.6502185485737998, 0.6524894621927172, 0.6547534606062921, 0.6570104626734716, 0.6592603884513584, 0.6615031592029254, 0.6637386974043257, 0.6659669267517933, 0.6681877721681392, 0.6704011598088417, 0.6726070170677336, 0.6748052725822867, 0.6769958562384962, 0.6791786991753663, 0.6813537337889989, 0.683520893736289, 0.6856801139382274, 0.6878313305828139, 0.6899744811275861, 0.6921095043017618, 0.6942363401080041, 0.6963549298238079, 0.6984652160025125, 0.7005671424739468, 0.7026606543447054, 0.704745697998065, 0.7068222210935416, 0.708890172566094, 0.7109495026249781, 0.7130001627522559, 0.715042105700964, 0.7170752854929469, 0.7190996574163583, 0.7211151780228375, 0.7231218051243643, 0.7251194977897977, 0.7271082163411042, 0.7290879223492813, 0.7310585786299797, 0.7330201492388325, 0.7349725994664938, 0.7369158958333953, 0.7388500060842242, 0.7407748991821294, 0.742690545302661, 0.7445969158274512, 0.7464939833376376, 0.7483817216070398, 0.7502601055950933, 0.752129111439546, 0.753988716448924, 0.755838899094773, 0.7576796390036808, 0.7595109169490871, 0.7613327148428867, 0.7631450157268316, 0.764947803763741, 0.7667410642285193, 0.7685247834989941, 0.7702989490465785, 0.7720635494267604, 0.7738185742694306, 0.7755640142690503, 0.7772998611746681, 0.7790261077797892, 0.7807427479121054, 0.7824497764230898, 0.7841471891774626, 0.7858349830425361, 0.7875131558774382, 0.7891817065222304, 0.7908406347869144, 0.7924899414403421, 0.7941296281990305, 0.7957596977158862, 0.7973801535688477, 0.7989910002494488, 0.8005922431513098, 0.8021838885585602, 0.8037659436341993, 0.8053384164084006, 0.8069013157667622, 0.8084546514385113, 0.8099984339846659, 0.8115326747861595, 0.8130573860319327, 0.8145725807069969, 0.8160782725804749, 0.817574476193623, 0.8190612068478375, 0.8205384805926528, 0.8220063142137332, 0.823464725220863, 0.8249137318359401, 0.826353352980975, 0.8277836082661022, 0.8292045179776056, 0.8306161030659616, 0.8320183851339048, 0.8334113864245208, 0.8347951298093659, 0.8361696387766216, 0.8375349374192845, 0.8388910504233955, 0.8402380030563118, 0.8415758211550252, 0.8429045311145285, 0.8442241598762339, 0.8455347349164467, 0.8468362842348952, 0.8481288363433224, 0.8494124202541378, 0.850687065469138, 0.8519528019682924, 0.8532096601985996, 0.8544576710630167, 0.8556968659094635, 0.8569272765199014, 0.8581489350994946, 0.8593618742658483, 0.8605661270383326, 0.8617617268274886, 0.862948707424523, 0.8641271029908885, 0.8652969480479549, 0.8664582774667705, 0.8676111264579177, 0.86875553056146, 0.8698915256369855, 0.8710191478537478, 0.8721384336809022, 0.8732494198778429, 0.8743521434846381, 0.8754466418125674, 0.8765329524347599, 0.8776111131769351, 0.8786811621082473, 0.8797431375322335, 0.8807970779778669, 0.8818430221907149, 0.8828810091242041, 0.8839110779309898, 0.8849332679544348, 0.8859476187201939, 0.8869541699279059, 0.8879529614429946, 0.8889440332885775, 0.8899274256374822, 0.8909031788043723, 0.8918713332379818, 0.8928319295134574, 0.8937850083248099, 0.8947306104774758, 0.8956687768809845, 0.8965995485417363, 0.8975229665558886, 0.8984390721023494, 0.8993479064358793, 0.900249510880301, 0.9011439268218169, 0.9020311957024324, 0.9029113590134876, 0.9037844582892938, 0.9046505351008771, 0.9055096310498275, 0.9063617877622511, 0.9072070468828299, 0.9080454500689826, 0.908877038985131, 0.9097018552970674, 0.9105199406664259, 0.9113313367452541, 0.9121360851706862, 0.9129342275597163, 0.9137258055040709, 0.914510860565181, 0.915289434269252, 0.9160615681024298, 0.9168273035060656, 0.9175866818720751, 0.9183397445383936, 0.9190865327845228, 0.919827087827176, 0.92056145081601, 0.9212896628294531, 0.9220117648706222, 0.9227277978633288, 0.9234378026481764, 0.9241418199787453, 0.9248398905178622, 0.9255320548339608, 0.9262183533975237, 0.926898826577611, 0.9275735146384716, 0.9282424577362379, 0.9289056959157022, 0.9295632691071725, 0.9302152171234094, 0.9308615796566427, 0.9315023962756636, 0.9321377064229951, 0.9327675494121398, 0.9333919644248992, 0.9340109905087712, 0.9346246665744175, 0.9352330313932046, 0.9358361235948163, 0.936433981664935, 0.9370266439429938, 0.9376141486199959, 0.9381965337364019, 0.9387738371800826, 0.9393460966843385, 0.939913349825983, 0.9404756340234892, 0.9410329865351991, 0.9415854444575946, 0.9421330447236299, 0.9426758241011222, 0.9432138191912026, 0.9437470664268238, 0.9442756020713259, 0.944799462217057, 0.9453186827840505, 0.9458332995187554, 0.9463433479928197, 0.9468488636019279, 0.9473498815646887, 0.947846436921574, 0.9483385645339069, 0.9488262990829002, 0.9493096750687413, 0.9497887268097254, 0.9502634884414354, 0.9507339939159655, 0.9512002770011921, 0.951662371280087, 0.9521203101500735, 0.9525741268224255, 0.9530238543217089, 0.953469525485261, 0.9539111729627128, 0.9543488292155488, 0.9547825265167051, 0.9552122969502059, 0.9556381724108363, 0.9560601846038514, 0.9564783650447207, 0.9568927450589068, 0.957303355781679, 0.9577102281579593, 0.9581133929422003, 0.9585128806982972, 0.9589087217995281, 0.9593009464285268, 0.9596895845772841, 0.9600746660471795, 0.9604562204490404, 0.9608342772032291, 0.9612088655397575, 0.9615800144984281, 0.9619477529290014, 0.9623121094913878, 0.9626731126558642, 0.9630307907033168, 0.963385171725504, 0.9637362836253455, 0.9640841541172321, 0.9644288107273576, 0.9647702807940725, 0.9651085914682571, 0.9654437697137176, 0.9657758423075983, 0.9661048358408161, 0.9664307767185117, 0.9667536911605201, 0.967073605201858, 0.9673905446932287, 0.967704535301544, 0.9680156025104611, 0.9683237716209381, 0.9686290677518006, 0.9689315158403272, 0.9692311406428465, 0.9695279667353505, 0.9698220185141189, 0.9701133201963584, 0.9704018958208557, 0.9706877692486385, 0.9709709641636542, 0.971251504073455, 0.9715294123098979, 0.9718047120298524, 0.9720774262159221, 0.9723475776771718, 0.9726151890498694, 0.9728802827982321, 0.9731428812151856, 0.9734030064231295, 0.9736606803747119, 0.9739159248536124, 0.9741687614753314, 0.9744192116879877, 0.9746672967731237, 0.9749130378465156, 0.9751564558589919, 0.975397571597256, 0.9756364056847178, 0.9758729785823264, 0.9761073105894129, 0.9763394218445346, 0.9765693323263255, 0.9767970618543518, 0.9770226300899703, 0.9772460565371919, 0.9774673605435484, 0.9776865613009637, 0.9779036778466257, 0.9781187290638654, 0.9783317336830355, 0.9785427102823925, 0.9787516772889826, 0.9789586529795279, 0.9791636554813157, 0.97936670277309, 0.9795678126859432, 0.9797670029042107, 0.9799642909663667, 0.9801596942659186, 0.9803532300523077, 0.9805449154318033, 0.9807347673684047, 0.9809228026847382, 0.9811090380629575, 0.9812934900456418, 0.9814761750366973, 0.9816571093022533, 0.9818363089715639, 0.982013790037905, 0.9821895683594712, 0.9823636596602741, 0.982536079531037, 0.9827068434300914, 0.9828759666842691, 0.9830434644897961, 0.9832093519131829, 0.9833736438921151, 0.9835363552363405, 0.9836975006285559, 0.9838570946252917, 0.9840151516577944, 0.9841716860329072, 0.9843267119339484, 0.9844802434215881, 0.9846322944347214, 0.9847828787913409, 0.9849320101894043, 0.9850797022077029, 0.9852259683067242, 0.9853708218295129, 0.9855142760025303, 0.985656343936509, 0.985797038627306, 0.9859363729567518, 0.986074359693497, 0.9862110114938557, 0.9863463409026465, 0.9864803603540279, 0.9866130821723326, 0.9867445185728987, 0.9868746816628946, 0.9870035834421441, 0.9871312358039449, 0.9872576505358858, 0.987382839320659, 0.9875068137368679, 0.987629585259835, 0.9877511652624009, 0.9878715650157234, 0.9879907956900702, 0.9881088683556106, 0.9882257939832004, 0.9883415834451647, 0.9884562475160754, 0.988569796873527, 0.9886822420989054, 0.9887935936781549, 0.9889038620025401, 0.9890130573694047, 0.989121189982924, 0.9892282699548562, 0.9893343073052878, 0.9894393119633749, 0.9895432937680799, 0.9896462624689061, 0.989748227726626, 0.9898491991140052, 0.9899491861165242, 0.9900481981330937, 0.9901462444767668, 0.9902433343754465, 0.9903394769725903, 0.9904346813279064, 0.9905289564180518, 0.9906223111373212, 0.9907147542983326, 0.9908062946327101, 0.9908969407917612, 0.9909867013471504, 0.9910755847915669, 0.9911635995393905, 0.9912507539273512, 0.9913370562151851, 0.9914225145862863, 0.9915071371483538, 0.9915909319340352, 0.9916739069015644, 0.9917560699353967, 0.9918374288468383, 0.991917991374673, 0.9919977651857821, 0.9920767578757634, 0.9921549769695428, 0.9922324299219835, 0.9923091241184899, 0.9923850668756092, 0.992460265441625, 0.9925347269971507, 0.9926084586557166, 0.9926814674643523, 0.992753760404167, 0.9928253443909236, 0.9928962262756098, 0.9929664128450033, 0.9930359108222363, 0.9931047268673525, 0.9931728675778604, 0.9932403394892853]\n",
            "8/8 [==============================] - 0s 7ms/step - loss: 6.2098e-05 - mae: 0.0066\n"
          ]
        },
        {
          "output_type": "execute_result",
          "data": {
            "text/plain": [
              "[6.209756247699261e-05, 0.006632378790527582]"
            ]
          },
          "metadata": {},
          "execution_count": 101
        }
      ]
    },
    {
      "cell_type": "code",
      "source": [
        "# 5. Generate predictions\n",
        "y_pred = new_model.predict(x_test)\n",
        "\n",
        "# 6. Plot the predictions\n",
        "plot_predictions(x_train, y_train, x_test, y_test, y_pred)\n",
        "\n",
        "# 7. Calculate the loss\n",
        "loss = tf.metrics.mean_absolute_error(y_test, tf.squeeze(y_pred))\n",
        "print(loss)"
      ],
      "metadata": {
        "colab": {
          "base_uri": "https://localhost:8080/",
          "height": 789
        },
        "id": "WuzV-ucScKxr",
        "outputId": "24ec6766-a1cb-477b-c427-2cd8704112a1"
      },
      "execution_count": 102,
      "outputs": [
        {
          "output_type": "stream",
          "name": "stdout",
          "text": [
            "8/8 [==============================] - 0s 2ms/step\n",
            "tf.Tensor(0.006632383, shape=(), dtype=float32)\n"
          ]
        },
        {
          "output_type": "display_data",
          "data": {
            "text/plain": [
              "<Figure size 1600x900 with 1 Axes>"
            ],
            "image/png": "[encoded data removed]"
          },
          "metadata": {}
        }
      ]
    },
    {
      "cell_type": "markdown",
      "source": [
        "### Running experiments to improve the model\n",
        "We can run a series of experiments in order to improve the model.\n",
        "1. **Get more data**: Get more examples for the model to train on (more opportunities to learn patterns between features and labels).\n",
        "2. **Make the model larger**: Add more layers or units to each layer.\n",
        "3. **Train for longer**: Increase the number of repetitions to find more minimums"
      ],
      "metadata": {
        "id": "oz8l90LVmmae"
      }
    },
    {
      "cell_type": "markdown",
      "source": [
        "### Saving models\n",
        "\n",
        "Models can be persisted."
      ],
      "metadata": {
        "id": "ZdIQe5wMydav"
      }
    },
    {
      "cell_type": "code",
      "source": [
        "new_model.save(\"close_model_1\")"
      ],
      "metadata": {
        "colab": {
          "base_uri": "https://localhost:8080/"
        },
        "id": "dnjOqpaocMXy",
        "outputId": "34f194ea-ad18-42c7-f576-8446bb2fb741"
      },
      "execution_count": 103,
      "outputs": [
        {
          "output_type": "stream",
          "name": "stderr",
          "text": [
            "WARNING:absl:Found untraced functions such as _update_step_xla while saving (showing 1 of 1). These functions will not be directly callable after loading.\n"
          ]
        }
      ]
    },
    {
      "cell_type": "code",
      "source": [],
      "metadata": {
        "id": "zeWMxHOBzijR"
      },
      "execution_count": null,
      "outputs": []
    }
  ],
  "metadata": {
    "colab": {
      "provenance": [],
      "authorship_tag": "ABX9TyNfolxrQjE9sjhpzVvF4LMj",
      "include_colab_link": true
    },
    "kernelspec": {
      "display_name": "Python 3",
      "name": "python3"
    },
    "language_info": {
      "name": "python"
    }
  },
  "nbformat": 4,
  "nbformat_minor": 0
}