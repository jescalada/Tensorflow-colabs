{
  "cells": [
    {
      "cell_type": "markdown",
      "metadata": {
        "id": "view-in-github",
        "colab_type": "text"
      },
      "source": [
        "<a href=\"https://colab.research.google.com/github/jescalada/Tensorflow-colabs/blob/main/01_neural_network_regression.ipynb\" target=\"_parent\"><img src=\"https://colab.research.google.com/assets/colab-badge.svg\" alt=\"Open In Colab\"/></a>"
      ]
    },
    {
      "cell_type": "markdown",
      "metadata": {
        "id": "BfGeWJvWopuE"
      },
      "source": [
        "# Introduction to regression with neural networks in TensorFlow\n",
        "There are many definitions for a regression problem. We will simplify to: Predicting a numerical variable based on a combination of other variables."
      ]
    },
    {
      "cell_type": "code",
      "execution_count": 8,
      "metadata": {
        "colab": {
          "base_uri": "https://localhost:8080/"
        },
        "id": "o1uyTOnVofm9",
        "outputId": "7a0924ac-7de9-4009-bd6f-c3ce5bca5aa8"
      },
      "outputs": [
        {
          "output_type": "stream",
          "name": "stdout",
          "text": [
            "2.12.0\n"
          ]
        }
      ],
      "source": [
        "# Import TensorFlow\n",
        "import tensorflow as tf\n",
        "print(tf.__version__)"
      ]
    },
    {
      "cell_type": "code",
      "execution_count": 9,
      "metadata": {
        "colab": {
          "base_uri": "https://localhost:8080/",
          "height": 452
        },
        "id": "azUrZERFpMBk",
        "outputId": "6a9f6d95-78e8-4bfb-e141-1f6b6c695ed9"
      },
      "outputs": [
        {
          "output_type": "execute_result",
          "data": {
            "text/plain": [
              "<matplotlib.collections.PathCollection at 0x7f79709a5210>"
            ]
          },
          "metadata": {},
          "execution_count": 9
        },
        {
          "output_type": "display_data",
          "data": {
            "text/plain": [
              "<Figure size 640x480 with 1 Axes>"
            ],
            "image/png": "[encoded data removed]"
          },
          "metadata": {}
        }
      ],
      "source": [
        "# Create some data to view and fit\n",
        "import numpy as np\n",
        "import matplotlib.pyplot as plt\n",
        "\n",
        "# Create features\n",
        "X = np.array([-13., -8., -4., -1., 1., 3., 6., 9., 13., 18., 24, 33])\n",
        "\n",
        "# Create labels\n",
        "y = np.array([2., 4., 6., 8., 10., 12., 14., 16., 18., 20., 22., 24.])\n",
        "\n",
        "plt.scatter(X, y)"
      ]
    },
    {
      "cell_type": "markdown",
      "metadata": {
        "id": "1ktyelHCqk1i"
      },
      "source": [
        "# Input and output shapes\n"
      ]
    },
    {
      "cell_type": "code",
      "execution_count": 10,
      "metadata": {
        "colab": {
          "base_uri": "https://localhost:8080/"
        },
        "id": "uBiddG9FqoWy",
        "outputId": "8a04eb63-14af-41c1-9daa-fd1d8bcccbb9"
      },
      "outputs": [
        {
          "output_type": "execute_result",
          "data": {
            "text/plain": [
              "(<tf.Tensor: shape=(3,), dtype=string, numpy=array([b'beds', b'baths', b'garages'], dtype=object)>,\n",
              " <tf.Tensor: shape=(1,), dtype=int32, numpy=array([939700], dtype=int32)>)"
            ]
          },
          "metadata": {},
          "execution_count": 10
        }
      ],
      "source": [
        "# Create a demo tensor to predict the price of a house\n",
        "house_info = tf.constant([\"beds\", \"baths\", \"garages\"])\n",
        "house_price = tf.constant([939700])\n",
        "house_info, house_price"
      ]
    },
    {
      "cell_type": "markdown",
      "metadata": {
        "id": "ENu75gN81lJk"
      },
      "source": [
        "# Steps in modelling with TensorFlow\n",
        "1. **Creating a model**: Define the input and output layers, as well as the hidden layers of the deep learning model\n",
        "2. **Compiling the model**: Define the **loss function**, which tells the model how wrong it is, define the **optimizer** which tells the model how to improve the patterns, and define **evaluation metrics** in order to interpret the performance of the model itself\n",
        "3. **Fitting the model**: Letting the model try to find patterns between X and Y (Features and labels)"
      ]
    },
    {
      "cell_type": "code",
      "execution_count": 11,
      "metadata": {
        "colab": {
          "base_uri": "https://localhost:8080/"
        },
        "id": "GIo__aM62tlm",
        "outputId": "7773ec7d-10ed-4ca0-b6c9-8a17434bd6f1"
      },
      "outputs": [
        {
          "output_type": "stream",
          "name": "stdout",
          "text": [
            "Epoch 1/100\n",
            "1/1 [==============================] - 1s 753ms/step - loss: 11.7649 - mae: 11.7649\n",
            "Epoch 2/100\n",
            "1/1 [==============================] - 0s 14ms/step - loss: 11.2993 - mae: 11.2993\n",
            "Epoch 3/100\n",
            "1/1 [==============================] - 0s 12ms/step - loss: 10.8337 - mae: 10.8337\n",
            "Epoch 4/100\n",
            "1/1 [==============================] - 0s 12ms/step - loss: 10.3681 - mae: 10.3681\n",
            "Epoch 5/100\n",
            "1/1 [==============================] - 0s 14ms/step - loss: 9.9024 - mae: 9.9024\n",
            "Epoch 6/100\n",
            "1/1 [==============================] - 0s 10ms/step - loss: 9.4368 - mae: 9.4368\n",
            "Epoch 7/100\n",
            "1/1 [==============================] - 0s 9ms/step - loss: 8.9712 - mae: 8.9712\n",
            "Epoch 8/100\n",
            "1/1 [==============================] - 0s 12ms/step - loss: 8.5056 - mae: 8.5056\n",
            "Epoch 9/100\n",
            "1/1 [==============================] - 0s 11ms/step - loss: 8.0399 - mae: 8.0399\n",
            "Epoch 10/100\n",
            "1/1 [==============================] - 0s 9ms/step - loss: 7.9369 - mae: 7.9369\n",
            "Epoch 11/100\n",
            "1/1 [==============================] - 0s 8ms/step - loss: 7.9143 - mae: 7.9143\n",
            "Epoch 12/100\n",
            "1/1 [==============================] - 0s 8ms/step - loss: 7.8918 - mae: 7.8918\n",
            "Epoch 13/100\n",
            "1/1 [==============================] - 0s 9ms/step - loss: 7.8692 - mae: 7.8692\n",
            "Epoch 14/100\n",
            "1/1 [==============================] - 0s 11ms/step - loss: 7.8466 - mae: 7.8466\n",
            "Epoch 15/100\n",
            "1/1 [==============================] - 0s 12ms/step - loss: 7.8241 - mae: 7.8241\n",
            "Epoch 16/100\n",
            "1/1 [==============================] - 0s 13ms/step - loss: 7.8015 - mae: 7.8015\n",
            "Epoch 17/100\n",
            "1/1 [==============================] - 0s 10ms/step - loss: 7.7789 - mae: 7.7789\n",
            "Epoch 18/100\n",
            "1/1 [==============================] - 0s 10ms/step - loss: 7.7564 - mae: 7.7564\n",
            "Epoch 19/100\n",
            "1/1 [==============================] - 0s 10ms/step - loss: 7.7338 - mae: 7.7338\n",
            "Epoch 20/100\n",
            "1/1 [==============================] - 0s 9ms/step - loss: 7.7353 - mae: 7.7353\n",
            "Epoch 21/100\n",
            "1/1 [==============================] - 0s 11ms/step - loss: 7.7400 - mae: 7.7400\n",
            "Epoch 22/100\n",
            "1/1 [==============================] - 0s 9ms/step - loss: 7.7175 - mae: 7.7175\n",
            "Epoch 23/100\n",
            "1/1 [==============================] - 0s 9ms/step - loss: 7.7129 - mae: 7.7129\n",
            "Epoch 24/100\n",
            "1/1 [==============================] - 0s 16ms/step - loss: 7.7237 - mae: 7.7237\n",
            "Epoch 25/100\n",
            "1/1 [==============================] - 0s 15ms/step - loss: 7.7011 - mae: 7.7011\n",
            "Epoch 26/100\n",
            "1/1 [==============================] - 0s 17ms/step - loss: 7.6905 - mae: 7.6905\n",
            "Epoch 27/100\n",
            "1/1 [==============================] - 0s 10ms/step - loss: 7.7074 - mae: 7.7074\n",
            "Epoch 28/100\n",
            "1/1 [==============================] - 0s 11ms/step - loss: 7.6848 - mae: 7.6848\n",
            "Epoch 29/100\n",
            "1/1 [==============================] - 0s 10ms/step - loss: 7.6680 - mae: 7.6680\n",
            "Epoch 30/100\n",
            "1/1 [==============================] - 0s 10ms/step - loss: 7.6911 - mae: 7.6911\n",
            "Epoch 31/100\n",
            "1/1 [==============================] - 0s 10ms/step - loss: 7.6685 - mae: 7.6685\n",
            "Epoch 32/100\n",
            "1/1 [==============================] - 0s 12ms/step - loss: 7.6459 - mae: 7.6459\n",
            "Epoch 33/100\n",
            "1/1 [==============================] - 0s 11ms/step - loss: 7.6744 - mae: 7.6744\n",
            "Epoch 34/100\n",
            "1/1 [==============================] - 0s 9ms/step - loss: 7.6522 - mae: 7.6522\n",
            "Epoch 35/100\n",
            "1/1 [==============================] - 0s 10ms/step - loss: 7.6296 - mae: 7.6296\n",
            "Epoch 36/100\n",
            "1/1 [==============================] - 0s 10ms/step - loss: 7.6520 - mae: 7.6520\n",
            "Epoch 37/100\n",
            "1/1 [==============================] - 0s 9ms/step - loss: 7.6359 - mae: 7.6359\n",
            "Epoch 38/100\n",
            "1/1 [==============================] - 0s 8ms/step - loss: 7.6133 - mae: 7.6133\n",
            "Epoch 39/100\n",
            "1/1 [==============================] - 0s 10ms/step - loss: 7.6296 - mae: 7.6296\n",
            "Epoch 40/100\n",
            "1/1 [==============================] - 0s 9ms/step - loss: 7.6195 - mae: 7.6195\n",
            "Epoch 41/100\n",
            "1/1 [==============================] - 0s 9ms/step - loss: 7.5970 - mae: 7.5970\n",
            "Epoch 42/100\n",
            "1/1 [==============================] - 0s 10ms/step - loss: 7.6071 - mae: 7.6071\n",
            "Epoch 43/100\n",
            "1/1 [==============================] - 0s 8ms/step - loss: 7.6032 - mae: 7.6032\n",
            "Epoch 44/100\n",
            "1/1 [==============================] - 0s 9ms/step - loss: 7.5807 - mae: 7.5807\n",
            "Epoch 45/100\n",
            "1/1 [==============================] - 0s 8ms/step - loss: 7.5847 - mae: 7.5847\n",
            "Epoch 46/100\n",
            "1/1 [==============================] - 0s 8ms/step - loss: 7.5869 - mae: 7.5869\n",
            "Epoch 47/100\n",
            "1/1 [==============================] - 0s 10ms/step - loss: 7.5643 - mae: 7.5643\n",
            "Epoch 48/100\n",
            "1/1 [==============================] - 0s 16ms/step - loss: 7.5623 - mae: 7.5623\n",
            "Epoch 49/100\n",
            "1/1 [==============================] - 0s 12ms/step - loss: 7.5706 - mae: 7.5706\n",
            "Epoch 50/100\n",
            "1/1 [==============================] - 0s 13ms/step - loss: 7.5480 - mae: 7.5480\n",
            "Epoch 51/100\n",
            "1/1 [==============================] - 0s 10ms/step - loss: 7.5398 - mae: 7.5398\n",
            "Epoch 52/100\n",
            "1/1 [==============================] - 0s 12ms/step - loss: 7.5543 - mae: 7.5543\n",
            "Epoch 53/100\n",
            "1/1 [==============================] - 0s 13ms/step - loss: 7.5317 - mae: 7.5317\n",
            "Epoch 54/100\n",
            "1/1 [==============================] - 0s 17ms/step - loss: 7.5174 - mae: 7.5174\n",
            "Epoch 55/100\n",
            "1/1 [==============================] - 0s 17ms/step - loss: 7.5380 - mae: 7.5380\n",
            "Epoch 56/100\n",
            "1/1 [==============================] - 0s 16ms/step - loss: 7.5154 - mae: 7.5154\n",
            "Epoch 57/100\n",
            "1/1 [==============================] - 0s 12ms/step - loss: 7.4950 - mae: 7.4950\n",
            "Epoch 58/100\n",
            "1/1 [==============================] - 0s 10ms/step - loss: 7.5216 - mae: 7.5216\n",
            "Epoch 59/100\n",
            "1/1 [==============================] - 0s 10ms/step - loss: 7.4991 - mae: 7.4991\n",
            "Epoch 60/100\n",
            "1/1 [==============================] - 0s 11ms/step - loss: 7.4765 - mae: 7.4765\n",
            "Epoch 61/100\n",
            "1/1 [==============================] - 0s 12ms/step - loss: 7.5014 - mae: 7.5014\n",
            "Epoch 62/100\n",
            "1/1 [==============================] - 0s 10ms/step - loss: 7.4827 - mae: 7.4827\n",
            "Epoch 63/100\n",
            "1/1 [==============================] - 0s 9ms/step - loss: 7.4602 - mae: 7.4602\n",
            "Epoch 64/100\n",
            "1/1 [==============================] - 0s 10ms/step - loss: 7.4789 - mae: 7.4789\n",
            "Epoch 65/100\n",
            "1/1 [==============================] - 0s 10ms/step - loss: 7.4664 - mae: 7.4664\n",
            "Epoch 66/100\n",
            "1/1 [==============================] - 0s 10ms/step - loss: 7.4439 - mae: 7.4439\n",
            "Epoch 67/100\n",
            "1/1 [==============================] - 0s 10ms/step - loss: 7.4565 - mae: 7.4565\n",
            "Epoch 68/100\n",
            "1/1 [==============================] - 0s 9ms/step - loss: 7.4501 - mae: 7.4501\n",
            "Epoch 69/100\n",
            "1/1 [==============================] - 0s 11ms/step - loss: 7.4275 - mae: 7.4275\n",
            "Epoch 70/100\n",
            "1/1 [==============================] - 0s 10ms/step - loss: 7.4341 - mae: 7.4341\n",
            "Epoch 71/100\n",
            "1/1 [==============================] - 0s 9ms/step - loss: 7.4338 - mae: 7.4338\n",
            "Epoch 72/100\n",
            "1/1 [==============================] - 0s 10ms/step - loss: 7.4112 - mae: 7.4112\n",
            "Epoch 73/100\n",
            "1/1 [==============================] - 0s 10ms/step - loss: 7.4116 - mae: 7.4116\n",
            "Epoch 74/100\n",
            "1/1 [==============================] - 0s 10ms/step - loss: 7.4175 - mae: 7.4175\n",
            "Epoch 75/100\n",
            "1/1 [==============================] - 0s 9ms/step - loss: 7.3949 - mae: 7.3949\n",
            "Epoch 76/100\n",
            "1/1 [==============================] - 0s 10ms/step - loss: 7.3892 - mae: 7.3892\n",
            "Epoch 77/100\n",
            "1/1 [==============================] - 0s 9ms/step - loss: 7.4011 - mae: 7.4011\n",
            "Epoch 78/100\n",
            "1/1 [==============================] - 0s 10ms/step - loss: 7.3786 - mae: 7.3786\n",
            "Epoch 79/100\n",
            "1/1 [==============================] - 0s 10ms/step - loss: 7.3668 - mae: 7.3668\n",
            "Epoch 80/100\n",
            "1/1 [==============================] - 0s 12ms/step - loss: 7.3848 - mae: 7.3848\n",
            "Epoch 81/100\n",
            "1/1 [==============================] - 0s 11ms/step - loss: 7.3623 - mae: 7.3623\n",
            "Epoch 82/100\n",
            "1/1 [==============================] - 0s 11ms/step - loss: 7.3444 - mae: 7.3444\n",
            "Epoch 83/100\n",
            "1/1 [==============================] - 0s 11ms/step - loss: 7.3685 - mae: 7.3685\n",
            "Epoch 84/100\n",
            "1/1 [==============================] - 0s 9ms/step - loss: 7.3459 - mae: 7.3459\n",
            "Epoch 85/100\n",
            "1/1 [==============================] - 0s 9ms/step - loss: 7.3234 - mae: 7.3234\n",
            "Epoch 86/100\n",
            "1/1 [==============================] - 0s 9ms/step - loss: 7.3507 - mae: 7.3507\n",
            "Epoch 87/100\n",
            "1/1 [==============================] - 0s 13ms/step - loss: 7.3296 - mae: 7.3296\n",
            "Epoch 88/100\n",
            "1/1 [==============================] - 0s 10ms/step - loss: 7.3070 - mae: 7.3070\n",
            "Epoch 89/100\n",
            "1/1 [==============================] - 0s 9ms/step - loss: 7.3283 - mae: 7.3283\n",
            "Epoch 90/100\n",
            "1/1 [==============================] - 0s 15ms/step - loss: 7.3133 - mae: 7.3133\n",
            "Epoch 91/100\n",
            "1/1 [==============================] - 0s 11ms/step - loss: 7.2907 - mae: 7.2907\n",
            "Epoch 92/100\n",
            "1/1 [==============================] - 0s 15ms/step - loss: 7.3059 - mae: 7.3059\n",
            "Epoch 93/100\n",
            "1/1 [==============================] - 0s 12ms/step - loss: 7.2970 - mae: 7.2970\n",
            "Epoch 94/100\n",
            "1/1 [==============================] - 0s 13ms/step - loss: 7.2744 - mae: 7.2744\n",
            "Epoch 95/100\n",
            "1/1 [==============================] - 0s 12ms/step - loss: 7.2835 - mae: 7.2835\n",
            "Epoch 96/100\n",
            "1/1 [==============================] - 0s 11ms/step - loss: 7.2807 - mae: 7.2807\n",
            "Epoch 97/100\n",
            "1/1 [==============================] - 0s 10ms/step - loss: 7.2581 - mae: 7.2581\n",
            "Epoch 98/100\n",
            "1/1 [==============================] - 0s 12ms/step - loss: 7.2610 - mae: 7.2610\n",
            "Epoch 99/100\n",
            "1/1 [==============================] - 0s 9ms/step - loss: 7.2643 - mae: 7.2643\n",
            "Epoch 100/100\n",
            "1/1 [==============================] - 0s 9ms/step - loss: 7.2418 - mae: 7.2418\n"
          ]
        },
        {
          "output_type": "execute_result",
          "data": {
            "text/plain": [
              "<keras.callbacks.History at 0x7f796e976f20>"
            ]
          },
          "metadata": {},
          "execution_count": 11
        }
      ],
      "source": [
        "# Set the random seed for reproducibility\n",
        "tf.random.set_seed(42)\n",
        "\n",
        "# 1. Create the model using the Sequential API\n",
        "model = tf.keras.Sequential([\n",
        "    tf.keras.layers.Dense(1)\n",
        "])\n",
        "\n",
        "# 2. Compile the model\n",
        "model.compile(loss=tf.keras.losses.mae,  # Mean Absolute Error\n",
        "              optimizer=tf.keras.optimizers.SGD(),\n",
        "              metrics=[\"mae\"])\n",
        "\n",
        "# 3. Fit the model\n",
        "model.fit(tf.expand_dims(X, axis=-1), y, epochs=100)\n",
        "\n"
      ]
    },
    {
      "cell_type": "code",
      "execution_count": 12,
      "metadata": {
        "colab": {
          "base_uri": "https://localhost:8080/",
          "height": 452
        },
        "id": "oBSmeshm9wcO",
        "outputId": "61bd3e31-40a5-4239-b266-873b80795147"
      },
      "outputs": [
        {
          "output_type": "execute_result",
          "data": {
            "text/plain": [
              "<matplotlib.collections.PathCollection at 0x7f7966d8c670>"
            ]
          },
          "metadata": {},
          "execution_count": 12
        },
        {
          "output_type": "display_data",
          "data": {
            "text/plain": [
              "<Figure size 640x480 with 1 Axes>"
            ],
            "image/png": "[encoded data removed]"
          },
          "metadata": {}
        }
      ],
      "source": [
        "plt.scatter(X, y)"
      ]
    },
    {
      "cell_type": "code",
      "execution_count": 13,
      "metadata": {
        "colab": {
          "base_uri": "https://localhost:8080/"
        },
        "id": "EnSrWmW4-WB7",
        "outputId": "7a4fd98a-b2ce-4879-cdc6-4512f51c1449"
      },
      "outputs": [
        {
          "output_type": "stream",
          "name": "stdout",
          "text": [
            "1/1 [==============================] - 0s 114ms/step\n"
          ]
        },
        {
          "output_type": "execute_result",
          "data": {
            "text/plain": [
              "array([[20.340408]], dtype=float32)"
            ]
          },
          "metadata": {},
          "execution_count": 13
        }
      ],
      "source": [
        "model.predict([22.])"
      ]
    },
    {
      "cell_type": "code",
      "execution_count": 14,
      "metadata": {
        "colab": {
          "base_uri": "https://localhost:8080/"
        },
        "id": "wz-w-pVA-cG6",
        "outputId": "facb90e6-71a4-49e4-fb23-d3a6161c4c43"
      },
      "outputs": [
        {
          "output_type": "stream",
          "name": "stdout",
          "text": [
            "1/1 [==============================] - 0s 65ms/step\n"
          ]
        },
        {
          "output_type": "execute_result",
          "data": {
            "text/plain": [
              "array([[22.116356]], dtype=float32)"
            ]
          },
          "metadata": {},
          "execution_count": 14
        }
      ],
      "source": [
        "model.predict([24])"
      ]
    },
    {
      "cell_type": "code",
      "execution_count": 15,
      "metadata": {
        "colab": {
          "base_uri": "https://localhost:8080/",
          "height": 823
        },
        "id": "3jPCP_Od-zCH",
        "outputId": "b520eb52-2ba9-4091-9212-8a75bb8fa274"
      },
      "outputs": [
        {
          "output_type": "stream",
          "name": "stdout",
          "text": [
            "1/1 [==============================] - 0s 46ms/step\n",
            "1/1 [==============================] - 0s 39ms/step\n",
            "1/1 [==============================] - 0s 38ms/step\n",
            "1/1 [==============================] - 0s 44ms/step\n",
            "1/1 [==============================] - 0s 38ms/step\n",
            "1/1 [==============================] - 0s 49ms/step\n",
            "1/1 [==============================] - 0s 38ms/step\n",
            "1/1 [==============================] - 0s 40ms/step\n",
            "1/1 [==============================] - 0s 43ms/step\n",
            "1/1 [==============================] - 0s 38ms/step\n",
            "1/1 [==============================] - 0s 38ms/step\n",
            "1/1 [==============================] - 0s 40ms/step\n",
            "1/1 [==============================] - 0s 37ms/step\n",
            "1/1 [==============================] - 0s 36ms/step\n",
            "1/1 [==============================] - 0s 37ms/step\n",
            "1/1 [==============================] - 0s 47ms/step\n",
            "1/1 [==============================] - 0s 45ms/step\n",
            "1/1 [==============================] - 0s 45ms/step\n",
            "1/1 [==============================] - 0s 46ms/step\n",
            "1/1 [==============================] - 0s 41ms/step\n",
            "1/1 [==============================] - 0s 44ms/step\n"
          ]
        },
        {
          "output_type": "execute_result",
          "data": {
            "text/plain": [
              "<matplotlib.collections.PathCollection at 0x7f7967fdfca0>"
            ]
          },
          "metadata": {},
          "execution_count": 15
        },
        {
          "output_type": "display_data",
          "data": {
            "text/plain": [
              "<Figure size 640x480 with 1 Axes>"
            ],
            "image/png": "[encoded data removed]"
          },
          "metadata": {}
        }
      ],
      "source": [
        "predictions1 = [(x, model.predict([x])) for x in range(-10, 32, 2)]\n",
        "pairs = list(zip(*predictions1))\n",
        "plt.scatter(pairs[0], pairs[1])"
      ]
    },
    {
      "cell_type": "markdown",
      "metadata": {
        "id": "FsNOJmgjB3MD"
      },
      "source": [
        "# Improving the model\n",
        "Depends on the step: We can change various parameters.\n",
        "1. Creation: Add more layers, increase the number of neurons, change the activation function of each layer\n",
        "2. Compilation: Change the optimization function or learning rate of the optimization function\n",
        "3. Fitting: Fit a model for more epochs, or more data (examples to learn from)"
      ]
    },
    {
      "cell_type": "code",
      "execution_count": 16,
      "metadata": {
        "id": "Q_ZnQrsVB7KC",
        "colab": {
          "base_uri": "https://localhost:8080/"
        },
        "outputId": "0791db31-1c5f-41e7-db0c-260fdc20014c"
      },
      "outputs": [
        {
          "output_type": "stream",
          "name": "stdout",
          "text": [
            "Epoch 1/100\n",
            "1/1 [==============================] - 1s 918ms/step - loss: 174.8589 - mse: 174.8589\n",
            "Epoch 2/100\n",
            "1/1 [==============================] - 0s 13ms/step - loss: 51.5676 - mse: 51.5676\n",
            "Epoch 3/100\n",
            "1/1 [==============================] - 0s 12ms/step - loss: 75.7369 - mse: 75.7369\n",
            "Epoch 4/100\n",
            "1/1 [==============================] - 0s 18ms/step - loss: 62.4350 - mse: 62.4350\n",
            "Epoch 5/100\n",
            "1/1 [==============================] - 0s 15ms/step - loss: 37.5971 - mse: 37.5971\n",
            "Epoch 6/100\n",
            "1/1 [==============================] - 0s 13ms/step - loss: 40.7036 - mse: 40.7036\n",
            "Epoch 7/100\n",
            "1/1 [==============================] - 0s 18ms/step - loss: 49.0821 - mse: 49.0821\n",
            "Epoch 8/100\n",
            "1/1 [==============================] - 0s 14ms/step - loss: 50.1119 - mse: 50.1119\n",
            "Epoch 9/100\n",
            "1/1 [==============================] - 0s 11ms/step - loss: 44.0248 - mse: 44.0248\n",
            "Epoch 10/100\n",
            "1/1 [==============================] - 0s 11ms/step - loss: 35.8775 - mse: 35.8775\n",
            "Epoch 11/100\n",
            "1/1 [==============================] - 0s 10ms/step - loss: 32.1559 - mse: 32.1559\n",
            "Epoch 12/100\n",
            "1/1 [==============================] - 0s 10ms/step - loss: 35.4022 - mse: 35.4022\n",
            "Epoch 13/100\n",
            "1/1 [==============================] - 0s 14ms/step - loss: 37.9563 - mse: 37.9563\n",
            "Epoch 14/100\n",
            "1/1 [==============================] - 0s 10ms/step - loss: 35.5472 - mse: 35.5472\n",
            "Epoch 15/100\n",
            "1/1 [==============================] - 0s 13ms/step - loss: 29.5335 - mse: 29.5335\n",
            "Epoch 16/100\n",
            "1/1 [==============================] - 0s 11ms/step - loss: 27.1833 - mse: 27.1833\n",
            "Epoch 17/100\n",
            "1/1 [==============================] - 0s 11ms/step - loss: 27.1909 - mse: 27.1909\n",
            "Epoch 18/100\n",
            "1/1 [==============================] - 0s 17ms/step - loss: 26.8301 - mse: 26.8301\n",
            "Epoch 19/100\n",
            "1/1 [==============================] - 0s 10ms/step - loss: 24.4678 - mse: 24.4678\n",
            "Epoch 20/100\n",
            "1/1 [==============================] - 0s 9ms/step - loss: 20.8756 - mse: 20.8756\n",
            "Epoch 21/100\n",
            "1/1 [==============================] - 0s 13ms/step - loss: 19.6975 - mse: 19.6975\n",
            "Epoch 22/100\n",
            "1/1 [==============================] - 0s 14ms/step - loss: 18.8078 - mse: 18.8078\n",
            "Epoch 23/100\n",
            "1/1 [==============================] - 0s 10ms/step - loss: 14.6522 - mse: 14.6522\n",
            "Epoch 24/100\n",
            "1/1 [==============================] - 0s 19ms/step - loss: 11.6004 - mse: 11.6004\n",
            "Epoch 25/100\n",
            "1/1 [==============================] - 0s 12ms/step - loss: 9.6758 - mse: 9.6758\n",
            "Epoch 26/100\n",
            "1/1 [==============================] - 0s 10ms/step - loss: 6.9807 - mse: 6.9807\n",
            "Epoch 27/100\n",
            "1/1 [==============================] - 0s 13ms/step - loss: 5.0002 - mse: 5.0002\n",
            "Epoch 28/100\n",
            "1/1 [==============================] - 0s 11ms/step - loss: 3.5887 - mse: 3.5887\n",
            "Epoch 29/100\n",
            "1/1 [==============================] - 0s 11ms/step - loss: 3.1827 - mse: 3.1827\n",
            "Epoch 30/100\n",
            "1/1 [==============================] - 0s 10ms/step - loss: 2.8957 - mse: 2.8957\n",
            "Epoch 31/100\n",
            "1/1 [==============================] - 0s 11ms/step - loss: 3.9073 - mse: 3.9073\n",
            "Epoch 32/100\n",
            "1/1 [==============================] - 0s 11ms/step - loss: 2.8099 - mse: 2.8099\n",
            "Epoch 33/100\n",
            "1/1 [==============================] - 0s 11ms/step - loss: 3.0136 - mse: 3.0136\n",
            "Epoch 34/100\n",
            "1/1 [==============================] - 0s 10ms/step - loss: 2.0381 - mse: 2.0381\n",
            "Epoch 35/100\n",
            "1/1 [==============================] - 0s 11ms/step - loss: 1.7126 - mse: 1.7126\n",
            "Epoch 36/100\n",
            "1/1 [==============================] - 0s 10ms/step - loss: 1.5310 - mse: 1.5310\n",
            "Epoch 37/100\n",
            "1/1 [==============================] - 0s 11ms/step - loss: 1.2010 - mse: 1.2010\n",
            "Epoch 38/100\n",
            "1/1 [==============================] - 0s 11ms/step - loss: 1.4112 - mse: 1.4112\n",
            "Epoch 39/100\n",
            "1/1 [==============================] - 0s 11ms/step - loss: 1.2009 - mse: 1.2009\n",
            "Epoch 40/100\n",
            "1/1 [==============================] - 0s 11ms/step - loss: 1.4850 - mse: 1.4850\n",
            "Epoch 41/100\n",
            "1/1 [==============================] - 0s 11ms/step - loss: 1.1705 - mse: 1.1705\n",
            "Epoch 42/100\n",
            "1/1 [==============================] - 0s 11ms/step - loss: 1.2616 - mse: 1.2616\n",
            "Epoch 43/100\n",
            "1/1 [==============================] - 0s 10ms/step - loss: 0.8599 - mse: 0.8599\n",
            "Epoch 44/100\n",
            "1/1 [==============================] - 0s 11ms/step - loss: 0.9115 - mse: 0.9115\n",
            "Epoch 45/100\n",
            "1/1 [==============================] - 0s 11ms/step - loss: 0.5737 - mse: 0.5737\n",
            "Epoch 46/100\n",
            "1/1 [==============================] - 0s 11ms/step - loss: 0.7199 - mse: 0.7199\n",
            "Epoch 47/100\n",
            "1/1 [==============================] - 0s 15ms/step - loss: 0.5166 - mse: 0.5166\n",
            "Epoch 48/100\n",
            "1/1 [==============================] - 0s 15ms/step - loss: 0.6888 - mse: 0.6888\n",
            "Epoch 49/100\n",
            "1/1 [==============================] - 0s 14ms/step - loss: 0.5742 - mse: 0.5742\n",
            "Epoch 50/100\n",
            "1/1 [==============================] - 0s 11ms/step - loss: 0.5932 - mse: 0.5932\n",
            "Epoch 51/100\n",
            "1/1 [==============================] - 0s 11ms/step - loss: 0.5490 - mse: 0.5490\n",
            "Epoch 52/100\n",
            "1/1 [==============================] - 0s 11ms/step - loss: 0.4045 - mse: 0.4045\n",
            "Epoch 53/100\n",
            "1/1 [==============================] - 0s 11ms/step - loss: 0.4399 - mse: 0.4399\n",
            "Epoch 54/100\n",
            "1/1 [==============================] - 0s 12ms/step - loss: 0.3420 - mse: 0.3420\n",
            "Epoch 55/100\n",
            "1/1 [==============================] - 0s 11ms/step - loss: 0.4115 - mse: 0.4115\n",
            "Epoch 56/100\n",
            "1/1 [==============================] - 0s 14ms/step - loss: 0.3831 - mse: 0.3831\n",
            "Epoch 57/100\n",
            "1/1 [==============================] - 0s 11ms/step - loss: 0.3392 - mse: 0.3392\n",
            "Epoch 58/100\n",
            "1/1 [==============================] - 0s 11ms/step - loss: 0.3744 - mse: 0.3744\n",
            "Epoch 59/100\n",
            "1/1 [==============================] - 0s 12ms/step - loss: 0.2854 - mse: 0.2854\n",
            "Epoch 60/100\n",
            "1/1 [==============================] - 0s 11ms/step - loss: 0.2910 - mse: 0.2910\n",
            "Epoch 61/100\n",
            "1/1 [==============================] - 0s 13ms/step - loss: 0.2676 - mse: 0.2676\n",
            "Epoch 62/100\n",
            "1/1 [==============================] - 0s 12ms/step - loss: 0.2205 - mse: 0.2205\n",
            "Epoch 63/100\n",
            "1/1 [==============================] - 0s 10ms/step - loss: 0.2542 - mse: 0.2542\n",
            "Epoch 64/100\n",
            "1/1 [==============================] - 0s 14ms/step - loss: 0.2387 - mse: 0.2387\n",
            "Epoch 65/100\n",
            "1/1 [==============================] - 0s 11ms/step - loss: 0.2050 - mse: 0.2050\n",
            "Epoch 66/100\n",
            "1/1 [==============================] - 0s 12ms/step - loss: 0.1775 - mse: 0.1775\n",
            "Epoch 67/100\n",
            "1/1 [==============================] - 0s 10ms/step - loss: 0.1743 - mse: 0.1743\n",
            "Epoch 68/100\n",
            "1/1 [==============================] - 0s 10ms/step - loss: 0.1445 - mse: 0.1445\n",
            "Epoch 69/100\n",
            "1/1 [==============================] - 0s 11ms/step - loss: 0.1352 - mse: 0.1352\n",
            "Epoch 70/100\n",
            "1/1 [==============================] - 0s 12ms/step - loss: 0.1288 - mse: 0.1288\n",
            "Epoch 71/100\n",
            "1/1 [==============================] - 0s 12ms/step - loss: 0.1126 - mse: 0.1126\n",
            "Epoch 72/100\n",
            "1/1 [==============================] - 0s 12ms/step - loss: 0.1032 - mse: 0.1032\n",
            "Epoch 73/100\n",
            "1/1 [==============================] - 0s 12ms/step - loss: 0.0957 - mse: 0.0957\n",
            "Epoch 74/100\n",
            "1/1 [==============================] - 0s 13ms/step - loss: 0.0910 - mse: 0.0910\n",
            "Epoch 75/100\n",
            "1/1 [==============================] - 0s 11ms/step - loss: 0.0809 - mse: 0.0809\n",
            "Epoch 76/100\n",
            "1/1 [==============================] - 0s 12ms/step - loss: 0.0688 - mse: 0.0688\n",
            "Epoch 77/100\n",
            "1/1 [==============================] - 0s 11ms/step - loss: 0.0649 - mse: 0.0649\n",
            "Epoch 78/100\n",
            "1/1 [==============================] - 0s 12ms/step - loss: 0.0640 - mse: 0.0640\n",
            "Epoch 79/100\n",
            "1/1 [==============================] - 0s 12ms/step - loss: 0.0597 - mse: 0.0597\n",
            "Epoch 80/100\n",
            "1/1 [==============================] - 0s 15ms/step - loss: 0.0509 - mse: 0.0509\n",
            "Epoch 81/100\n",
            "1/1 [==============================] - 0s 13ms/step - loss: 0.0423 - mse: 0.0423\n",
            "Epoch 82/100\n",
            "1/1 [==============================] - 0s 11ms/step - loss: 0.0390 - mse: 0.0390\n",
            "Epoch 83/100\n",
            "1/1 [==============================] - 0s 11ms/step - loss: 0.0364 - mse: 0.0364\n",
            "Epoch 84/100\n",
            "1/1 [==============================] - 0s 13ms/step - loss: 0.0332 - mse: 0.0332\n",
            "Epoch 85/100\n",
            "1/1 [==============================] - 0s 11ms/step - loss: 0.0317 - mse: 0.0317\n",
            "Epoch 86/100\n",
            "1/1 [==============================] - 0s 13ms/step - loss: 0.0324 - mse: 0.0324\n",
            "Epoch 87/100\n",
            "1/1 [==============================] - 0s 13ms/step - loss: 0.0314 - mse: 0.0314\n",
            "Epoch 88/100\n",
            "1/1 [==============================] - 0s 12ms/step - loss: 0.0334 - mse: 0.0334\n",
            "Epoch 89/100\n",
            "1/1 [==============================] - 0s 10ms/step - loss: 0.0453 - mse: 0.0453\n",
            "Epoch 90/100\n",
            "1/1 [==============================] - 0s 10ms/step - loss: 0.0748 - mse: 0.0748\n",
            "Epoch 91/100\n",
            "1/1 [==============================] - 0s 12ms/step - loss: 0.1506 - mse: 0.1506\n",
            "Epoch 92/100\n",
            "1/1 [==============================] - 0s 11ms/step - loss: 0.3240 - mse: 0.3240\n",
            "Epoch 93/100\n",
            "1/1 [==============================] - 0s 12ms/step - loss: 0.6758 - mse: 0.6758\n",
            "Epoch 94/100\n",
            "1/1 [==============================] - 0s 12ms/step - loss: 0.5796 - mse: 0.5796\n",
            "Epoch 95/100\n",
            "1/1 [==============================] - 0s 11ms/step - loss: 0.3338 - mse: 0.3338\n",
            "Epoch 96/100\n",
            "1/1 [==============================] - 0s 12ms/step - loss: 0.0365 - mse: 0.0365\n",
            "Epoch 97/100\n",
            "1/1 [==============================] - 0s 11ms/step - loss: 0.3171 - mse: 0.3171\n",
            "Epoch 98/100\n",
            "1/1 [==============================] - 0s 11ms/step - loss: 0.4232 - mse: 0.4232\n",
            "Epoch 99/100\n",
            "1/1 [==============================] - 0s 10ms/step - loss: 0.0640 - mse: 0.0640\n",
            "Epoch 100/100\n",
            "1/1 [==============================] - 0s 10ms/step - loss: 0.2365 - mse: 0.2365\n"
          ]
        },
        {
          "output_type": "execute_result",
          "data": {
            "text/plain": [
              "<keras.callbacks.History at 0x7f7967f09d80>"
            ]
          },
          "metadata": {},
          "execution_count": 16
        }
      ],
      "source": [
        "# 1. Create the new model\n",
        "new_model = tf.keras.Sequential([\n",
        "    tf.keras.layers.Dense(100, activation=\"relu\"),\n",
        "    tf.keras.layers.Dense(100, activation=\"relu\"),\n",
        "    tf.keras.layers.Dense(100, activation=\"relu\"),\n",
        "    tf.keras.layers.Dense(1),\n",
        "])\n",
        "\n",
        "# 2. Compile the new model\n",
        "new_model.compile(loss=tf.keras.losses.mean_squared_error,\n",
        "                  optimizer=tf.keras.optimizers.Adam(learning_rate=0.01),\n",
        "                  metrics=[\"mse\"])\n",
        "\n",
        "# 3. Fit the new model\n",
        "new_model.fit(tf.expand_dims(X, axis=-1), y, epochs=100)"
      ]
    },
    {
      "cell_type": "code",
      "execution_count": 17,
      "metadata": {
        "id": "1Mp-s-oiDe0v",
        "colab": {
          "base_uri": "https://localhost:8080/",
          "height": 1000
        },
        "outputId": "61cee780-7b89-40e5-9996-ee898005db80"
      },
      "outputs": [
        {
          "output_type": "stream",
          "name": "stdout",
          "text": [
            "1/1 [==============================] - 0s 88ms/step\n",
            "1/1 [==============================] - 0s 39ms/step\n",
            "1/1 [==============================] - 0s 45ms/step\n",
            "1/1 [==============================] - 0s 37ms/step\n",
            "1/1 [==============================] - 0s 44ms/step\n",
            "1/1 [==============================] - 0s 43ms/step\n",
            "1/1 [==============================] - 0s 41ms/step\n",
            "1/1 [==============================] - 0s 38ms/step\n",
            "1/1 [==============================] - 0s 45ms/step\n",
            "1/1 [==============================] - 0s 44ms/step\n",
            "1/1 [==============================] - 0s 39ms/step\n",
            "1/1 [==============================] - 0s 42ms/step\n",
            "1/1 [==============================] - 0s 38ms/step\n",
            "1/1 [==============================] - 0s 42ms/step\n",
            "1/1 [==============================] - 0s 41ms/step\n",
            "1/1 [==============================] - 0s 44ms/step\n",
            "1/1 [==============================] - 0s 38ms/step\n",
            "1/1 [==============================] - 0s 41ms/step\n",
            "1/1 [==============================] - 0s 42ms/step\n",
            "1/1 [==============================] - 0s 44ms/step\n",
            "1/1 [==============================] - 0s 46ms/step\n",
            "1/1 [==============================] - 0s 37ms/step\n",
            "1/1 [==============================] - 0s 42ms/step\n",
            "1/1 [==============================] - 0s 38ms/step\n",
            "1/1 [==============================] - 0s 37ms/step\n",
            "1/1 [==============================] - 0s 40ms/step\n",
            "1/1 [==============================] - 0s 39ms/step\n",
            "1/1 [==============================] - 0s 37ms/step\n",
            "1/1 [==============================] - 0s 38ms/step\n",
            "1/1 [==============================] - 0s 45ms/step\n",
            "1/1 [==============================] - 0s 39ms/step\n",
            "1/1 [==============================] - 0s 42ms/step\n",
            "1/1 [==============================] - 0s 41ms/step\n",
            "1/1 [==============================] - 0s 38ms/step\n",
            "1/1 [==============================] - 0s 42ms/step\n",
            "1/1 [==============================] - 0s 55ms/step\n",
            "1/1 [==============================] - 0s 58ms/step\n",
            "1/1 [==============================] - 0s 58ms/step\n",
            "1/1 [==============================] - 0s 60ms/step\n",
            "1/1 [==============================] - 0s 61ms/step\n",
            "1/1 [==============================] - 0s 55ms/step\n",
            "1/1 [==============================] - 0s 61ms/step\n",
            "1/1 [==============================] - 0s 55ms/step\n",
            "1/1 [==============================] - 0s 57ms/step\n",
            "1/1 [==============================] - 0s 63ms/step\n",
            "1/1 [==============================] - 0s 68ms/step\n",
            "1/1 [==============================] - 0s 59ms/step\n",
            "1/1 [==============================] - 0s 72ms/step\n",
            "1/1 [==============================] - 0s 56ms/step\n",
            "1/1 [==============================] - 0s 68ms/step\n",
            "1/1 [==============================] - 0s 58ms/step\n",
            "1/1 [==============================] - 0s 55ms/step\n",
            "1/1 [==============================] - 0s 64ms/step\n",
            "1/1 [==============================] - 0s 73ms/step\n",
            "1/1 [==============================] - 0s 61ms/step\n",
            "1/1 [==============================] - 0s 62ms/step\n",
            "1/1 [==============================] - 0s 56ms/step\n",
            "1/1 [==============================] - 0s 38ms/step\n",
            "1/1 [==============================] - 0s 44ms/step\n",
            "1/1 [==============================] - 0s 36ms/step\n",
            "1/1 [==============================] - 0s 43ms/step\n",
            "1/1 [==============================] - 0s 40ms/step\n",
            "1/1 [==============================] - 0s 38ms/step\n",
            "1/1 [==============================] - 0s 37ms/step\n",
            "1/1 [==============================] - 0s 45ms/step\n",
            "1/1 [==============================] - 0s 38ms/step\n",
            "1/1 [==============================] - 0s 42ms/step\n",
            "1/1 [==============================] - 0s 38ms/step\n",
            "1/1 [==============================] - 0s 40ms/step\n",
            "1/1 [==============================] - 0s 39ms/step\n",
            "1/1 [==============================] - 0s 39ms/step\n",
            "1/1 [==============================] - 0s 39ms/step\n",
            "1/1 [==============================] - 0s 42ms/step\n",
            "1/1 [==============================] - 0s 38ms/step\n",
            "1/1 [==============================] - 0s 36ms/step\n",
            "1/1 [==============================] - 0s 42ms/step\n",
            "1/1 [==============================] - 0s 38ms/step\n",
            "1/1 [==============================] - 0s 40ms/step\n",
            "1/1 [==============================] - 0s 43ms/step\n",
            "1/1 [==============================] - 0s 41ms/step\n",
            "1/1 [==============================] - 0s 38ms/step\n",
            "1/1 [==============================] - 0s 39ms/step\n",
            "1/1 [==============================] - 0s 45ms/step\n",
            "1/1 [==============================] - 0s 37ms/step\n",
            "1/1 [==============================] - 0s 41ms/step\n",
            "1/1 [==============================] - 0s 37ms/step\n",
            "1/1 [==============================] - 0s 38ms/step\n",
            "1/1 [==============================] - 0s 54ms/step\n",
            "1/1 [==============================] - 0s 40ms/step\n",
            "1/1 [==============================] - 0s 39ms/step\n",
            "1/1 [==============================] - 0s 37ms/step\n",
            "1/1 [==============================] - 0s 38ms/step\n",
            "1/1 [==============================] - 0s 41ms/step\n",
            "1/1 [==============================] - 0s 42ms/step\n",
            "1/1 [==============================] - 0s 39ms/step\n",
            "1/1 [==============================] - 0s 39ms/step\n",
            "1/1 [==============================] - 0s 39ms/step\n",
            "1/1 [==============================] - 0s 39ms/step\n",
            "1/1 [==============================] - 0s 41ms/step\n",
            "1/1 [==============================] - 0s 40ms/step\n",
            "1/1 [==============================] - 0s 39ms/step\n",
            "1/1 [==============================] - 0s 39ms/step\n",
            "1/1 [==============================] - 0s 37ms/step\n",
            "1/1 [==============================] - 0s 37ms/step\n",
            "1/1 [==============================] - 0s 43ms/step\n",
            "1/1 [==============================] - 0s 47ms/step\n",
            "1/1 [==============================] - 0s 39ms/step\n",
            "1/1 [==============================] - 0s 43ms/step\n",
            "1/1 [==============================] - 0s 37ms/step\n",
            "1/1 [==============================] - 0s 39ms/step\n",
            "1/1 [==============================] - 0s 45ms/step\n",
            "1/1 [==============================] - 0s 41ms/step\n",
            "1/1 [==============================] - 0s 38ms/step\n",
            "1/1 [==============================] - 0s 48ms/step\n",
            "1/1 [==============================] - 0s 40ms/step\n",
            "1/1 [==============================] - 0s 38ms/step\n",
            "1/1 [==============================] - 0s 44ms/step\n",
            "1/1 [==============================] - 0s 36ms/step\n",
            "1/1 [==============================] - 0s 38ms/step\n",
            "1/1 [==============================] - 0s 37ms/step\n",
            "1/1 [==============================] - 0s 38ms/step\n",
            "1/1 [==============================] - 0s 40ms/step\n",
            "1/1 [==============================] - 0s 45ms/step\n",
            "1/1 [==============================] - 0s 43ms/step\n",
            "1/1 [==============================] - 0s 39ms/step\n",
            "1/1 [==============================] - 0s 38ms/step\n",
            "1/1 [==============================] - 0s 42ms/step\n",
            "1/1 [==============================] - 0s 36ms/step\n",
            "1/1 [==============================] - 0s 40ms/step\n",
            "1/1 [==============================] - 0s 37ms/step\n",
            "1/1 [==============================] - 0s 43ms/step\n",
            "1/1 [==============================] - 0s 40ms/step\n",
            "1/1 [==============================] - 0s 38ms/step\n",
            "1/1 [==============================] - 0s 39ms/step\n",
            "1/1 [==============================] - 0s 51ms/step\n",
            "1/1 [==============================] - 0s 38ms/step\n",
            "1/1 [==============================] - 0s 40ms/step\n",
            "1/1 [==============================] - 0s 39ms/step\n",
            "1/1 [==============================] - 0s 38ms/step\n",
            "1/1 [==============================] - 0s 37ms/step\n",
            "1/1 [==============================] - 0s 45ms/step\n",
            "1/1 [==============================] - 0s 41ms/step\n",
            "1/1 [==============================] - 0s 40ms/step\n",
            "1/1 [==============================] - 0s 40ms/step\n",
            "1/1 [==============================] - 0s 42ms/step\n",
            "1/1 [==============================] - 0s 43ms/step\n",
            "1/1 [==============================] - 0s 39ms/step\n",
            "1/1 [==============================] - 0s 45ms/step\n",
            "1/1 [==============================] - 0s 38ms/step\n",
            "1/1 [==============================] - 0s 43ms/step\n",
            "1/1 [==============================] - 0s 39ms/step\n",
            "1/1 [==============================] - 0s 38ms/step\n",
            "1/1 [==============================] - 0s 38ms/step\n",
            "1/1 [==============================] - 0s 39ms/step\n",
            "1/1 [==============================] - 0s 38ms/step\n",
            "1/1 [==============================] - 0s 38ms/step\n",
            "1/1 [==============================] - 0s 38ms/step\n",
            "1/1 [==============================] - 0s 49ms/step\n",
            "1/1 [==============================] - 0s 39ms/step\n",
            "1/1 [==============================] - 0s 39ms/step\n",
            "1/1 [==============================] - 0s 44ms/step\n",
            "1/1 [==============================] - 0s 40ms/step\n",
            "1/1 [==============================] - 0s 38ms/step\n",
            "1/1 [==============================] - 0s 38ms/step\n",
            "1/1 [==============================] - 0s 37ms/step\n",
            "1/1 [==============================] - 0s 37ms/step\n",
            "1/1 [==============================] - 0s 38ms/step\n",
            "1/1 [==============================] - 0s 50ms/step\n",
            "1/1 [==============================] - 0s 39ms/step\n",
            "1/1 [==============================] - 0s 37ms/step\n",
            "1/1 [==============================] - 0s 62ms/step\n",
            "1/1 [==============================] - 0s 58ms/step\n",
            "1/1 [==============================] - 0s 57ms/step\n",
            "1/1 [==============================] - 0s 62ms/step\n",
            "1/1 [==============================] - 0s 60ms/step\n",
            "1/1 [==============================] - 0s 57ms/step\n",
            "1/1 [==============================] - 0s 62ms/step\n",
            "1/1 [==============================] - 0s 77ms/step\n",
            "1/1 [==============================] - 0s 62ms/step\n",
            "1/1 [==============================] - 0s 59ms/step\n",
            "1/1 [==============================] - 0s 62ms/step\n",
            "1/1 [==============================] - 0s 60ms/step\n",
            "1/1 [==============================] - 0s 55ms/step\n",
            "1/1 [==============================] - 0s 55ms/step\n",
            "1/1 [==============================] - 0s 55ms/step\n",
            "1/1 [==============================] - 0s 58ms/step\n",
            "1/1 [==============================] - 0s 61ms/step\n",
            "1/1 [==============================] - 0s 58ms/step\n",
            "1/1 [==============================] - 0s 62ms/step\n",
            "1/1 [==============================] - 0s 60ms/step\n",
            "1/1 [==============================] - 0s 68ms/step\n",
            "1/1 [==============================] - 0s 57ms/step\n",
            "1/1 [==============================] - 0s 40ms/step\n",
            "1/1 [==============================] - 0s 43ms/step\n",
            "1/1 [==============================] - 0s 40ms/step\n",
            "1/1 [==============================] - 0s 40ms/step\n",
            "1/1 [==============================] - 0s 39ms/step\n",
            "1/1 [==============================] - 0s 46ms/step\n",
            "1/1 [==============================] - 0s 36ms/step\n",
            "1/1 [==============================] - 0s 43ms/step\n"
          ]
        },
        {
          "output_type": "execute_result",
          "data": {
            "text/plain": [
              "<matplotlib.collections.PathCollection at 0x7f7967df1ea0>"
            ]
          },
          "metadata": {},
          "execution_count": 17
        },
        {
          "output_type": "display_data",
          "data": {
            "text/plain": [
              "<Figure size 640x480 with 1 Axes>"
            ],
            "image/png": "[encoded data removed]"
          },
          "metadata": {}
        }
      ],
      "source": [
        "predictions2 = [(x, new_model.predict([x])) for x in np.arange(-50, 50, 0.5)]\n",
        "pairs = list(zip(*predictions2))\n",
        "plt.scatter(pairs[0], pairs[1], s=1)"
      ]
    },
    {
      "cell_type": "code",
      "source": [
        "new_model.summary()"
      ],
      "metadata": {
        "colab": {
          "base_uri": "https://localhost:8080/"
        },
        "id": "lwxYCGFO6v_K",
        "outputId": "877a48ff-d7eb-428a-ae34-57cbb0a7d03d"
      },
      "execution_count": 18,
      "outputs": [
        {
          "output_type": "stream",
          "name": "stdout",
          "text": [
            "Model: \"sequential_1\"\n",
            "_________________________________________________________________\n",
            " Layer (type)                Output Shape              Param #   \n",
            "=================================================================\n",
            " dense_1 (Dense)             (None, 100)               200       \n",
            "                                                                 \n",
            " dense_2 (Dense)             (None, 100)               10100     \n",
            "                                                                 \n",
            " dense_3 (Dense)             (None, 100)               10100     \n",
            "                                                                 \n",
            " dense_4 (Dense)             (None, 1)                 101       \n",
            "                                                                 \n",
            "=================================================================\n",
            "Total params: 20,501\n",
            "Trainable params: 20,501\n",
            "Non-trainable params: 0\n",
            "_________________________________________________________________\n"
          ]
        }
      ]
    },
    {
      "cell_type": "code",
      "source": [
        "def plot_predictions(train_data,\n",
        "                     train_labels,\n",
        "                     test_data,\n",
        "                     test_labels,\n",
        "                     predictions):\n",
        "  plt.figure(figsize=(16, 9))\n",
        "  plt.scatter(train_data, train_labels, c=\"b\", label=\"Training data\")\n",
        "  plt.scatter(test_data, test_labels, c=\"g\", label=\"Testing data\")\n",
        "  plt.scatter(test_data, predictions, c=\"r\", label=\"Predictions\")\n",
        "  plt.legend()"
      ],
      "metadata": {
        "id": "S3LTJjy1Ux40"
      },
      "execution_count": 44,
      "outputs": []
    },
    {
      "cell_type": "code",
      "source": [
        "import math\n",
        "\n",
        "# Generate pairs of x, y values in a sigmoid function (for predicting)\n",
        "train_set = [(float(x), 1 / (1 + math.exp(-x))) for x in np.arange(-5, 5, 0.1)]\n",
        "test_set = [(float(x), 1 / (1 + math.exp(-x))) for x in np.arange(5, 7.5, 0.1)]\n",
        "\n",
        "x_train, y_train = zip(*train_set)\n",
        "x_test, y_test = list(zip(*test_set))\n",
        "print(list(x_train), list(y_train))\n",
        "\n",
        "\n",
        "# 1. Create the new model\n",
        "new_model = tf.keras.Sequential([\n",
        "    tf.keras.layers.Dense(100, activation=\"relu\"),\n",
        "    tf.keras.layers.Dense(100, activation=\"relu\"),\n",
        "    tf.keras.layers.Dense(1),\n",
        "])\n",
        "\n",
        "# 2. Compile the new model\n",
        "new_model.compile(loss=tf.keras.losses.mean_squared_error,\n",
        "                  optimizer=tf.keras.optimizers.Adam(learning_rate=0.05),\n",
        "                  metrics=[\"mae\"])\n",
        "\n",
        "# 3. Fit the new model\n",
        "new_model.fit(tf.expand_dims(np.asarray(x_train), axis=-1), np.asarray(y_train), epochs=1000, verbose=0)\n",
        "\n",
        "# 4. Evaluate the model\n",
        "new_model.evaluate(x_test, y_test)"
      ],
      "metadata": {
        "id": "fw4ESia8WVSk",
        "colab": {
          "base_uri": "https://localhost:8080/"
        },
        "outputId": "37cd05a6-e2b4-479a-dc3e-3939f23940ec"
      },
      "execution_count": 60,
      "outputs": [
        {
          "output_type": "stream",
          "name": "stdout",
          "text": [
            "[-5.0, -4.9, -4.800000000000001, -4.700000000000001, -4.600000000000001, -4.500000000000002, -4.400000000000002, -4.3000000000000025, -4.200000000000003, -4.100000000000003, -4.0000000000000036, -3.900000000000004, -3.8000000000000043, -3.7000000000000046, -3.600000000000005, -3.5000000000000053, -3.4000000000000057, -3.300000000000006, -3.2000000000000064, -3.1000000000000068, -3.000000000000007, -2.9000000000000075, -2.800000000000008, -2.700000000000008, -2.6000000000000085, -2.500000000000009, -2.4000000000000092, -2.3000000000000096, -2.20000000000001, -2.1000000000000103, -2.0000000000000107, -1.900000000000011, -1.8000000000000114, -1.7000000000000117, -1.600000000000012, -1.5000000000000124, -1.4000000000000128, -1.3000000000000131, -1.2000000000000135, -1.1000000000000139, -1.0000000000000142, -0.9000000000000146, -0.8000000000000149, -0.7000000000000153, -0.6000000000000156, -0.500000000000016, -0.40000000000001634, -0.3000000000000167, -0.20000000000001705, -0.10000000000001741, -1.7763568394002505e-14, 0.09999999999998188, 0.19999999999998153, 0.29999999999998117, 0.3999999999999808, 0.49999999999998046, 0.5999999999999801, 0.6999999999999797, 0.7999999999999794, 0.899999999999979, 0.9999999999999787, 1.0999999999999783, 1.199999999999978, 1.2999999999999776, 1.3999999999999773, 1.499999999999977, 1.5999999999999766, 1.6999999999999762, 1.7999999999999758, 1.8999999999999755, 1.9999999999999751, 2.0999999999999748, 2.1999999999999744, 2.299999999999974, 2.3999999999999737, 2.4999999999999734, 2.599999999999973, 2.6999999999999726, 2.7999999999999723, 2.899999999999972, 2.9999999999999716, 3.0999999999999712, 3.199999999999971, 3.2999999999999705, 3.39999999999997, 3.49999999999997, 3.5999999999999694, 3.699999999999969, 3.7999999999999687, 3.8999999999999684, 3.999999999999968, 4.099999999999968, 4.199999999999967, 4.299999999999967, 4.399999999999967, 4.499999999999966, 4.599999999999966, 4.6999999999999655, 4.799999999999965, 4.899999999999965] [0.0066928509242848554, 0.007391541344281971, 0.00816257115315989, 0.009013298652847815, 0.009951801866904308, 0.010986942630593162, 0.012128434984274213, 0.013386917827664744, 0.014774031693273017, 0.01630249937144089, 0.017986209962091496, 0.01984030573407743, 0.021881270936130383, 0.024127021417669092, 0.026596993576865725, 0.02931223075135617, 0.03229546469845033, 0.035571189272635965, 0.03916572279676412, 0.043107254941085846, 0.04742587317756646, 0.05215356307841737, 0.05732417589886832, 0.06297335605699601, 0.06913842034334627, 0.07585818002124294, 0.08317269649392166, 0.09112296101485534, 0.09975048911968425, 0.10909682119561194, 0.11920292202211644, 0.1301084743629966, 0.1418510649004864, 0.15446526508353317, 0.16798161486607383, 0.1824255238063545, 0.19781611144141623, 0.21416501695743917, 0.23147521650098, 0.24973989440487981, 0.26894142136999233, 0.28905049737499305, 0.3100255188723844, 0.3318122278318305, 0.35434369377420094, 0.3775406687981417, 0.40131233988754406, 0.4255574831883369, 0.45016600268751783, 0.47502081252105566, 0.49999999999999556, 0.5249791874789355, 0.5498339973124733, 0.5744425168116544, 0.5986876601124473, 0.62245933120185, 0.6456563062257908, 0.6681877721681616, 0.6899744811276081, 0.7109495026249997, 0.7310585786300007, 0.7502601055951135, 0.7685247834990137, 0.7858349830425548, 0.8021838885585781, 0.8175744761936402, 0.8320183851339212, 0.8455347349164622, 0.8581489350995093, 0.8698915256369995, 0.8807970779778798, 0.8909031788043846, 0.9002495108803125, 0.9088770389851418, 0.9168273035060757, 0.9241418199787546, 0.9308615796566515, 0.937026643943002, 0.9426758241011297, 0.947846436921581, 0.9525741268224319, 0.9568927450589126, 0.9608342772032344, 0.9644288107273629, 0.9677045353015485, 0.9706877692486428, 0.9734030064231335, 0.97587297858233, 0.9781187290638689, 0.9801596942659219, 0.982013790037908, 0.9836975006285584, 0.9852259683067265, 0.9866130821723347, 0.9878715650157253, 0.9890130573694065, 0.9900481981330953, 0.9909867013471519, 0.9918374288468399, 0.9926084586557179]\n",
            "1/1 [==============================] - 0s 150ms/step - loss: 4.0479e-04 - mae: 0.0177\n"
          ]
        },
        {
          "output_type": "execute_result",
          "data": {
            "text/plain": [
              "[0.0004047925758641213, 0.017722249031066895]"
            ]
          },
          "metadata": {},
          "execution_count": 60
        }
      ]
    },
    {
      "cell_type": "code",
      "source": [
        "# 5. Generate predictions\n",
        "y_pred = new_model.predict(x_test)\n",
        "\n",
        "# 6. Plot the predictions\n",
        "plot_predictions(x_train, y_train, x_test, y_test, y_pred)\n",
        "\n",
        "# 7. Calculate the loss\n",
        "loss = tf.metrics.mean_absolute_error(y_test, tf.squeeze(y_pred))\n",
        "print(loss)"
      ],
      "metadata": {
        "colab": {
          "base_uri": "https://localhost:8080/",
          "height": 789
        },
        "id": "WuzV-ucScKxr",
        "outputId": "7184a007-fc2a-404b-d216-a97e3f3134ed"
      },
      "execution_count": 65,
      "outputs": [
        {
          "output_type": "stream",
          "name": "stdout",
          "text": [
            "1/1 [==============================] - 0s 52ms/step\n",
            "tf.Tensor(0.01772226, shape=(), dtype=float32)\n"
          ]
        },
        {
          "output_type": "display_data",
          "data": {
            "text/plain": [
              "<Figure size 1600x900 with 1 Axes>"
            ],
            "image/png": "[encoded data removed]"
          },
          "metadata": {}
        }
      ]
    },
    {
      "cell_type": "code",
      "source": [],
      "metadata": {
        "id": "dnjOqpaocMXy"
      },
      "execution_count": null,
      "outputs": []
    }
  ],
  "metadata": {
    "colab": {
      "provenance": [],
      "authorship_tag": "ABX9TyMjNMx6mYRQ7fA5fLle94Eq",
      "include_colab_link": true
    },
    "kernelspec": {
      "display_name": "Python 3",
      "name": "python3"
    },
    "language_info": {
      "name": "python"
    }
  },
  "nbformat": 4,
  "nbformat_minor": 0
}