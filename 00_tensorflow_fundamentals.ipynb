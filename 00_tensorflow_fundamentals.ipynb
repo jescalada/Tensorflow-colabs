{
  "nbformat": 4,
  "nbformat_minor": 0,
  "metadata": {
    "colab": {
      "provenance": [],
      "collapsed_sections": [
        "L4F5-FtK1L1n",
        "5KEZ_7Ia4S9e",
        "KFw80sJwBPTI"
      ],
      "authorship_tag": "ABX9TyPSpGSyTKdq3WKEvtj5Ce5+",
      "include_colab_link": true
    },
    "kernelspec": {
      "name": "python3",
      "display_name": "Python 3"
    },
    "language_info": {
      "name": "python"
    }
  },
  "cells": [
    {
      "cell_type": "markdown",
      "metadata": {
        "id": "view-in-github",
        "colab_type": "text"
      },
      "source": [
        "<a href=\"https://colab.research.google.com/github/jescalada/Tensorflow-colabs/blob/main/00_tensorflow_fundamentals.ipynb\" target=\"_parent\"><img src=\"https://colab.research.google.com/assets/colab-badge.svg\" alt=\"Open In Colab\"/></a>"
      ]
    },
    {
      "cell_type": "markdown",
      "source": [
        "# In this notebook, we will cover some fundamental concepts of tensors using TensorFlow \n",
        "\n",
        "More specifically, we're going to cover:\n",
        "* Intro to tensors\n",
        "* Getting info from tensors\n",
        "* Manipulating tensors\n",
        "* Tensors and numpy\n",
        "* Using @tf.function\n",
        "* Using GPUs with TF"
      ],
      "metadata": {
        "id": "5Nj7sbe40vwR"
      }
    },
    {
      "cell_type": "markdown",
      "source": [
        "## Intro to tensors"
      ],
      "metadata": {
        "id": "L4F5-FtK1L1n"
      }
    },
    {
      "cell_type": "code",
      "execution_count": 2,
      "metadata": {
        "colab": {
          "base_uri": "https://localhost:8080/"
        },
        "id": "RtggP0640S1U",
        "outputId": "14ecfe43-f97a-4ab5-d270-bdf5d3f5b5a2"
      },
      "outputs": [
        {
          "output_type": "stream",
          "name": "stdout",
          "text": [
            "2.12.0\n"
          ]
        }
      ],
      "source": [
        "# Import TensorFlow\n",
        "import tensorflow as tf\n",
        "print(tf.__version__)"
      ]
    },
    {
      "cell_type": "code",
      "source": [
        "# Creating tensors with tf.constant()\n",
        "scalar = tf.constant(7)\n",
        "scalar"
      ],
      "metadata": {
        "colab": {
          "base_uri": "https://localhost:8080/"
        },
        "id": "_ENwqrXt1efn",
        "outputId": "bf783492-2864-4bb0-c337-e99b71493575"
      },
      "execution_count": 4,
      "outputs": [
        {
          "output_type": "execute_result",
          "data": {
            "text/plain": [
              "<tf.Tensor: shape=(), dtype=int32, numpy=7>"
            ]
          },
          "metadata": {},
          "execution_count": 4
        }
      ]
    },
    {
      "cell_type": "code",
      "source": [
        "# Check the number of dimensions of a tensor (ndim - number of dimensions)\n",
        "scalar.ndim"
      ],
      "metadata": {
        "colab": {
          "base_uri": "https://localhost:8080/"
        },
        "id": "UAiCcxqq14Ms",
        "outputId": "30f00347-5516-4193-b702-dc902d219f8a"
      },
      "execution_count": 6,
      "outputs": [
        {
          "output_type": "execute_result",
          "data": {
            "text/plain": [
              "0"
            ]
          },
          "metadata": {},
          "execution_count": 6
        }
      ]
    },
    {
      "cell_type": "code",
      "source": [
        "# Create a vector\n",
        "vector = tf.constant([0,0,255,0,255])\n",
        "vector"
      ],
      "metadata": {
        "colab": {
          "base_uri": "https://localhost:8080/"
        },
        "id": "x6NC74zl1-W6",
        "outputId": "99b2b83c-8432-4cc6-dbfb-44c9eb14d289"
      },
      "execution_count": 11,
      "outputs": [
        {
          "output_type": "execute_result",
          "data": {
            "text/plain": [
              "<tf.Tensor: shape=(5,), dtype=int32, numpy=array([  0,   0, 255,   0, 255], dtype=int32)>"
            ]
          },
          "metadata": {},
          "execution_count": 11
        }
      ]
    },
    {
      "cell_type": "code",
      "source": [
        "vector.ndim"
      ],
      "metadata": {
        "colab": {
          "base_uri": "https://localhost:8080/"
        },
        "id": "Y3alhsTe2Q_H",
        "outputId": "ce6f04d7-4ab2-4ffa-b8fa-e1933ef12b78"
      },
      "execution_count": 12,
      "outputs": [
        {
          "output_type": "execute_result",
          "data": {
            "text/plain": [
              "1"
            ]
          },
          "metadata": {},
          "execution_count": 12
        }
      ]
    },
    {
      "cell_type": "code",
      "source": [
        "matrix = tf.constant([[123, 225],\n",
        "                      [45, 0]])\n",
        "matrix"
      ],
      "metadata": {
        "colab": {
          "base_uri": "https://localhost:8080/"
        },
        "id": "ITDM9MFz2TEr",
        "outputId": "6330f5f3-d25c-4315-9431-1ed7351afaf8"
      },
      "execution_count": 13,
      "outputs": [
        {
          "output_type": "execute_result",
          "data": {
            "text/plain": [
              "<tf.Tensor: shape=(2, 2), dtype=int32, numpy=\n",
              "array([[123, 225],\n",
              "       [ 45,   0]], dtype=int32)>"
            ]
          },
          "metadata": {},
          "execution_count": 13
        }
      ]
    },
    {
      "cell_type": "code",
      "source": [
        "matrix.ndim"
      ],
      "metadata": {
        "colab": {
          "base_uri": "https://localhost:8080/"
        },
        "id": "pIc_-jbs2dru",
        "outputId": "4d4e4578-16b2-4661-98df-d2e72380c961"
      },
      "execution_count": 14,
      "outputs": [
        {
          "output_type": "execute_result",
          "data": {
            "text/plain": [
              "2"
            ]
          },
          "metadata": {},
          "execution_count": 14
        }
      ]
    },
    {
      "cell_type": "code",
      "source": [
        "# Create another matrix\n",
        "matrix_b = tf.constant([[0.99, 0.01],\n",
        "                        [0.05, 0.95]], dtype=tf.float16)\n",
        "matrix_b"
      ],
      "metadata": {
        "colab": {
          "base_uri": "https://localhost:8080/"
        },
        "id": "3cMTGBW_2gac",
        "outputId": "270cb738-32ba-4eda-b6fd-062f8d0710f2"
      },
      "execution_count": 18,
      "outputs": [
        {
          "output_type": "execute_result",
          "data": {
            "text/plain": [
              "<tf.Tensor: shape=(2, 2), dtype=float16, numpy=\n",
              "array([[0.99, 0.01],\n",
              "       [0.05, 0.95]], dtype=float16)>"
            ]
          },
          "metadata": {},
          "execution_count": 18
        }
      ]
    },
    {
      "cell_type": "code",
      "source": [
        "matrix_b.ndim"
      ],
      "metadata": {
        "colab": {
          "base_uri": "https://localhost:8080/"
        },
        "id": "I4BVIQLE2u--",
        "outputId": "dbe1f4dd-1714-4178-8857-84ea5816b4cf"
      },
      "execution_count": 16,
      "outputs": [
        {
          "output_type": "execute_result",
          "data": {
            "text/plain": [
              "2"
            ]
          },
          "metadata": {},
          "execution_count": 16
        }
      ]
    },
    {
      "cell_type": "code",
      "source": [
        "# Creating a 3-dim tensor\n",
        "cube = tf.constant([[\n",
        "                     [1, 2, 3],\n",
        "                     [4, 5, 6],\n",
        "                     [7, 8, 9]],\n",
        "                    \n",
        "                    [[1, 2, 3],\n",
        "                     [4, 5, 6],\n",
        "                     [7, 8, 9]],\n",
        "                    \n",
        "                    [[1, 2, 3],\n",
        "                     [4, 5, 6],\n",
        "                     [7, 8, 9]]])\n",
        "cube"
      ],
      "metadata": {
        "colab": {
          "base_uri": "https://localhost:8080/"
        },
        "id": "XkR7l_4Z2xTu",
        "outputId": "923cd38c-852d-4d76-bbc0-1aebfc469b6f"
      },
      "execution_count": 22,
      "outputs": [
        {
          "output_type": "execute_result",
          "data": {
            "text/plain": [
              "<tf.Tensor: shape=(3, 3, 3), dtype=int32, numpy=\n",
              "array([[[1, 2, 3],\n",
              "        [4, 5, 6],\n",
              "        [7, 8, 9]],\n",
              "\n",
              "       [[1, 2, 3],\n",
              "        [4, 5, 6],\n",
              "        [7, 8, 9]],\n",
              "\n",
              "       [[1, 2, 3],\n",
              "        [4, 5, 6],\n",
              "        [7, 8, 9]]], dtype=int32)>"
            ]
          },
          "metadata": {},
          "execution_count": 22
        }
      ]
    },
    {
      "cell_type": "code",
      "source": [
        "cube.ndim"
      ],
      "metadata": {
        "colab": {
          "base_uri": "https://localhost:8080/"
        },
        "id": "yc2GmTog3y6A",
        "outputId": "bb3d3f26-c487-4237-8362-d17fb8d896be"
      },
      "execution_count": 23,
      "outputs": [
        {
          "output_type": "execute_result",
          "data": {
            "text/plain": [
              "3"
            ]
          },
          "metadata": {},
          "execution_count": 23
        }
      ]
    },
    {
      "cell_type": "markdown",
      "source": [
        "# Creating tensors with `tf.Variable`"
      ],
      "metadata": {
        "id": "5KEZ_7Ia4S9e"
      }
    },
    {
      "cell_type": "code",
      "source": [
        "var_tensor = tf.Variable([1, 2, 3])\n",
        "const_tensor = tf.constant([1, 2, 3])\n",
        "var_tensor, const_tensor"
      ],
      "metadata": {
        "colab": {
          "base_uri": "https://localhost:8080/"
        },
        "id": "DA_18c3Z4W4V",
        "outputId": "41a7f78d-4a1e-422a-a4df-2d6c8693e11c"
      },
      "execution_count": 25,
      "outputs": [
        {
          "output_type": "execute_result",
          "data": {
            "text/plain": [
              "(<tf.Variable 'Variable:0' shape=(3,) dtype=int32, numpy=array([1, 2, 3], dtype=int32)>,\n",
              " <tf.Tensor: shape=(3,), dtype=int32, numpy=array([1, 2, 3], dtype=int32)>)"
            ]
          },
          "metadata": {},
          "execution_count": 25
        }
      ]
    },
    {
      "cell_type": "code",
      "source": [
        "# Changing the values of a variable tensor\n",
        "var_tensor = tf.Variable([2, 3, 4])\n",
        "var_tensor"
      ],
      "metadata": {
        "colab": {
          "base_uri": "https://localhost:8080/"
        },
        "id": "NN3ndQqA4zAn",
        "outputId": "400b4ae6-3b03-4b02-fa7e-5ec594a3ce28"
      },
      "execution_count": 28,
      "outputs": [
        {
          "output_type": "execute_result",
          "data": {
            "text/plain": [
              "<tf.Variable 'Variable:0' shape=(3,) dtype=int32, numpy=array([2, 3, 4], dtype=int32)>"
            ]
          },
          "metadata": {},
          "execution_count": 28
        }
      ]
    },
    {
      "cell_type": "code",
      "source": [
        "var_tensor[0].assign(5)\n",
        "var_tensor"
      ],
      "metadata": {
        "colab": {
          "base_uri": "https://localhost:8080/"
        },
        "id": "q4zZTfv55J_i",
        "outputId": "8667c0cc-ba16-4cd4-efa5-5ac9c5d7def3"
      },
      "execution_count": 29,
      "outputs": [
        {
          "output_type": "execute_result",
          "data": {
            "text/plain": [
              "<tf.Variable 'Variable:0' shape=(3,) dtype=int32, numpy=array([5, 3, 4], dtype=int32)>"
            ]
          },
          "metadata": {},
          "execution_count": 29
        }
      ]
    },
    {
      "cell_type": "code",
      "source": [
        "# This is not valid!\n",
        "const_tensor[0].assign(2)"
      ],
      "metadata": {
        "colab": {
          "base_uri": "https://localhost:8080/",
          "height": 312
        },
        "id": "0xJLtWvq5PdR",
        "outputId": "ae9f9ed6-7bc1-4b0e-d887-3872fd96776c"
      },
      "execution_count": 32,
      "outputs": [
        {
          "output_type": "error",
          "ename": "AttributeError",
          "evalue": "ignored",
          "traceback": [
            "\u001b[0;31m---------------------------------------------------------------------------\u001b[0m",
            "\u001b[0;31mAttributeError\u001b[0m                            Traceback (most recent call last)",
            "\u001b[0;32m<ipython-input-32-66568078b0c4>\u001b[0m in \u001b[0;36m<cell line: 2>\u001b[0;34m()\u001b[0m\n\u001b[1;32m      1\u001b[0m \u001b[0;31m# This is not valid!\u001b[0m\u001b[0;34m\u001b[0m\u001b[0;34m\u001b[0m\u001b[0m\n\u001b[0;32m----> 2\u001b[0;31m \u001b[0mconst_tensor\u001b[0m\u001b[0;34m[\u001b[0m\u001b[0;36m0\u001b[0m\u001b[0;34m]\u001b[0m\u001b[0;34m.\u001b[0m\u001b[0massign\u001b[0m\u001b[0;34m(\u001b[0m\u001b[0;36m2\u001b[0m\u001b[0;34m)\u001b[0m\u001b[0;34m\u001b[0m\u001b[0;34m\u001b[0m\u001b[0m\n\u001b[0m",
            "\u001b[0;32m/usr/local/lib/python3.9/dist-packages/tensorflow/python/framework/ops.py\u001b[0m in \u001b[0;36m__getattr__\u001b[0;34m(self, name)\u001b[0m\n\u001b[1;32m    441\u001b[0m         \u001b[0mnp_config\u001b[0m\u001b[0;34m.\u001b[0m\u001b[0menable_numpy_behavior\u001b[0m\u001b[0;34m(\u001b[0m\u001b[0;34m)\u001b[0m\u001b[0;34m\u001b[0m\u001b[0;34m\u001b[0m\u001b[0m\n\u001b[1;32m    442\u001b[0m       \"\"\")\n\u001b[0;32m--> 443\u001b[0;31m     \u001b[0mself\u001b[0m\u001b[0;34m.\u001b[0m\u001b[0m__getattribute__\u001b[0m\u001b[0;34m(\u001b[0m\u001b[0mname\u001b[0m\u001b[0;34m)\u001b[0m\u001b[0;34m\u001b[0m\u001b[0;34m\u001b[0m\u001b[0m\n\u001b[0m\u001b[1;32m    444\u001b[0m \u001b[0;34m\u001b[0m\u001b[0m\n\u001b[1;32m    445\u001b[0m   \u001b[0;34m@\u001b[0m\u001b[0mstaticmethod\u001b[0m\u001b[0;34m\u001b[0m\u001b[0;34m\u001b[0m\u001b[0m\n",
            "\u001b[0;31mAttributeError\u001b[0m: 'tensorflow.python.framework.ops.EagerTensor' object has no attribute 'assign'"
          ]
        }
      ]
    },
    {
      "cell_type": "code",
      "source": [
        "# Creating random tensors\n",
        "random_tensor1 = tf.random.Generator.from_seed(123)\n",
        "random_tensor2 = tf.random.Generator.from_seed(12)\n",
        "random_tensor3 = tf.random.normal(shape=(3, 1))\n",
        "random_tensor1, random_tensor2, random_tensor3"
      ],
      "metadata": {
        "colab": {
          "base_uri": "https://localhost:8080/"
        },
        "id": "5M540Omg8kaQ",
        "outputId": "ac0ad1c3-83a7-4015-d30f-a41732088961"
      },
      "execution_count": 69,
      "outputs": [
        {
          "output_type": "execute_result",
          "data": {
            "text/plain": [
              "(<tensorflow.python.ops.stateful_random_ops.Generator at 0x7f4ed944da90>,\n",
              " <tensorflow.python.ops.stateful_random_ops.Generator at 0x7f4ed944d6d0>,\n",
              " <tf.Tensor: shape=(3, 1), dtype=float32, numpy=\n",
              " array([[ 1.348417  ],\n",
              "        [-0.12459903],\n",
              "        [ 0.60070825]], dtype=float32)>)"
            ]
          },
          "metadata": {},
          "execution_count": 69
        }
      ]
    },
    {
      "cell_type": "markdown",
      "source": [
        "# Shuffling the order of elements in a tensor"
      ],
      "metadata": {
        "id": "KFw80sJwBPTI"
      }
    },
    {
      "cell_type": "code",
      "source": [
        "# Shuffling is useful for mixing up the ordering of the data (to make it pseudorandom)\n",
        "not_shuffled = tf.random.normal(shape=(3, 1))\n",
        "shuffled = tf.random.shuffle(not_shuffled)\n",
        "not_shuffled, shuffled"
      ],
      "metadata": {
        "colab": {
          "base_uri": "https://localhost:8080/"
        },
        "id": "HD0OeApEBiXR",
        "outputId": "fa30b20d-820a-42b4-ba18-11321b864cb1"
      },
      "execution_count": 73,
      "outputs": [
        {
          "output_type": "execute_result",
          "data": {
            "text/plain": [
              "(<tf.Tensor: shape=(3, 1), dtype=float32, numpy=\n",
              " array([[ 1.467166  ],\n",
              "        [ 0.6717987 ],\n",
              "        [-0.85239375]], dtype=float32)>,\n",
              " <tf.Tensor: shape=(3, 1), dtype=float32, numpy=\n",
              " array([[-0.85239375],\n",
              "        [ 0.6717987 ],\n",
              "        [ 1.467166  ]], dtype=float32)>)"
            ]
          },
          "metadata": {},
          "execution_count": 73
        }
      ]
    },
    {
      "cell_type": "markdown",
      "source": [
        "# Creating tensors filled with certain data"
      ],
      "metadata": {
        "id": "YAq-JYDYFBVi"
      }
    },
    {
      "cell_type": "code",
      "source": [
        "# Create a tensor filled with ones\n",
        "tf.ones((4, 1))"
      ],
      "metadata": {
        "colab": {
          "base_uri": "https://localhost:8080/"
        },
        "id": "wfL_5FLhFGLK",
        "outputId": "65b60b24-41ca-4832-9d48-8da6f88698f8"
      },
      "execution_count": 75,
      "outputs": [
        {
          "output_type": "execute_result",
          "data": {
            "text/plain": [
              "<tf.Tensor: shape=(4, 1), dtype=float32, numpy=\n",
              "array([[1.],\n",
              "       [1.],\n",
              "       [1.],\n",
              "       [1.]], dtype=float32)>"
            ]
          },
          "metadata": {},
          "execution_count": 75
        }
      ]
    },
    {
      "cell_type": "code",
      "source": [
        "# Create a tensor filled with zeroes\n",
        "tf.zeros(shape=(3, 3))"
      ],
      "metadata": {
        "colab": {
          "base_uri": "https://localhost:8080/"
        },
        "id": "7uaCtD4TFUQ1",
        "outputId": "547602f0-6056-4032-a6a4-78bf8411bc2a"
      },
      "execution_count": 76,
      "outputs": [
        {
          "output_type": "execute_result",
          "data": {
            "text/plain": [
              "<tf.Tensor: shape=(3, 3), dtype=float32, numpy=\n",
              "array([[0., 0., 0.],\n",
              "       [0., 0., 0.],\n",
              "       [0., 0., 0.]], dtype=float32)>"
            ]
          },
          "metadata": {},
          "execution_count": 76
        }
      ]
    },
    {
      "cell_type": "code",
      "source": [
        "# Turn numpy arrays into tensors\n",
        "# Tensors can be run in a GPU, unlike numpy arrays\n",
        "import numpy as np\n",
        "numpy_A = np.arange(1, 25, dtype=np.int32)  # create a NumPy array with values [1, 25)\n",
        "numpy_A"
      ],
      "metadata": {
        "colab": {
          "base_uri": "https://localhost:8080/"
        },
        "id": "XPDIfngTFI2T",
        "outputId": "5a7be07b-e9ae-4aeb-8550-385762304995"
      },
      "execution_count": 79,
      "outputs": [
        {
          "output_type": "execute_result",
          "data": {
            "text/plain": [
              "array([ 1,  2,  3,  4,  5,  6,  7,  8,  9, 10, 11, 12, 13, 14, 15, 16, 17,\n",
              "       18, 19, 20, 21, 22, 23, 24], dtype=int32)"
            ]
          },
          "metadata": {},
          "execution_count": 79
        }
      ]
    },
    {
      "cell_type": "code",
      "source": [
        "# Convert the numpy array into a tensor by passing it into the constructor method (takes a tensor-like object)\n",
        "A = tf.constant(numpy_A)\n",
        "A"
      ],
      "metadata": {
        "colab": {
          "base_uri": "https://localhost:8080/"
        },
        "id": "VeFkBS5NGQUK",
        "outputId": "6d42450f-af3d-4fe1-a940-0258c675cd6a"
      },
      "execution_count": 82,
      "outputs": [
        {
          "output_type": "execute_result",
          "data": {
            "text/plain": [
              "<tf.Tensor: shape=(24,), dtype=int32, numpy=\n",
              "array([ 1,  2,  3,  4,  5,  6,  7,  8,  9, 10, 11, 12, 13, 14, 15, 16, 17,\n",
              "       18, 19, 20, 21, 22, 23, 24], dtype=int32)>"
            ]
          },
          "metadata": {},
          "execution_count": 82
        }
      ]
    },
    {
      "cell_type": "code",
      "source": [
        "# We can change the shape of the data without changing the data itself\n",
        "B = tf.constant(numpy_A, shape=(3, 4, 2))  # This only works if multiplying the dimensions equals 24\n",
        "B"
      ],
      "metadata": {
        "colab": {
          "base_uri": "https://localhost:8080/"
        },
        "id": "dardpdQTGWJB",
        "outputId": "89a4fa4e-55e7-4cf5-b399-497aeb11cc93"
      },
      "execution_count": 85,
      "outputs": [
        {
          "output_type": "execute_result",
          "data": {
            "text/plain": [
              "<tf.Tensor: shape=(3, 4, 2), dtype=int32, numpy=\n",
              "array([[[ 1,  2],\n",
              "        [ 3,  4],\n",
              "        [ 5,  6],\n",
              "        [ 7,  8]],\n",
              "\n",
              "       [[ 9, 10],\n",
              "        [11, 12],\n",
              "        [13, 14],\n",
              "        [15, 16]],\n",
              "\n",
              "       [[17, 18],\n",
              "        [19, 20],\n",
              "        [21, 22],\n",
              "        [23, 24]]], dtype=int32)>"
            ]
          },
          "metadata": {},
          "execution_count": 85
        }
      ]
    },
    {
      "cell_type": "code",
      "source": [],
      "metadata": {
        "id": "4__1dOivG66W"
      },
      "execution_count": null,
      "outputs": []
    },
    {
      "cell_type": "markdown",
      "source": [
        "# Getting info from tensors:\n",
        "* Shape: The length (number of elements) of each of the dimensions of a tensor\n",
        "  * `tensor.shape`\n",
        "* Rank: The number of tensor dimensions. Scalar -> 0, Vector -> 1, etc.\n",
        "  * `tensor.ndim`\n",
        "* Axis/Dimension: A particular dimension of a tensor.\n",
        "  * `tensor[0]`, `tensor[:,1]`, etc.\n",
        "* Size: The total number of items in the tensor\n",
        "  * `tf.size(tensor)`"
      ],
      "metadata": {
        "id": "M9_SLP3XHxL1"
      }
    },
    {
      "cell_type": "code",
      "source": [
        "# Creating a rank 4 tensor\n",
        "rank4tensor = tf.zeros(shape=[2, 2, 2, 4])\n",
        "rank4tensor"
      ],
      "metadata": {
        "colab": {
          "base_uri": "https://localhost:8080/"
        },
        "id": "YUdijpaqGvm-",
        "outputId": "d6fea258-d8a2-43c3-d55e-accc2a0cc95b"
      },
      "execution_count": 90,
      "outputs": [
        {
          "output_type": "execute_result",
          "data": {
            "text/plain": [
              "<tf.Tensor: shape=(2, 2, 2, 4), dtype=float32, numpy=\n",
              "array([[[[0., 0., 0., 0.],\n",
              "         [0., 0., 0., 0.]],\n",
              "\n",
              "        [[0., 0., 0., 0.],\n",
              "         [0., 0., 0., 0.]]],\n",
              "\n",
              "\n",
              "       [[[0., 0., 0., 0.],\n",
              "         [0., 0., 0., 0.]],\n",
              "\n",
              "        [[0., 0., 0., 0.],\n",
              "         [0., 0., 0., 0.]]]], dtype=float32)>"
            ]
          },
          "metadata": {},
          "execution_count": 90
        }
      ]
    },
    {
      "cell_type": "code",
      "source": [
        "rank4tensor.shape, rank4tensor.ndim, tf.size(rank4tensor)  # Note that tf.size returns a scalar tensor"
      ],
      "metadata": {
        "colab": {
          "base_uri": "https://localhost:8080/"
        },
        "id": "tA5m8gDSJZAv",
        "outputId": "17be2a4c-b443-45ad-b284-1ea5ec0fbc7f"
      },
      "execution_count": 91,
      "outputs": [
        {
          "output_type": "execute_result",
          "data": {
            "text/plain": [
              "(TensorShape([2, 2, 2, 4]), 4, <tf.Tensor: shape=(), dtype=int32, numpy=32>)"
            ]
          },
          "metadata": {},
          "execution_count": 91
        }
      ]
    }
  ]
}