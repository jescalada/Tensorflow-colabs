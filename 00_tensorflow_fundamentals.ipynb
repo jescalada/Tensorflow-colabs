{
  "nbformat": 4,
  "nbformat_minor": 0,
  "metadata": {
    "colab": {
      "provenance": [],
      "collapsed_sections": [
        "L4F5-FtK1L1n",
        "5KEZ_7Ia4S9e",
        "KFw80sJwBPTI"
      ],
      "authorship_tag": "ABX9TyOnk/0FISbMXbP6JGUejpxE",
      "include_colab_link": true
    },
    "kernelspec": {
      "name": "python3",
      "display_name": "Python 3"
    },
    "language_info": {
      "name": "python"
    }
  },
  "cells": [
    {
      "cell_type": "markdown",
      "metadata": {
        "id": "view-in-github",
        "colab_type": "text"
      },
      "source": [
        "<a href=\"https://colab.research.google.com/github/jescalada/Tensorflow-colabs/blob/main/00_tensorflow_fundamentals.ipynb\" target=\"_parent\"><img src=\"https://colab.research.google.com/assets/colab-badge.svg\" alt=\"Open In Colab\"/></a>"
      ]
    },
    {
      "cell_type": "markdown",
      "source": [
        "# In this notebook, we will cover some fundamental concepts of tensors using TensorFlow \n",
        "\n",
        "More specifically, we're going to cover:\n",
        "* Intro to tensors\n",
        "* Getting info from tensors\n",
        "* Manipulating tensors\n",
        "* Tensors and numpy\n",
        "* Using @tf.function\n",
        "* Using GPUs with TF"
      ],
      "metadata": {
        "id": "5Nj7sbe40vwR"
      }
    },
    {
      "cell_type": "markdown",
      "source": [
        "## Intro to tensors"
      ],
      "metadata": {
        "id": "L4F5-FtK1L1n"
      }
    },
    {
      "cell_type": "code",
      "execution_count": 2,
      "metadata": {
        "colab": {
          "base_uri": "https://localhost:8080/"
        },
        "id": "RtggP0640S1U",
        "outputId": "fb247060-0d5b-46a6-bdb8-7ce8ff1622d3"
      },
      "outputs": [
        {
          "output_type": "stream",
          "name": "stdout",
          "text": [
            "2.12.0\n"
          ]
        }
      ],
      "source": [
        "# Import TensorFlow\n",
        "import tensorflow as tf\n",
        "print(tf.__version__)"
      ]
    },
    {
      "cell_type": "code",
      "source": [
        "# Creating tensors with tf.constant()\n",
        "scalar = tf.constant(7)\n",
        "scalar"
      ],
      "metadata": {
        "colab": {
          "base_uri": "https://localhost:8080/"
        },
        "id": "_ENwqrXt1efn",
        "outputId": "b2555312-3360-4a69-fda3-2b90ae475e6d"
      },
      "execution_count": 3,
      "outputs": [
        {
          "output_type": "execute_result",
          "data": {
            "text/plain": [
              "<tf.Tensor: shape=(), dtype=int32, numpy=7>"
            ]
          },
          "metadata": {},
          "execution_count": 3
        }
      ]
    },
    {
      "cell_type": "code",
      "source": [
        "# Check the number of dimensions of a tensor (ndim - number of dimensions)\n",
        "scalar.ndim"
      ],
      "metadata": {
        "colab": {
          "base_uri": "https://localhost:8080/"
        },
        "id": "UAiCcxqq14Ms",
        "outputId": "99a0ffef-5d48-4235-e1f4-bd1f706d74c3"
      },
      "execution_count": 4,
      "outputs": [
        {
          "output_type": "execute_result",
          "data": {
            "text/plain": [
              "0"
            ]
          },
          "metadata": {},
          "execution_count": 4
        }
      ]
    },
    {
      "cell_type": "code",
      "source": [
        "# Create a vector\n",
        "vector = tf.constant([0,0,255,0,255])\n",
        "vector"
      ],
      "metadata": {
        "colab": {
          "base_uri": "https://localhost:8080/"
        },
        "id": "x6NC74zl1-W6",
        "outputId": "336e5044-311a-4898-84a0-715e2705755d"
      },
      "execution_count": 5,
      "outputs": [
        {
          "output_type": "execute_result",
          "data": {
            "text/plain": [
              "<tf.Tensor: shape=(5,), dtype=int32, numpy=array([  0,   0, 255,   0, 255], dtype=int32)>"
            ]
          },
          "metadata": {},
          "execution_count": 5
        }
      ]
    },
    {
      "cell_type": "code",
      "source": [
        "vector.ndim"
      ],
      "metadata": {
        "colab": {
          "base_uri": "https://localhost:8080/"
        },
        "id": "Y3alhsTe2Q_H",
        "outputId": "101af864-c246-44c9-893a-43cb3c431096"
      },
      "execution_count": 6,
      "outputs": [
        {
          "output_type": "execute_result",
          "data": {
            "text/plain": [
              "1"
            ]
          },
          "metadata": {},
          "execution_count": 6
        }
      ]
    },
    {
      "cell_type": "code",
      "source": [
        "matrix = tf.constant([[123, 225],\n",
        "                      [45, 0]])\n",
        "matrix"
      ],
      "metadata": {
        "colab": {
          "base_uri": "https://localhost:8080/"
        },
        "id": "ITDM9MFz2TEr",
        "outputId": "97d67bba-9785-4a45-8733-1be5e902eb50"
      },
      "execution_count": 7,
      "outputs": [
        {
          "output_type": "execute_result",
          "data": {
            "text/plain": [
              "<tf.Tensor: shape=(2, 2), dtype=int32, numpy=\n",
              "array([[123, 225],\n",
              "       [ 45,   0]], dtype=int32)>"
            ]
          },
          "metadata": {},
          "execution_count": 7
        }
      ]
    },
    {
      "cell_type": "code",
      "source": [
        "matrix.ndim"
      ],
      "metadata": {
        "colab": {
          "base_uri": "https://localhost:8080/"
        },
        "id": "pIc_-jbs2dru",
        "outputId": "faf1079c-c306-41e6-b14d-8076e2bbe93b"
      },
      "execution_count": 8,
      "outputs": [
        {
          "output_type": "execute_result",
          "data": {
            "text/plain": [
              "2"
            ]
          },
          "metadata": {},
          "execution_count": 8
        }
      ]
    },
    {
      "cell_type": "code",
      "source": [
        "# Create another matrix\n",
        "matrix_b = tf.constant([[0.99, 0.01],\n",
        "                        [0.05, 0.95]], dtype=tf.float16)\n",
        "matrix_b"
      ],
      "metadata": {
        "colab": {
          "base_uri": "https://localhost:8080/"
        },
        "id": "3cMTGBW_2gac",
        "outputId": "857a2a70-5dee-4999-e098-4578037406b6"
      },
      "execution_count": 9,
      "outputs": [
        {
          "output_type": "execute_result",
          "data": {
            "text/plain": [
              "<tf.Tensor: shape=(2, 2), dtype=float16, numpy=\n",
              "array([[0.99, 0.01],\n",
              "       [0.05, 0.95]], dtype=float16)>"
            ]
          },
          "metadata": {},
          "execution_count": 9
        }
      ]
    },
    {
      "cell_type": "code",
      "source": [
        "matrix_b.ndim"
      ],
      "metadata": {
        "colab": {
          "base_uri": "https://localhost:8080/"
        },
        "id": "I4BVIQLE2u--",
        "outputId": "615c1916-3dd6-4f3f-faec-5c521ac7680e"
      },
      "execution_count": 10,
      "outputs": [
        {
          "output_type": "execute_result",
          "data": {
            "text/plain": [
              "2"
            ]
          },
          "metadata": {},
          "execution_count": 10
        }
      ]
    },
    {
      "cell_type": "code",
      "source": [
        "# Creating a 3-dim tensor\n",
        "cube = tf.constant([[\n",
        "                     [1, 2, 3],\n",
        "                     [4, 5, 6],\n",
        "                     [7, 8, 9]],\n",
        "                    \n",
        "                    [[1, 2, 3],\n",
        "                     [4, 5, 6],\n",
        "                     [7, 8, 9]],\n",
        "                    \n",
        "                    [[1, 2, 3],\n",
        "                     [4, 5, 6],\n",
        "                     [7, 8, 9]]])\n",
        "cube"
      ],
      "metadata": {
        "colab": {
          "base_uri": "https://localhost:8080/"
        },
        "id": "XkR7l_4Z2xTu",
        "outputId": "dd07ba90-ea7c-4a7d-adff-0f03c4c1a849"
      },
      "execution_count": 11,
      "outputs": [
        {
          "output_type": "execute_result",
          "data": {
            "text/plain": [
              "<tf.Tensor: shape=(3, 3, 3), dtype=int32, numpy=\n",
              "array([[[1, 2, 3],\n",
              "        [4, 5, 6],\n",
              "        [7, 8, 9]],\n",
              "\n",
              "       [[1, 2, 3],\n",
              "        [4, 5, 6],\n",
              "        [7, 8, 9]],\n",
              "\n",
              "       [[1, 2, 3],\n",
              "        [4, 5, 6],\n",
              "        [7, 8, 9]]], dtype=int32)>"
            ]
          },
          "metadata": {},
          "execution_count": 11
        }
      ]
    },
    {
      "cell_type": "code",
      "source": [
        "cube.ndim"
      ],
      "metadata": {
        "colab": {
          "base_uri": "https://localhost:8080/"
        },
        "id": "yc2GmTog3y6A",
        "outputId": "8ae1cf0c-8c18-43cf-a3ee-7ff731b8f985"
      },
      "execution_count": 12,
      "outputs": [
        {
          "output_type": "execute_result",
          "data": {
            "text/plain": [
              "3"
            ]
          },
          "metadata": {},
          "execution_count": 12
        }
      ]
    },
    {
      "cell_type": "markdown",
      "source": [
        "# Creating tensors with `tf.Variable`"
      ],
      "metadata": {
        "id": "5KEZ_7Ia4S9e"
      }
    },
    {
      "cell_type": "code",
      "source": [
        "var_tensor = tf.Variable([1, 2, 3])\n",
        "const_tensor = tf.constant([1, 2, 3])\n",
        "var_tensor, const_tensor"
      ],
      "metadata": {
        "colab": {
          "base_uri": "https://localhost:8080/"
        },
        "id": "DA_18c3Z4W4V",
        "outputId": "367ada35-f818-4c28-e860-0240df509b8d"
      },
      "execution_count": 13,
      "outputs": [
        {
          "output_type": "execute_result",
          "data": {
            "text/plain": [
              "(<tf.Variable 'Variable:0' shape=(3,) dtype=int32, numpy=array([1, 2, 3], dtype=int32)>,\n",
              " <tf.Tensor: shape=(3,), dtype=int32, numpy=array([1, 2, 3], dtype=int32)>)"
            ]
          },
          "metadata": {},
          "execution_count": 13
        }
      ]
    },
    {
      "cell_type": "code",
      "source": [
        "# Changing the values of a variable tensor\n",
        "var_tensor = tf.Variable([2, 3, 4])\n",
        "var_tensor"
      ],
      "metadata": {
        "colab": {
          "base_uri": "https://localhost:8080/"
        },
        "id": "NN3ndQqA4zAn",
        "outputId": "03d43a1d-2ee2-476d-cb07-a0b8aad99148"
      },
      "execution_count": 14,
      "outputs": [
        {
          "output_type": "execute_result",
          "data": {
            "text/plain": [
              "<tf.Variable 'Variable:0' shape=(3,) dtype=int32, numpy=array([2, 3, 4], dtype=int32)>"
            ]
          },
          "metadata": {},
          "execution_count": 14
        }
      ]
    },
    {
      "cell_type": "code",
      "source": [
        "var_tensor[0].assign(5)\n",
        "var_tensor"
      ],
      "metadata": {
        "colab": {
          "base_uri": "https://localhost:8080/"
        },
        "id": "q4zZTfv55J_i",
        "outputId": "2f52226d-81be-45d0-bbe1-cfc7a1fa44dc"
      },
      "execution_count": 15,
      "outputs": [
        {
          "output_type": "execute_result",
          "data": {
            "text/plain": [
              "<tf.Variable 'Variable:0' shape=(3,) dtype=int32, numpy=array([5, 3, 4], dtype=int32)>"
            ]
          },
          "metadata": {},
          "execution_count": 15
        }
      ]
    },
    {
      "cell_type": "code",
      "source": [
        "# This is not valid!\n",
        "# const_tensor[0].assign(2)"
      ],
      "metadata": {
        "id": "0xJLtWvq5PdR"
      },
      "execution_count": 17,
      "outputs": []
    },
    {
      "cell_type": "code",
      "source": [
        "# Creating random tensors\n",
        "random_tensor1 = tf.random.Generator.from_seed(123)\n",
        "random_tensor2 = tf.random.Generator.from_seed(12)\n",
        "random_tensor3 = tf.random.normal(shape=(3, 1))\n",
        "random_tensor1, random_tensor2, random_tensor3"
      ],
      "metadata": {
        "colab": {
          "base_uri": "https://localhost:8080/"
        },
        "id": "5M540Omg8kaQ",
        "outputId": "d8e9ff39-229b-4f6f-ed78-a72e94b70cf1"
      },
      "execution_count": 18,
      "outputs": [
        {
          "output_type": "execute_result",
          "data": {
            "text/plain": [
              "(<tensorflow.python.ops.stateful_random_ops.Generator at 0x7f20a496f0a0>,\n",
              " <tensorflow.python.ops.stateful_random_ops.Generator at 0x7f202c315d60>,\n",
              " <tf.Tensor: shape=(3, 1), dtype=float32, numpy=\n",
              " array([[0.39409631],\n",
              "        [0.4177558 ],\n",
              "        [0.35466573]], dtype=float32)>)"
            ]
          },
          "metadata": {},
          "execution_count": 18
        }
      ]
    },
    {
      "cell_type": "markdown",
      "source": [
        "# Shuffling the order of elements in a tensor"
      ],
      "metadata": {
        "id": "KFw80sJwBPTI"
      }
    },
    {
      "cell_type": "code",
      "source": [
        "# Shuffling is useful for mixing up the ordering of the data (to make it pseudorandom)\n",
        "not_shuffled = tf.random.normal(shape=(3, 1))\n",
        "shuffled = tf.random.shuffle(not_shuffled)\n",
        "not_shuffled, shuffled"
      ],
      "metadata": {
        "id": "HD0OeApEBiXR"
      },
      "execution_count": null,
      "outputs": []
    },
    {
      "cell_type": "markdown",
      "source": [
        "# Creating tensors filled with certain data"
      ],
      "metadata": {
        "id": "YAq-JYDYFBVi"
      }
    },
    {
      "cell_type": "code",
      "source": [
        "# Create a tensor filled with ones\n",
        "tf.ones((4, 1))"
      ],
      "metadata": {
        "colab": {
          "base_uri": "https://localhost:8080/"
        },
        "id": "wfL_5FLhFGLK",
        "outputId": "247a8e8a-cef6-49c8-b3f1-df83227ca49d"
      },
      "execution_count": 19,
      "outputs": [
        {
          "output_type": "execute_result",
          "data": {
            "text/plain": [
              "<tf.Tensor: shape=(4, 1), dtype=float32, numpy=\n",
              "array([[1.],\n",
              "       [1.],\n",
              "       [1.],\n",
              "       [1.]], dtype=float32)>"
            ]
          },
          "metadata": {},
          "execution_count": 19
        }
      ]
    },
    {
      "cell_type": "code",
      "source": [
        "# Create a tensor filled with zeroes\n",
        "tf.zeros(shape=(3, 3))"
      ],
      "metadata": {
        "colab": {
          "base_uri": "https://localhost:8080/"
        },
        "id": "7uaCtD4TFUQ1",
        "outputId": "c4c9b12e-95e8-4eb5-c874-f4dd87ced9c0"
      },
      "execution_count": 20,
      "outputs": [
        {
          "output_type": "execute_result",
          "data": {
            "text/plain": [
              "<tf.Tensor: shape=(3, 3), dtype=float32, numpy=\n",
              "array([[0., 0., 0.],\n",
              "       [0., 0., 0.],\n",
              "       [0., 0., 0.]], dtype=float32)>"
            ]
          },
          "metadata": {},
          "execution_count": 20
        }
      ]
    },
    {
      "cell_type": "code",
      "source": [
        "# Turn numpy arrays into tensors\n",
        "# Tensors can be run in a GPU, unlike numpy arrays\n",
        "import numpy as np\n",
        "numpy_A = np.arange(1, 25, dtype=np.int32)  # create a NumPy array with values [1, 25)\n",
        "numpy_A"
      ],
      "metadata": {
        "colab": {
          "base_uri": "https://localhost:8080/"
        },
        "id": "XPDIfngTFI2T",
        "outputId": "92532245-9322-4531-a978-2138f19ecabe"
      },
      "execution_count": 21,
      "outputs": [
        {
          "output_type": "execute_result",
          "data": {
            "text/plain": [
              "array([ 1,  2,  3,  4,  5,  6,  7,  8,  9, 10, 11, 12, 13, 14, 15, 16, 17,\n",
              "       18, 19, 20, 21, 22, 23, 24], dtype=int32)"
            ]
          },
          "metadata": {},
          "execution_count": 21
        }
      ]
    },
    {
      "cell_type": "code",
      "source": [
        "# Convert the numpy array into a tensor by passing it into the constructor method (takes a tensor-like object)\n",
        "A = tf.constant(numpy_A)\n",
        "A"
      ],
      "metadata": {
        "colab": {
          "base_uri": "https://localhost:8080/"
        },
        "id": "VeFkBS5NGQUK",
        "outputId": "e20a689b-0e8e-4fae-d7cd-8c1fc62d082a"
      },
      "execution_count": 22,
      "outputs": [
        {
          "output_type": "execute_result",
          "data": {
            "text/plain": [
              "<tf.Tensor: shape=(24,), dtype=int32, numpy=\n",
              "array([ 1,  2,  3,  4,  5,  6,  7,  8,  9, 10, 11, 12, 13, 14, 15, 16, 17,\n",
              "       18, 19, 20, 21, 22, 23, 24], dtype=int32)>"
            ]
          },
          "metadata": {},
          "execution_count": 22
        }
      ]
    },
    {
      "cell_type": "code",
      "source": [
        "# We can change the shape of the data without changing the data itself\n",
        "B = tf.constant(numpy_A, shape=(3, 4, 2))  # This only works if multiplying the dimensions equals 24\n",
        "B"
      ],
      "metadata": {
        "colab": {
          "base_uri": "https://localhost:8080/"
        },
        "id": "dardpdQTGWJB",
        "outputId": "356ceae0-ad9c-4a15-b172-9d5eed584f34"
      },
      "execution_count": 23,
      "outputs": [
        {
          "output_type": "execute_result",
          "data": {
            "text/plain": [
              "<tf.Tensor: shape=(3, 4, 2), dtype=int32, numpy=\n",
              "array([[[ 1,  2],\n",
              "        [ 3,  4],\n",
              "        [ 5,  6],\n",
              "        [ 7,  8]],\n",
              "\n",
              "       [[ 9, 10],\n",
              "        [11, 12],\n",
              "        [13, 14],\n",
              "        [15, 16]],\n",
              "\n",
              "       [[17, 18],\n",
              "        [19, 20],\n",
              "        [21, 22],\n",
              "        [23, 24]]], dtype=int32)>"
            ]
          },
          "metadata": {},
          "execution_count": 23
        }
      ]
    },
    {
      "cell_type": "code",
      "source": [],
      "metadata": {
        "id": "4__1dOivG66W"
      },
      "execution_count": 23,
      "outputs": []
    },
    {
      "cell_type": "markdown",
      "source": [
        "# Getting info from tensors:\n",
        "* Shape: The length (number of elements) of each of the dimensions of a tensor\n",
        "  * `tensor.shape`\n",
        "* Rank: The number of tensor dimensions. Scalar -> 0, Vector -> 1, etc.\n",
        "  * `tensor.ndim`\n",
        "* Axis/Dimension: A particular dimension of a tensor.\n",
        "  * `tensor[0]`, `tensor[:,1]`, etc.\n",
        "* Size: The total number of items in the tensor\n",
        "  * `tf.size(tensor)`"
      ],
      "metadata": {
        "id": "M9_SLP3XHxL1"
      }
    },
    {
      "cell_type": "code",
      "source": [
        "# Creating a rank 4 tensor\n",
        "rank4tensor = tf.zeros(shape=[2, 2, 2, 4])\n",
        "rank4tensor"
      ],
      "metadata": {
        "colab": {
          "base_uri": "https://localhost:8080/"
        },
        "id": "YUdijpaqGvm-",
        "outputId": "b952cbb9-3e59-4a98-d28c-5a2639ed6101"
      },
      "execution_count": 24,
      "outputs": [
        {
          "output_type": "execute_result",
          "data": {
            "text/plain": [
              "<tf.Tensor: shape=(2, 2, 2, 4), dtype=float32, numpy=\n",
              "array([[[[0., 0., 0., 0.],\n",
              "         [0., 0., 0., 0.]],\n",
              "\n",
              "        [[0., 0., 0., 0.],\n",
              "         [0., 0., 0., 0.]]],\n",
              "\n",
              "\n",
              "       [[[0., 0., 0., 0.],\n",
              "         [0., 0., 0., 0.]],\n",
              "\n",
              "        [[0., 0., 0., 0.],\n",
              "         [0., 0., 0., 0.]]]], dtype=float32)>"
            ]
          },
          "metadata": {},
          "execution_count": 24
        }
      ]
    },
    {
      "cell_type": "code",
      "source": [
        "rank4tensor.shape, rank4tensor.ndim, tf.size(rank4tensor)  # Note that tf.size returns a scalar tensor"
      ],
      "metadata": {
        "colab": {
          "base_uri": "https://localhost:8080/"
        },
        "id": "tA5m8gDSJZAv",
        "outputId": "7d07781c-e209-4005-d51a-d52e23e634d6"
      },
      "execution_count": 25,
      "outputs": [
        {
          "output_type": "execute_result",
          "data": {
            "text/plain": [
              "(TensorShape([2, 2, 2, 4]), 4, <tf.Tensor: shape=(), dtype=int32, numpy=32>)"
            ]
          },
          "metadata": {},
          "execution_count": 25
        }
      ]
    },
    {
      "cell_type": "markdown",
      "source": [
        "# Indexing tensors\n",
        "Tensors can be indexed like Python lists:"
      ],
      "metadata": {
        "id": "hEbYwJrVi4A_"
      }
    },
    {
      "cell_type": "code",
      "source": [
        "# Get the first 2 elements of each dimension\n",
        "rank4tensor[:2, :2, :2, :2]"
      ],
      "metadata": {
        "colab": {
          "base_uri": "https://localhost:8080/"
        },
        "id": "FOm6W3eKi9TM",
        "outputId": "a9e90799-aa4d-4aee-f59b-41559361d158"
      },
      "execution_count": 27,
      "outputs": [
        {
          "output_type": "execute_result",
          "data": {
            "text/plain": [
              "<tf.Tensor: shape=(2, 2, 2, 2), dtype=float32, numpy=\n",
              "array([[[[0., 0.],\n",
              "         [0., 0.]],\n",
              "\n",
              "        [[0., 0.],\n",
              "         [0., 0.]]],\n",
              "\n",
              "\n",
              "       [[[0., 0.],\n",
              "         [0., 0.]],\n",
              "\n",
              "        [[0., 0.],\n",
              "         [0., 0.]]]], dtype=float32)>"
            ]
          },
          "metadata": {},
          "execution_count": 27
        }
      ]
    },
    {
      "cell_type": "code",
      "source": [
        "# Get the first elem from each dimension from each index except the final index\n",
        "rank4tensor[0, 0, 0, :]\n",
        "\n",
        "# Create rank 2 tensor\n",
        "rank2tensor = tf.constant([[1, 2],\n",
        "                           [3, 4]])\n",
        "\n",
        "# Get the last item of each row of the tensor:\n",
        "rank2tensor[:, -1]\n"
      ],
      "metadata": {
        "colab": {
          "base_uri": "https://localhost:8080/"
        },
        "id": "CzRyXL7ZjqIm",
        "outputId": "eb5b4d35-cd96-4a7a-8c5a-002054d51c75"
      },
      "execution_count": 44,
      "outputs": [
        {
          "output_type": "execute_result",
          "data": {
            "text/plain": [
              "<tf.Tensor: shape=(2,), dtype=int32, numpy=array([2, 4], dtype=int32)>"
            ]
          },
          "metadata": {},
          "execution_count": 44
        }
      ]
    },
    {
      "cell_type": "code",
      "source": [
        "# Add an extra dimension at the innermost part of the tensor (individual elements)\n",
        "rank3tensor = rank2tensor[..., tf.newaxis]  # Ellipsis is for ignoring all the other dimensions (which we don't know)\n",
        "\n",
        "# Add an extra dimension at the outermost part of the tensor (wraps entire tensor)\n",
        "another_rank3tensor = rank2tensor[tf.newaxis, ...]\n",
        "\n",
        "rank3tensor, another_rank3tensor"
      ],
      "metadata": {
        "colab": {
          "base_uri": "https://localhost:8080/"
        },
        "id": "BbNvhAZ5paKS",
        "outputId": "09fce116-1451-41d8-d61a-ec61bdbe4ffa"
      },
      "execution_count": 47,
      "outputs": [
        {
          "output_type": "execute_result",
          "data": {
            "text/plain": [
              "(<tf.Tensor: shape=(2, 2, 1), dtype=int32, numpy=\n",
              " array([[[1],\n",
              "         [2]],\n",
              " \n",
              "        [[3],\n",
              "         [4]]], dtype=int32)>,\n",
              " <tf.Tensor: shape=(1, 2, 2), dtype=int32, numpy=\n",
              " array([[[1, 2],\n",
              "         [3, 4]]], dtype=int32)>)"
            ]
          },
          "metadata": {},
          "execution_count": 47
        }
      ]
    },
    {
      "cell_type": "code",
      "source": [
        "# Alternative to tf.newaxis\n",
        "tf.expand_dims(rank2tensor, axis=-1)  # Just expands the last element (in this case, axis = 2 which makes it a rank3tensor)"
      ],
      "metadata": {
        "colab": {
          "base_uri": "https://localhost:8080/"
        },
        "id": "EiM4VDbhlCD3",
        "outputId": "23d20850-563d-4f1a-98cb-9ca5e80ce355"
      },
      "execution_count": 52,
      "outputs": [
        {
          "output_type": "execute_result",
          "data": {
            "text/plain": [
              "<tf.Tensor: shape=(2, 2, 1), dtype=int32, numpy=\n",
              "array([[[1],\n",
              "        [2]],\n",
              "\n",
              "       [[3],\n",
              "        [4]]], dtype=int32)>"
            ]
          },
          "metadata": {},
          "execution_count": 52
        }
      ]
    },
    {
      "cell_type": "markdown",
      "source": [
        "# Manipulating Tensors (tensor operations)\n",
        "### Basic Operations\n",
        "`+` `-` `*` `/`"
      ],
      "metadata": {
        "id": "7V_D_GeWswIY"
      }
    },
    {
      "cell_type": "code",
      "source": [
        "tensor = tf.constant([[1, 2],\n",
        "                      [3, 4]])\n",
        "tensor + 10, tensor * 10, tensor - 10, tensor / 10\n"
      ],
      "metadata": {
        "colab": {
          "base_uri": "https://localhost:8080/"
        },
        "id": "7gQv8EvKtOD1",
        "outputId": "31399510-ff4a-4024-e0c7-5d27f536b429"
      },
      "execution_count": 58,
      "outputs": [
        {
          "output_type": "execute_result",
          "data": {
            "text/plain": [
              "(<tf.Tensor: shape=(2, 2), dtype=int32, numpy=\n",
              " array([[11, 12],\n",
              "        [13, 14]], dtype=int32)>,\n",
              " <tf.Tensor: shape=(2, 2), dtype=int32, numpy=\n",
              " array([[10, 20],\n",
              "        [30, 40]], dtype=int32)>,\n",
              " <tf.Tensor: shape=(2, 2), dtype=int32, numpy=\n",
              " array([[-9, -8],\n",
              "        [-7, -6]], dtype=int32)>,\n",
              " <tf.Tensor: shape=(2, 2), dtype=float64, numpy=\n",
              " array([[0.1, 0.2],\n",
              "        [0.3, 0.4]])>)"
            ]
          },
          "metadata": {},
          "execution_count": 58
        }
      ]
    },
    {
      "cell_type": "code",
      "source": [
        "tensor2 = tf.constant([[5, 4],\n",
        "                       [3, 2]])\n",
        "tf.multiply(tensor, tensor2)  # Tensor multiplication is element-wise! NOT like matrix multiplication"
      ],
      "metadata": {
        "colab": {
          "base_uri": "https://localhost:8080/"
        },
        "id": "D-m0FTYquOU6",
        "outputId": "5f43c100-a469-48a1-f36e-7ea4d031b5d1"
      },
      "execution_count": 61,
      "outputs": [
        {
          "output_type": "execute_result",
          "data": {
            "text/plain": [
              "<tf.Tensor: shape=(2, 2), dtype=int32, numpy=\n",
              "array([[5, 8],\n",
              "       [9, 8]], dtype=int32)>"
            ]
          },
          "metadata": {},
          "execution_count": 61
        }
      ]
    },
    {
      "cell_type": "markdown",
      "source": [
        "# Matrix multiplication\n",
        "This is one of the most common operations in Machine Learning"
      ],
      "metadata": {
        "id": "T8-OLWh7u9IZ"
      }
    },
    {
      "cell_type": "code",
      "source": [
        "# Matrix multiplication in tensorflow\n",
        "tf.matmul(tensor, tensor2)"
      ],
      "metadata": {
        "colab": {
          "base_uri": "https://localhost:8080/"
        },
        "id": "aec4inLWvFTj",
        "outputId": "89f42d80-5112-495b-cd6f-bd198aa8912b"
      },
      "execution_count": 64,
      "outputs": [
        {
          "output_type": "execute_result",
          "data": {
            "text/plain": [
              "<tf.Tensor: shape=(2, 2), dtype=int32, numpy=\n",
              "array([[11,  8],\n",
              "       [27, 20]], dtype=int32)>"
            ]
          },
          "metadata": {},
          "execution_count": 64
        }
      ]
    },
    {
      "cell_type": "code",
      "source": [
        "# Create a (3, 2) tensor and a (2, 3) tensor\n",
        "tensor32 = tf.constant([[1, 2],\n",
        "                        [3, 4],\n",
        "                        [5, 6]])\n",
        "\n",
        "tensor23 = tf.constant([[6, 4, 2],\n",
        "                        [5, 3, 1]])\n",
        "\n",
        "tf.matmul(tensor32, tensor23)"
      ],
      "metadata": {
        "colab": {
          "base_uri": "https://localhost:8080/"
        },
        "id": "t6XduY8-xeom",
        "outputId": "943a0054-a27d-4084-b8f3-60dab83030da"
      },
      "execution_count": 65,
      "outputs": [
        {
          "output_type": "execute_result",
          "data": {
            "text/plain": [
              "<tf.Tensor: shape=(3, 3), dtype=int32, numpy=\n",
              "array([[16, 10,  4],\n",
              "       [38, 24, 10],\n",
              "       [60, 38, 16]], dtype=int32)>"
            ]
          },
          "metadata": {},
          "execution_count": 65
        }
      ]
    },
    {
      "cell_type": "markdown",
      "source": [
        "# Aggregating Tensors\n",
        "Aggregating tensors means condensing them from many values to less values"
      ],
      "metadata": {
        "id": "oHhhVCqsGzap"
      }
    },
    {
      "cell_type": "code",
      "source": [
        "# Get absolute values\n",
        "D = tf.constant([-1, -2, 3])\n",
        "tf.abs(D)"
      ],
      "metadata": {
        "colab": {
          "base_uri": "https://localhost:8080/"
        },
        "id": "C3Yudt59G17V",
        "outputId": "a9c8ae6f-6c02-4ef6-e7a0-9210c1867525"
      },
      "execution_count": 69,
      "outputs": [
        {
          "output_type": "execute_result",
          "data": {
            "text/plain": [
              "<tf.Tensor: shape=(3,), dtype=int32, numpy=array([1, 2, 3], dtype=int32)>"
            ]
          },
          "metadata": {},
          "execution_count": 69
        }
      ]
    },
    {
      "cell_type": "markdown",
      "source": [
        "Some forms of aggregation:\n",
        "* Get the minimum\n",
        "* Get the maximum\n",
        "* Get the mean\n",
        "* Get the sum"
      ],
      "metadata": {
        "id": "AGtY6nT3HrgT"
      }
    },
    {
      "cell_type": "code",
      "source": [
        "# Create a random tensor with values in [0, 100) and size 50\n",
        "A = tf.constant(np.random.randint(0, 100, size=50))\n",
        "A"
      ],
      "metadata": {
        "colab": {
          "base_uri": "https://localhost:8080/"
        },
        "id": "GXPka4gPHnj2",
        "outputId": "95212b71-6aa6-4abf-a7e7-6c7704954687"
      },
      "execution_count": 83,
      "outputs": [
        {
          "output_type": "execute_result",
          "data": {
            "text/plain": [
              "<tf.Tensor: shape=(50,), dtype=int64, numpy=\n",
              "array([69, 22,  7, 77, 42, 89, 50, 84,  5, 92, 85, 74, 13, 14, 51, 19, 11,\n",
              "       29, 11, 90, 54, 15, 94, 31, 41, 96, 74, 40, 68, 64,  8, 73, 14, 11,\n",
              "       94, 90,  8, 69, 56, 67, 56, 16, 48, 15, 69, 75, 75,  2, 12, 64])>"
            ]
          },
          "metadata": {},
          "execution_count": 83
        }
      ]
    },
    {
      "cell_type": "code",
      "source": [
        "# Find the minimum, maximum, mean, sum\n",
        "tf.reduce_min(A), tf.reduce_max(A), tf.reduce_mean(A), tf.reduce_sum(A)"
      ],
      "metadata": {
        "colab": {
          "base_uri": "https://localhost:8080/"
        },
        "id": "5ibAlT2AM9S6",
        "outputId": "79afe4de-f12a-46e9-c2bc-25cee6f6e154"
      },
      "execution_count": 86,
      "outputs": [
        {
          "output_type": "execute_result",
          "data": {
            "text/plain": [
              "(<tf.Tensor: shape=(), dtype=int64, numpy=2>,\n",
              " <tf.Tensor: shape=(), dtype=int64, numpy=96>,\n",
              " <tf.Tensor: shape=(), dtype=int64, numpy=48>,\n",
              " <tf.Tensor: shape=(), dtype=int64, numpy=2433>)"
            ]
          },
          "metadata": {},
          "execution_count": 86
        }
      ]
    },
    {
      "cell_type": "code",
      "source": [
        "# Find the variance and SD\n",
        "tf.math.reduce_variance(tf.cast(A, dtype=tf.float64)), tf.math.reduce_std(tf.cast(A, dtype=tf.float64))"
      ],
      "metadata": {
        "colab": {
          "base_uri": "https://localhost:8080/"
        },
        "id": "S7yzeoeuN3j_",
        "outputId": "93b1fe73-5799-4f84-afcb-2508f724a23e"
      },
      "execution_count": 92,
      "outputs": [
        {
          "output_type": "execute_result",
          "data": {
            "text/plain": [
              "(<tf.Tensor: shape=(), dtype=float64, numpy=933.5444000000002>,\n",
              " <tf.Tensor: shape=(), dtype=float64, numpy=30.55395882696709>)"
            ]
          },
          "metadata": {},
          "execution_count": 92
        }
      ]
    },
    {
      "cell_type": "code",
      "source": [
        "# Find the positional maximum and minimum\n",
        "F = tf.random.uniform(shape=[50])\n",
        "F"
      ],
      "metadata": {
        "colab": {
          "base_uri": "https://localhost:8080/"
        },
        "id": "hnrqZGKORqD1",
        "outputId": "e9787a3d-2d19-4608-908b-f49671d12069"
      },
      "execution_count": 95,
      "outputs": [
        {
          "output_type": "execute_result",
          "data": {
            "text/plain": [
              "<tf.Tensor: shape=(50,), dtype=float32, numpy=\n",
              "array([0.14676988, 0.7232603 , 0.18204689, 0.43902743, 0.6842587 ,\n",
              "       0.316671  , 0.17261374, 0.1369518 , 0.2174288 , 0.0693053 ,\n",
              "       0.50952613, 0.35210216, 0.3635081 , 0.06852794, 0.7232897 ,\n",
              "       0.84380496, 0.22489989, 0.60817385, 0.71819687, 0.30754375,\n",
              "       0.16279614, 0.18062782, 0.74387693, 0.17787099, 0.6122345 ,\n",
              "       0.00715911, 0.2142278 , 0.8164208 , 0.5549573 , 0.8607234 ,\n",
              "       0.26226926, 0.5436449 , 0.29853618, 0.83949995, 0.7564573 ,\n",
              "       0.41927183, 0.5199864 , 0.603536  , 0.5770047 , 0.9403254 ,\n",
              "       0.01418662, 0.56805503, 0.69622636, 0.05772936, 0.00203848,\n",
              "       0.74370694, 0.72286975, 0.46832955, 0.24711645, 0.2501638 ],\n",
              "      dtype=float32)>"
            ]
          },
          "metadata": {},
          "execution_count": 95
        }
      ]
    },
    {
      "cell_type": "code",
      "source": [
        "tf.argmax(F), tf.argmin(F), F[tf.argmax(F)], F[tf.argmin(F)]"
      ],
      "metadata": {
        "colab": {
          "base_uri": "https://localhost:8080/"
        },
        "id": "M1QTXOmsTcwf",
        "outputId": "0270e307-1da4-42f5-fbb4-7b7914e6432c"
      },
      "execution_count": 99,
      "outputs": [
        {
          "output_type": "execute_result",
          "data": {
            "text/plain": [
              "(<tf.Tensor: shape=(), dtype=int64, numpy=39>,\n",
              " <tf.Tensor: shape=(), dtype=int64, numpy=44>,\n",
              " <tf.Tensor: shape=(), dtype=float32, numpy=0.9403254>,\n",
              " <tf.Tensor: shape=(), dtype=float32, numpy=0.0020384789>)"
            ]
          },
          "metadata": {},
          "execution_count": 99
        }
      ]
    },
    {
      "cell_type": "code",
      "source": [
        "# Squeezing a tensor\n",
        "G = tf.constant(tf.random.uniform(shape=[50]), shape=(1, 1, 1, 1, 50))\n",
        "G.shape, tf.squeeze(G)"
      ],
      "metadata": {
        "colab": {
          "base_uri": "https://localhost:8080/"
        },
        "id": "3187Qq6qXTGG",
        "outputId": "80319745-2264-4ce2-b892-de299b7f3305"
      },
      "execution_count": 103,
      "outputs": [
        {
          "output_type": "execute_result",
          "data": {
            "text/plain": [
              "(TensorShape([1, 1, 1, 1, 50]),\n",
              " <tf.Tensor: shape=(50,), dtype=float32, numpy=\n",
              " array([0.18519199, 0.6754936 , 0.45471764, 0.9613186 , 0.1188941 ,\n",
              "        0.93939686, 0.3312825 , 0.5516666 , 0.94177926, 0.29517376,\n",
              "        0.04327619, 0.8428967 , 0.03072119, 0.07530308, 0.5240191 ,\n",
              "        0.3037176 , 0.9071194 , 0.23251474, 0.25459564, 0.7868885 ,\n",
              "        0.97144866, 0.9325968 , 0.8594544 , 0.51767576, 0.5289817 ,\n",
              "        0.01091194, 0.5102725 , 0.53005016, 0.84803843, 0.10250258,\n",
              "        0.03762138, 0.38383222, 0.73047125, 0.77642405, 0.78390706,\n",
              "        0.27036572, 0.30315423, 0.12311518, 0.45959675, 0.322438  ,\n",
              "        0.27677464, 0.3673215 , 0.52192795, 0.28925884, 0.42658532,\n",
              "        0.9954796 , 0.2750032 , 0.5388402 , 0.5029489 , 0.20404577],\n",
              "       dtype=float32)>)"
            ]
          },
          "metadata": {},
          "execution_count": 103
        }
      ]
    }
  ]
}