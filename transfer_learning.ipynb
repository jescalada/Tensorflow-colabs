{
  "nbformat": 4,
  "nbformat_minor": 0,
  "metadata": {
    "colab": {
      "provenance": [],
      "gpuType": "T4",
      "authorship_tag": "ABX9TyO0wASeNOrzA4z5jbUHM76T",
      "include_colab_link": true
    },
    "kernelspec": {
      "name": "python3",
      "display_name": "Python 3"
    },
    "language_info": {
      "name": "python"
    },
    "accelerator": "GPU"
  },
  "cells": [
    {
      "cell_type": "markdown",
      "metadata": {
        "id": "view-in-github",
        "colab_type": "text"
      },
      "source": [
        "<a href=\"https://colab.research.google.com/github/jescalada/Tensorflow-colabs/blob/main/transfer_learning.ipynb\" target=\"_parent\"><img src=\"https://colab.research.google.com/assets/colab-badge.svg\" alt=\"Open In Colab\"/></a>"
      ]
    },
    {
      "cell_type": "markdown",
      "source": [
        "# Transfer learning: Feature Extraction\n",
        "We can use a working model's existing architecture and learned patterns.\n",
        "The model needs to have learned on similar data to our own."
      ],
      "metadata": {
        "id": "kGn3bQ7P7kRZ"
      }
    },
    {
      "cell_type": "code",
      "execution_count": null,
      "metadata": {
        "colab": {
          "base_uri": "https://localhost:8080/"
        },
        "id": "Z5_V69qd7gxK",
        "outputId": "421a1d6b-e1b0-46cb-9e80-5663436a4543"
      },
      "outputs": [
        {
          "output_type": "stream",
          "name": "stdout",
          "text": [
            "/bin/bash: nvidia-smi: command not found\n"
          ]
        }
      ],
      "source": [
        "!nvidia-smi"
      ]
    },
    {
      "cell_type": "code",
      "source": [
        "# Get data (10% of 10 food classes from Food101)\n",
        "!wget https://storage.googleapis.com/ztm_tf_course/food_vision/10_food_classes_10_percent.zip"
      ],
      "metadata": {
        "colab": {
          "base_uri": "https://localhost:8080/"
        },
        "id": "AiRFHgP98Ih_",
        "outputId": "dfb5c892-89a9-4104-b57b-c80f1488e1f2"
      },
      "execution_count": 1,
      "outputs": [
        {
          "output_type": "stream",
          "name": "stdout",
          "text": [
            "--2023-09-11 23:50:51--  https://storage.googleapis.com/ztm_tf_course/food_vision/10_food_classes_10_percent.zip\n",
            "Resolving storage.googleapis.com (storage.googleapis.com)... 173.194.74.207, 173.194.192.207, 142.250.152.207, ...\n",
            "Connecting to storage.googleapis.com (storage.googleapis.com)|173.194.74.207|:443... connected.\n",
            "HTTP request sent, awaiting response... 200 OK\n",
            "Length: 168546183 (161M) [application/zip]\n",
            "Saving to: ‘10_food_classes_10_percent.zip’\n",
            "\n",
            "10_food_classes_10_ 100%[===================>] 160.74M   194MB/s    in 0.8s    \n",
            "\n",
            "2023-09-11 23:50:52 (194 MB/s) - ‘10_food_classes_10_percent.zip’ saved [168546183/168546183]\n",
            "\n"
          ]
        }
      ]
    },
    {
      "cell_type": "code",
      "source": [
        "import zipfile\n",
        "\n",
        "zip_ref = zipfile.ZipFile(\"10_food_classes_10_percent.zip\")\n",
        "zip_ref.extractall()\n",
        "zip_ref.close()"
      ],
      "metadata": {
        "id": "-RfG_ZNN9W4P"
      },
      "execution_count": 2,
      "outputs": []
    },
    {
      "cell_type": "code",
      "source": [
        "import os\n",
        "\n",
        "for dirpath, dirnames, filenames in os.walk(\"10_food_classes_10_percent\"):\n",
        "  print(f\"There are {len(dirnames)} directories and {len(filenames)} images in '{dirpath}'\")"
      ],
      "metadata": {
        "colab": {
          "base_uri": "https://localhost:8080/"
        },
        "id": "vSCQt7J89jkT",
        "outputId": "54572b9f-6cdd-48ba-cbe7-91e16ee684a3"
      },
      "execution_count": 3,
      "outputs": [
        {
          "output_type": "stream",
          "name": "stdout",
          "text": [
            "There are 2 directories and 0 images in '10_food_classes_10_percent'\n",
            "There are 10 directories and 0 images in '10_food_classes_10_percent/test'\n",
            "There are 0 directories and 250 images in '10_food_classes_10_percent/test/fried_rice'\n",
            "There are 0 directories and 250 images in '10_food_classes_10_percent/test/chicken_curry'\n",
            "There are 0 directories and 250 images in '10_food_classes_10_percent/test/ramen'\n",
            "There are 0 directories and 250 images in '10_food_classes_10_percent/test/hamburger'\n",
            "There are 0 directories and 250 images in '10_food_classes_10_percent/test/chicken_wings'\n",
            "There are 0 directories and 250 images in '10_food_classes_10_percent/test/sushi'\n",
            "There are 0 directories and 250 images in '10_food_classes_10_percent/test/grilled_salmon'\n",
            "There are 0 directories and 250 images in '10_food_classes_10_percent/test/pizza'\n",
            "There are 0 directories and 250 images in '10_food_classes_10_percent/test/ice_cream'\n",
            "There are 0 directories and 250 images in '10_food_classes_10_percent/test/steak'\n",
            "There are 10 directories and 0 images in '10_food_classes_10_percent/train'\n",
            "There are 0 directories and 75 images in '10_food_classes_10_percent/train/fried_rice'\n",
            "There are 0 directories and 75 images in '10_food_classes_10_percent/train/chicken_curry'\n",
            "There are 0 directories and 75 images in '10_food_classes_10_percent/train/ramen'\n",
            "There are 0 directories and 75 images in '10_food_classes_10_percent/train/hamburger'\n",
            "There are 0 directories and 75 images in '10_food_classes_10_percent/train/chicken_wings'\n",
            "There are 0 directories and 75 images in '10_food_classes_10_percent/train/sushi'\n",
            "There are 0 directories and 75 images in '10_food_classes_10_percent/train/grilled_salmon'\n",
            "There are 0 directories and 75 images in '10_food_classes_10_percent/train/pizza'\n",
            "There are 0 directories and 75 images in '10_food_classes_10_percent/train/ice_cream'\n",
            "There are 0 directories and 75 images in '10_food_classes_10_percent/train/steak'\n"
          ]
        }
      ]
    },
    {
      "cell_type": "code",
      "source": [
        "# Prepare the data\n",
        "\n",
        "from tensorflow.keras.preprocessing.image import ImageDataGenerator\n",
        "\n",
        "IMAGE_SHAPE = (224, 224)\n",
        "BATCH_SIZE = 32\n",
        "EPOCHS = 5\n",
        "\n",
        "train_dir = \"10_food_classes_10_percent/train/\"\n",
        "test_dir = \"10_food_classes_10_percent/test/\"\n",
        "\n",
        "train_datagen = ImageDataGenerator(rescale=1/255.)\n",
        "test_datagen = ImageDataGenerator(rescale=1/255.)\n",
        "\n",
        "train_data_10_percent = train_datagen.flow_from_directory(train_dir,\n",
        "                                                          target_size=IMAGE_SHAPE,\n",
        "                                                          batch_size=BATCH_SIZE,\n",
        "                                                          class_mode=\"categorical\")\n",
        "test_data = test_datagen.flow_from_directory(test_dir,\n",
        "                                             target_size=IMAGE_SHAPE,\n",
        "                                             batch_size=BATCH_SIZE,\n",
        "                                             class_mode=\"categorical\")\n"
      ],
      "metadata": {
        "colab": {
          "base_uri": "https://localhost:8080/"
        },
        "id": "U7rsQMp490YI",
        "outputId": "4397d011-e75f-424e-b6db-17247bd76fb1"
      },
      "execution_count": 4,
      "outputs": [
        {
          "output_type": "stream",
          "name": "stdout",
          "text": [
            "Found 750 images belonging to 10 classes.\n",
            "Found 2500 images belonging to 10 classes.\n"
          ]
        }
      ]
    },
    {
      "cell_type": "markdown",
      "source": [
        "# Setting up callbacks\n",
        "Callbacks are extra functionality you can add to a model to be performed during or after training.  \n",
        "Some popular ones:\n",
        "* Tracking experiments with TensorBoard\n",
        "* Model checkpoints\n",
        "* Early stopping"
      ],
      "metadata": {
        "id": "1n_vRotlH6Lf"
      }
    },
    {
      "cell_type": "code",
      "source": [
        "# Create a TensorBoard callback\n",
        "import datetime\n",
        "\n",
        "def create_tensorboard_callback(dir_name, experiment_name):\n",
        "  log_dir = dir_name + \"/\" + experiment_name + \"/\" + datetime.datetime.now().strftime(\"%Y%m%d %H%M%S\")\n",
        "  tensorboard_callback = tf.keras.callbacks.TensorBoard(log_dir=log_dir)\n",
        "  print(f\"Saving TensorBoard logfiles to: {log_dir}\")\n",
        "  return tensorboard_callback\n"
      ],
      "metadata": {
        "id": "f3-6BxwY796o"
      },
      "execution_count": 15,
      "outputs": []
    },
    {
      "cell_type": "markdown",
      "source": [
        "# Creating models using TensorFlow Hub\n"
      ],
      "metadata": {
        "id": "ehqOtT4DKGR4"
      }
    },
    {
      "cell_type": "code",
      "source": [
        "# Compare ResNet and EfficientNet\n",
        "\n",
        "resnet_url = \"https://tfhub.dev/google/imagenet/resnet_v2_50/feature_vector/4\"\n",
        "\n",
        "efficientnet_url = \"https://tfhub.dev/tensorflow/efficientnet/b0/feature-vector/1\""
      ],
      "metadata": {
        "id": "7QbRddivRft3"
      },
      "execution_count": 9,
      "outputs": []
    },
    {
      "cell_type": "code",
      "source": [
        "# Import dependencies\n",
        "\n",
        "import tensorflow as tf\n",
        "import tensorflow_hub as hub\n",
        "from tensorflow.keras import layers"
      ],
      "metadata": {
        "id": "aKUCyhMsVp3Y"
      },
      "execution_count": 6,
      "outputs": []
    },
    {
      "cell_type": "code",
      "source": [
        "def create_model(model_url: str, num_classes: int=10) -> tf.keras.Sequential:\n",
        "  \"\"\"\n",
        "  Takes a TensorFlow Hub URL and creates a Keras Sequential model with it.\n",
        "\n",
        "  Args:\n",
        "    model_url (str): A TensorFlow Hub feature extraction URL.\n",
        "    num_classes (int): Number of output neurons in the output layer should be\n",
        "      equal to number of target classes, default 10.\n",
        "\n",
        "  Returns:\n",
        "    An uncompiled Keras Sequential model with model_url as feature extractor\n",
        "    layer and Dense output layer with num_classes output neurons.\n",
        "  \"\"\"\n",
        "  # Download pretrained model and save it as a Keras layer\n",
        "  feature_extraction_layer = hub.KerasLayer(model_url,\n",
        "                                           trainable=False,\n",
        "                                           name=\"feature_extraction_layer\",\n",
        "                                           input_shape=IMAGE_SHAPE+(3,))\n",
        "\n",
        "  # Create the model\n",
        "  model = tf.keras.Sequential([\n",
        "      feature_extraction_layer,\n",
        "      layers.Dense(num_classes, activation=\"softmax\", name=\"output_layer\")\n",
        "  ])\n",
        "\n",
        "  return model"
      ],
      "metadata": {
        "id": "5KOFC4OFV-RF"
      },
      "execution_count": 7,
      "outputs": []
    },
    {
      "cell_type": "code",
      "source": [
        "# Create a ResNet model\n",
        "resnet_model = create_model(resnet_url,\n",
        "                            num_classes=train_data_10_percent.num_classes)"
      ],
      "metadata": {
        "id": "KVx3Y8CvXsXN"
      },
      "execution_count": 10,
      "outputs": []
    },
    {
      "cell_type": "code",
      "source": [
        "resnet_model.summary()"
      ],
      "metadata": {
        "colab": {
          "base_uri": "https://localhost:8080/"
        },
        "id": "9Fn56egwYNVY",
        "outputId": "e1986012-a596-4be2-f6a5-9114a7972d04"
      },
      "execution_count": 11,
      "outputs": [
        {
          "output_type": "stream",
          "name": "stdout",
          "text": [
            "Model: \"sequential\"\n",
            "_________________________________________________________________\n",
            " Layer (type)                Output Shape              Param #   \n",
            "=================================================================\n",
            " feature_extraction_layer (  (None, 2048)              23564800  \n",
            " KerasLayer)                                                     \n",
            "                                                                 \n",
            " output_layer (Dense)        (None, 10)                20490     \n",
            "                                                                 \n",
            "=================================================================\n",
            "Total params: 23585290 (89.97 MB)\n",
            "Trainable params: 20490 (80.04 KB)\n",
            "Non-trainable params: 23564800 (89.89 MB)\n",
            "_________________________________________________________________\n"
          ]
        }
      ]
    },
    {
      "cell_type": "code",
      "source": [
        "# Compile the ResNet model\n",
        "\n",
        "resnet_model.compile(loss=\"categorical_crossentropy\",\n",
        "                     optimizer=tf.keras.optimizers.Adam(),\n",
        "                     metrics=[\"accuracy\"])\n",
        "\n",
        "resnet_history = resnet_model.fit(train_data_10_percent,\n",
        "                 epochs=10,\n",
        "                 steps_per_epoch=len(train_data_10_percent),\n",
        "                 validation_data=test_data,\n",
        "                 validation_steps=len(test_data),\n",
        "                 callbacks=[create_tensorboard_callback(dir_name=\"tensorflow_hub\",\n",
        "                                                        experiment_name=\"ResNetV250\")])"
      ],
      "metadata": {
        "colab": {
          "base_uri": "https://localhost:8080/"
        },
        "id": "hrAVV-z6YOtG",
        "outputId": "dd806051-4952-4a5c-f040-e8bbac395964"
      },
      "execution_count": 22,
      "outputs": [
        {
          "output_type": "stream",
          "name": "stdout",
          "text": [
            "Saving TensorBoard logfiles to: tensorflow_hub/ResNetV250/20230912 003719\n",
            "Epoch 1/10\n",
            "24/24 [==============================] - 15s 573ms/step - loss: 0.0769 - accuracy: 0.9920 - val_loss: 0.6368 - val_accuracy: 0.7976\n",
            "Epoch 2/10\n",
            "24/24 [==============================] - 11s 456ms/step - loss: 0.0473 - accuracy: 0.9973 - val_loss: 0.6351 - val_accuracy: 0.7972\n",
            "Epoch 3/10\n",
            "24/24 [==============================] - 11s 471ms/step - loss: 0.0394 - accuracy: 1.0000 - val_loss: 0.6529 - val_accuracy: 0.7976\n",
            "Epoch 4/10\n",
            "24/24 [==============================] - 11s 482ms/step - loss: 0.0319 - accuracy: 1.0000 - val_loss: 0.6452 - val_accuracy: 0.7980\n",
            "Epoch 5/10\n",
            "24/24 [==============================] - 11s 457ms/step - loss: 0.0242 - accuracy: 1.0000 - val_loss: 0.6516 - val_accuracy: 0.7924\n",
            "Epoch 6/10\n",
            "24/24 [==============================] - 10s 446ms/step - loss: 0.0219 - accuracy: 1.0000 - val_loss: 0.6651 - val_accuracy: 0.7964\n",
            "Epoch 7/10\n",
            "24/24 [==============================] - 11s 474ms/step - loss: 0.0181 - accuracy: 1.0000 - val_loss: 0.6592 - val_accuracy: 0.7948\n",
            "Epoch 8/10\n",
            "24/24 [==============================] - 12s 507ms/step - loss: 0.0151 - accuracy: 1.0000 - val_loss: 0.6657 - val_accuracy: 0.7964\n",
            "Epoch 9/10\n",
            "24/24 [==============================] - 11s 470ms/step - loss: 0.0134 - accuracy: 1.0000 - val_loss: 0.6721 - val_accuracy: 0.7976\n",
            "Epoch 10/10\n",
            "24/24 [==============================] - 11s 462ms/step - loss: 0.0119 - accuracy: 1.0000 - val_loss: 0.6774 - val_accuracy: 0.7948\n"
          ]
        }
      ]
    },
    {
      "cell_type": "code",
      "source": [
        "# Create an EfficientNet model\n",
        "efficientnet_model = create_model(efficientnet_url,\n",
        "                            num_classes=train_data_10_percent.num_classes)"
      ],
      "metadata": {
        "id": "JT5gCb0hg_GO"
      },
      "execution_count": 13,
      "outputs": []
    },
    {
      "cell_type": "code",
      "source": [
        "efficientnet_model.summary()"
      ],
      "metadata": {
        "colab": {
          "base_uri": "https://localhost:8080/"
        },
        "id": "160ktuPYhvJN",
        "outputId": "22b50e4b-5ea0-433a-a7c7-d92a2cc734f3"
      },
      "execution_count": null,
      "outputs": [
        {
          "output_type": "stream",
          "name": "stdout",
          "text": [
            "Model: \"sequential_2\"\n",
            "_________________________________________________________________\n",
            " Layer (type)                Output Shape              Param #   \n",
            "=================================================================\n",
            " feature_extraction_layer (K  (None, 1280)             4049564   \n",
            " erasLayer)                                                      \n",
            "                                                                 \n",
            " output_layer (Dense)        (None, 10)                12810     \n",
            "                                                                 \n",
            "=================================================================\n",
            "Total params: 4,062,374\n",
            "Trainable params: 12,810\n",
            "Non-trainable params: 4,049,564\n",
            "_________________________________________________________________\n"
          ]
        }
      ]
    },
    {
      "cell_type": "code",
      "source": [
        "# Compile the EfficientNet model\n",
        "\n",
        "efficientnet_model.compile(loss=\"categorical_crossentropy\",\n",
        "                     optimizer=tf.keras.optimizers.Adam(),\n",
        "                     metrics=[\"accuracy\"])\n",
        "\n",
        "efficientnet_history = efficientnet_model.fit(train_data_10_percent,\n",
        "                       epochs=10,\n",
        "                       steps_per_epoch=len(train_data_10_percent),\n",
        "                       validation_data=test_data,\n",
        "                       validation_steps=len(test_data),\n",
        "                       callbacks=[create_tensorboard_callback(dir_name=\"tensorflow_hub\",\n",
        "                                                              experiment_name=\"EfficientNetB0\")])"
      ],
      "metadata": {
        "colab": {
          "base_uri": "https://localhost:8080/"
        },
        "id": "FNaO75g5hwSZ",
        "outputId": "45589d28-3bda-4400-a24e-f408ea75bbff"
      },
      "execution_count": 23,
      "outputs": [
        {
          "output_type": "stream",
          "name": "stdout",
          "text": [
            "Saving TensorBoard logfiles to: tensorflow_hub/EfficientNetB0/20230912 003913\n",
            "Epoch 1/10\n",
            "24/24 [==============================] - 15s 485ms/step - loss: 0.1632 - accuracy: 0.9773 - val_loss: 0.3907 - val_accuracy: 0.8736\n",
            "Epoch 2/10\n",
            "24/24 [==============================] - 10s 446ms/step - loss: 0.1341 - accuracy: 0.9880 - val_loss: 0.3810 - val_accuracy: 0.8784\n",
            "Epoch 3/10\n",
            "24/24 [==============================] - 10s 432ms/step - loss: 0.1166 - accuracy: 0.9880 - val_loss: 0.3779 - val_accuracy: 0.8772\n",
            "Epoch 4/10\n",
            "24/24 [==============================] - 10s 435ms/step - loss: 0.1015 - accuracy: 0.9933 - val_loss: 0.3759 - val_accuracy: 0.8772\n",
            "Epoch 5/10\n",
            "24/24 [==============================] - 9s 403ms/step - loss: 0.0904 - accuracy: 0.9947 - val_loss: 0.3710 - val_accuracy: 0.8768\n",
            "Epoch 6/10\n",
            "24/24 [==============================] - 10s 443ms/step - loss: 0.0811 - accuracy: 0.9973 - val_loss: 0.3688 - val_accuracy: 0.8792\n",
            "Epoch 7/10\n",
            "24/24 [==============================] - 10s 424ms/step - loss: 0.0726 - accuracy: 1.0000 - val_loss: 0.3699 - val_accuracy: 0.8796\n",
            "Epoch 8/10\n",
            "24/24 [==============================] - 10s 437ms/step - loss: 0.0654 - accuracy: 1.0000 - val_loss: 0.3681 - val_accuracy: 0.8800\n",
            "Epoch 9/10\n",
            "24/24 [==============================] - 10s 429ms/step - loss: 0.0590 - accuracy: 1.0000 - val_loss: 0.3677 - val_accuracy: 0.8792\n",
            "Epoch 10/10\n",
            "24/24 [==============================] - 9s 405ms/step - loss: 0.0537 - accuracy: 1.0000 - val_loss: 0.3647 - val_accuracy: 0.8804\n"
          ]
        }
      ]
    },
    {
      "cell_type": "markdown",
      "source": [
        "# Plotting the loss curves"
      ],
      "metadata": {
        "id": "xc-Gq0m0zQf0"
      }
    },
    {
      "cell_type": "code",
      "source": [
        "import matplotlib.pyplot as plt\n",
        "\n",
        "# Plot the validation and training curves\n",
        "def plot_loss_curves(history):\n",
        "  \"\"\"\n",
        "  Returns separate loss curves for training and validation metrics.\n",
        "  \"\"\"\n",
        "  loss = history.history[\"loss\"]\n",
        "  val_loss = history.history[\"val_loss\"]\n",
        "\n",
        "  accuracy = history.history[\"accuracy\"]\n",
        "  val_accuracy = history.history[\"val_accuracy\"]\n",
        "\n",
        "  epochs = range(len(history.history[\"loss\"]))\n",
        "\n",
        "  # Plot loss\n",
        "  plt.plot(epochs, loss, label=\"training_loss\")\n",
        "  plt.plot(epochs, val_loss, label=\"val_loss\")\n",
        "  plt.title(\"Loss\")\n",
        "  plt.xlabel(\"Epochs\")\n",
        "  plt.legend()\n",
        "\n",
        "  # Plot accuracy\n",
        "  plt.figure()\n",
        "  plt.plot(epochs, accuracy, label=\"training_accuracy\")\n",
        "  plt.plot(epochs, val_accuracy, label=\"val_accuracy\")\n",
        "  plt.title(\"Accuracy\")\n",
        "  plt.xlabel(\"Epochs\")\n",
        "  plt.legend()"
      ],
      "metadata": {
        "id": "wLrgnqMyzTFL"
      },
      "execution_count": 20,
      "outputs": []
    },
    {
      "cell_type": "code",
      "source": [
        "plot_loss_curves(resnet_history)"
      ],
      "metadata": {
        "colab": {
          "base_uri": "https://localhost:8080/",
          "height": 927
        },
        "id": "q19KAuhS0RvB",
        "outputId": "d54983f9-7d9d-48fe-da3d-611f1da39193"
      },
      "execution_count": 24,
      "outputs": [
        {
          "output_type": "display_data",
          "data": {
            "text/plain": [
              "<Figure size 640x480 with 1 Axes>"
            ],
            "image/png": "[encoded data removed]"
          },
          "metadata": {}
        },
        {
          "output_type": "display_data",
          "data": {
            "text/plain": [
              "<Figure size 640x480 with 1 Axes>"
            ],
            "image/png": "[encoded data removed]"
          },
          "metadata": {}
        }
      ]
    },
    {
      "cell_type": "code",
      "source": [
        "plot_loss_curves(efficientnet_history)"
      ],
      "metadata": {
        "colab": {
          "base_uri": "https://localhost:8080/",
          "height": 927
        },
        "id": "fISxIIYr1fY2",
        "outputId": "538b81a2-b109-4d97-c829-7875b6183979"
      },
      "execution_count": 25,
      "outputs": [
        {
          "output_type": "display_data",
          "data": {
            "text/plain": [
              "<Figure size 640x480 with 1 Axes>"
            ],
            "image/png": "[encoded data removed]"
          },
          "metadata": {}
        },
        {
          "output_type": "display_data",
          "data": {
            "text/plain": [
              "<Figure size 640x480 with 1 Axes>"
            ],
            "image/png": "[encoded data removed]"
          },
          "metadata": {}
        }
      ]
    },
    {
      "cell_type": "markdown",
      "source": [
        "## Types of transfer learning\n",
        "\n",
        "* **As-is Transfer Learning**: Using an existing model with no changes\n",
        "* **Feature Extraction Learning**: Using prelearned patterns of another model for your problem\n",
        "* **Fine Tuning Transfer Learning**: Use prelearned patterns and then fine-tune the underlying layers, including new output layers"
      ],
      "metadata": {
        "id": "IoTSZ9rz4P_t"
      }
    },
    {
      "cell_type": "code",
      "source": [],
      "metadata": {
        "id": "uAF69_244wjy"
      },
      "execution_count": null,
      "outputs": []
    }
  ]
}